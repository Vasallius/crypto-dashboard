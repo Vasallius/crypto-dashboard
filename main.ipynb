{
 "cells": [
  {
   "cell_type": "markdown",
   "source": [
    "# Crypto-Dashboard Project\r\n"
   ],
   "metadata": {}
  },
  {
   "cell_type": "code",
   "execution_count": 2,
   "source": [
    "# General Imports\r\n",
    "from binance.client import Client\r\n",
    "import pandas as pd\r\n",
    "import pandas_ta as ta\r\n",
    "import datetime as dt\r\n",
    "from datetime import datetime\r\n",
    "from time import time\r\n",
    "import plotly.express as px\r\n",
    "import plotly.graph_objects as go \r\n",
    "import dash\r\n",
    "from jupyter_dash import JupyterDash\r\n",
    "import dash_core_components as dcc\r\n",
    "import dash_html_components as html\r\n",
    "import dash_daq as daq\r\n",
    "from dotenv import load_dotenv\r\n",
    "import os"
   ],
   "outputs": [],
   "metadata": {}
  },
  {
   "cell_type": "code",
   "execution_count": 3,
   "source": [
    "# API Details\r\n",
    "api_key = os.getenv(\"API_KEY\")\r\n",
    "api_secret = os.getenv(\"API_SECRET\")\r\n",
    "\r\n",
    "load_dotenv()\r\n",
    "\r\n",
    "client = Client(api_key, api_secret)"
   ],
   "outputs": [],
   "metadata": {}
  },
  {
   "cell_type": "code",
   "execution_count": 4,
   "source": [
    "# excluded untradeable tokens\r\n",
    "err_tokens = ['BULL', 'BEAR', 'DOWN', 'UP']\r\n",
    "\r\n",
    "# get all binance supported pairs\r\n",
    "symbols_list = list(info['symbol']\r\n",
    "                    for info in client.get_exchange_info()[\"symbols\"] if (info['symbol'].endswith(\"USDT\") and all(lev not in info['symbol'] for lev in err_tokens)))\r\n",
    "\r\n",
    "sym_length = len(symbols_list)\r\n",
    "\r\n",
    "# get 200 days worth of data (daily and weekly)\r\n",
    "d_start = (dt.datetime.now() - dt.timedelta(days=200)).strftime(\"%m-%d-%Y\")\r\n",
    "d_end = dt.datetime.now().strftime(\"%m-%d-%Y\")\r\n",
    "\r\n",
    "w_start = (dt.datetime.now() - dt.timedelta(days=7)).strftime(\"%m-%d-%Y\")\r\n",
    "w_end = dt.datetime.now().strftime(\"%m-%d-%Y\")\r\n",
    "\r\n",
    "# master_df holds 30 days worth of data and technical indicators\r\n",
    "# quant_df holds respective changes\r\n",
    "\r\n",
    "master_df = pd.DataFrame([])\r\n",
    "quant_df = pd.DataFrame([],columns=[\"Symbol\",\"1D Δ\",\"2D Δ\",\"7D Δ\",\"1W Δ\"])\r\n",
    "sentiment = {\r\n",
    "    'bullish': 0,\r\n",
    "    'bearish': 0\r\n",
    "}\r\n",
    "\r\n",
    "test_df = pd.DataFrame([])"
   ],
   "outputs": [],
   "metadata": {}
  },
  {
   "cell_type": "code",
   "execution_count": 5,
   "source": [
    "err_symbols = []\r\n",
    "for symbol in symbols_list:\r\n",
    "    \r\n",
    "    # binance api call to get ohlcv values\r\n",
    "    d_klines = [[float(num) for num in dta[:6]] for dta in client.get_historical_klines(\r\n",
    "        symbol, Client.KLINE_INTERVAL_1DAY, d_start, d_end)]\r\n",
    "\r\n",
    "    # convert epoch time to readable time\r\n",
    "    for x in d_klines:\r\n",
    "        x[0] = datetime.fromtimestamp(int(x[0]/1000)).strftime(\"%m-%d-%Y\")\r\n",
    "    \r\n",
    "\r\n",
    "    # initialize dataframe and calculate needed indicator values\r\n",
    "    df = pd.DataFrame(\r\n",
    "        d_klines, columns=['date', 'open', 'high', 'low', 'close', 'volume'])\r\n",
    "    df['Symbol'] = symbol\r\n",
    "\r\n",
    "    # some pairs don't have enough data\r\n",
    "    try:\r\n",
    "        rsi = round(df.ta.rsi(length=14), 3)\r\n",
    "        chop = round(df.ta.chop(length=28),3)\r\n",
    "        stoch = df.ta.stoch()\r\n",
    "        ma_20 = round(df.ta.sma(length=20), 4)\r\n",
    "        ma_50 = round(df.ta.sma(length=50), 4)\r\n",
    "        ma_100 = round(df.ta.sma(length=100), 4)\r\n",
    "    except Exception as e:\r\n",
    "        print(symbol, e)\r\n",
    "        continue\r\n",
    "\r\n",
    "    # assign calculated values\r\n",
    "\r\n",
    "    close = df['close']\r\n",
    "     \r\n",
    "    df['RSI(14)'] = rsi\r\n",
    "    df['CHOP(28)'] = chop\r\n",
    "    df['STOCH_K'] = round(stoch['STOCHk_14_3_3'],2)\r\n",
    "    df['STOCH_D'] = round(stoch['STOCHd_14_3_3'],2)\r\n",
    "    df['MA(20)'] = ma_20\r\n",
    "    df['MA(50)'] = ma_50\r\n",
    "    df['MA(100)'] = ma_100\r\n",
    "\r\n",
    "    # boolean series\r\n",
    "    try:\r\n",
    "        bluesky = (close > ma_20) & (ma_20 > ma_50) & (ma_50 > ma_100)\r\n",
    "        retrace = (close < ma_20) & (ma_20 > ma_50) & (ma_50 > ma_100)\r\n",
    "        reset = (ma_20 < ma_50) & (ma_50 > ma_100)\r\n",
    "        reversal = (ma_20 > ma_50) & (ma_50 < ma_100)\r\n",
    "        downtrend = (ma_100 > ma_50) & (ma_50 > ma_20)\r\n",
    "        df['bluesky'] = bluesky\r\n",
    "        df['retrace'] = retrace\r\n",
    "        df['reset'] = reset\r\n",
    "        df['reversal'] = reversal\r\n",
    "        df['downtrend'] = downtrend\r\n",
    "    except Exception as e:\r\n",
    "        print(symbol,e)\r\n",
    "        continue\r\n",
    "\r\n",
    "\r\n",
    "    # assign calculated values\r\n",
    "   \r\n",
    "\r\n",
    "    # get the right week and weekly data\r\n",
    "    w_start = (dt.datetime.now() - dt.timedelta(days=14)).strftime(\"%m-%d-%Y\")\r\n",
    "    w_end = dt.datetime.now().strftime(\"%m-%d-%Y\")\r\n",
    "\r\n",
    "    w_klines = [[float(num) for num in dta[:6]] for dta in client.get_historical_klines(\r\n",
    "        symbol, Client.KLINE_INTERVAL_1WEEK, w_start, w_end)]\r\n",
    "\r\n",
    "    # convert to readable date\r\n",
    "    for week in w_klines:\r\n",
    "        week[0] = datetime.fromtimestamp(int(week[0]/1000)).strftime(\"%m-%d-%Y\")\r\n",
    "\r\n",
    "    wdf = pd.DataFrame(w_klines,columns=['date','open','high','low','close','volume'])\r\n",
    "\r\n",
    "    # calculate changes\r\n",
    "    try:\r\n",
    "        D1chg = (df.iloc[-1].close - df.iloc[-2].open) / df.iloc[-2].open\r\n",
    "        D2chg = (df.iloc[-1].close - df.iloc[-3].open) / df.iloc[-3].open\r\n",
    "        D7chg = (df.iloc[-1].close - df.iloc[-8].open) / df.iloc[-8].open\r\n",
    "\r\n",
    "        weeklydf = pd.DataFrame(w_klines,columns=['date','open','high','low','close','volume'])\r\n",
    "        # make sure to get last week and not this week (e.g. during Mondays)\r\n",
    "        lastweek = wdf[wdf['date'] < w_end].iloc[-1]\r\n",
    "        # whichever is higher weekly open/close\r\n",
    "        weekly_sig_level = lastweek.close if lastweek.close > lastweek.open else lastweek.open\r\n",
    "        Wchg = 0 if weeklydf.empty else (df.iloc[-1].close - weekly_sig_level) / weekly_sig_level\r\n",
    "\r\n",
    "        quant_row = pd.DataFrame([[symbol,D1chg,D2chg,D7chg,Wchg,df.iloc[-1]['RSI(14)']]],columns=[\"Symbol\",\"1D Δ\",\"2D Δ\",\"7D Δ\",\"1W Δ\",\"rsi\"])\r\n",
    "        quant_df = pd.concat([quant_df, quant_row],ignore_index=True)\r\n",
    "    except Exception as e:\r\n",
    "        err_symbols.append(symbol)\r\n",
    "\r\n",
    "    # determine bias\r\n",
    "\r\n",
    "    bias = \"bullish\" if df.iloc[-1]['RSI(14)'] > df.iloc[-1]['CHOP(28)'] else \"bearish\"\r\n",
    "    sentiment[bias] += 1\r\n",
    "\r\n",
    "\r\n",
    "    # only get last 30 trading days for ToT\r\n",
    "    master_df = master_df.append(df.iloc[len(df.index)-30:])\r\n",
    "\r\n",
    "    # master_df = master_df.set_index(\"Symbol\")\r\n",
    "    \r\n",
    "    \r\n"
   ],
   "outputs": [
    {
     "output_type": "stream",
     "name": "stdout",
     "text": [
      "BCCUSDT 'AnalysisIndicators' object has no attribute '_df'\n",
      "VENUSDT 'AnalysisIndicators' object has no attribute '_df'\n",
      "BCHABCUSDT 'AnalysisIndicators' object has no attribute '_df'\n",
      "BCHSVUSDT 'AnalysisIndicators' object has no attribute '_df'\n",
      "USDSUSDT 'AnalysisIndicators' object has no attribute '_df'\n",
      "USDSBUSDT 'AnalysisIndicators' object has no attribute '_df'\n",
      "ERDUSDT 'AnalysisIndicators' object has no attribute '_df'\n",
      "STORMUSDT 'AnalysisIndicators' object has no attribute '_df'\n",
      "HCUSDT 'AnalysisIndicators' object has no attribute '_df'\n",
      "MCOUSDT 'AnalysisIndicators' object has no attribute '_df'\n",
      "STRATUSDT 'AnalysisIndicators' object has no attribute '_df'\n",
      "XZCUSDT 'AnalysisIndicators' object has no attribute '_df'\n",
      "LENDUSDT 'AnalysisIndicators' object has no attribute '_df'\n",
      "BKRWUSDT 'AnalysisIndicators' object has no attribute '_df'\n",
      "DAIUSDT 'AnalysisIndicators' object has no attribute '_df'\n"
     ]
    }
   ],
   "metadata": {}
  },
  {
   "cell_type": "code",
   "execution_count": 6,
   "source": [
    "# Keep track of trends for Trend of Trends\r\n",
    "bluesky = []\r\n",
    "retrace = []\r\n",
    "reset = []\r\n",
    "reversal = []\r\n",
    "downtrend = []\r\n",
    "lacking_data = []"
   ],
   "outputs": [],
   "metadata": {}
  },
  {
   "cell_type": "code",
   "execution_count": 7,
   "source": [
    "# Calculate number of trends per day\r\n",
    "for date in list(master_df[-30:]['date']):\r\n",
    "    current = master_df[master_df['date'] == date]\r\n",
    "    \r\n",
    "    bluesky.append(current['bluesky'].value_counts().get(True)/sym_length if current['bluesky'].value_counts().get(True) != None else 0)\r\n",
    "\r\n",
    "    retrace.append(current['retrace'].value_counts().get(True)/sym_length if current['retrace'].value_counts().get(True) != None else 0)\r\n",
    "\r\n",
    "    reset.append(current['reset'].value_counts().get(True)/sym_length if current['reset'].value_counts().get(True) != None else 0)\r\n",
    "\r\n",
    "    reversal.append(current['reversal'].value_counts().get(True)/sym_length if current['reversal'].value_counts().get(True) != None else 0)\r\n",
    "    \r\n",
    "    downtrend.append(current['downtrend'].value_counts().get(True)/sym_length if current['downtrend'].value_counts().get(True) != None else 0)\r\n",
    "\r\n",
    "        "
   ],
   "outputs": [],
   "metadata": {}
  },
  {
   "cell_type": "code",
   "execution_count": 8,
   "source": [
    "# new function to add when array contains None\r\n",
    "def newsum(arr):\r\n",
    "    if None in arr:\r\n",
    "        arr = list(arr)\r\n",
    "        arr = list(filter(lambda x : x!= None,arr))\r\n",
    "        return sum(arr)\r\n",
    "    else:\r\n",
    "        return sum(arr)\r\n"
   ],
   "outputs": [],
   "metadata": {}
  },
  {
   "cell_type": "code",
   "execution_count": 9,
   "source": [
    "ToT_mapper = {\r\n",
    "    \"bluesky\": \"#60A5FA\",\r\n",
    "    \"retrace\": \"#059669\",\r\n",
    "    \"reset\": \"#F59E0B\",\r\n",
    "    \"reversal\": \"#92400E\",\r\n",
    "    \"downtrend\": \"#DC2626\"\r\n",
    "}\r\n",
    "\r\n",
    "\r\n",
    "# Line Traces\r\n",
    "line_data = []\r\n",
    "dates = master_df['date'].unique()\r\n",
    "for trend,color in ToT_mapper.items():\r\n",
    "    scatter_chart = go.Scatter(\r\n",
    "        x=dates,\r\n",
    "        y=eval(trend),\r\n",
    "        marker_color = color,\r\n",
    "        name=trend,\r\n",
    "        mode=\"lines+markers\"\r\n",
    "    )\r\n",
    "    line_data.append(scatter_chart)\r\n"
   ],
   "outputs": [],
   "metadata": {}
  },
  {
   "cell_type": "code",
   "execution_count": 10,
   "source": [
    "# Trend of Trends Line Graph\r\n",
    "\r\n",
    "line_layout = go.Layout(    \r\n",
    "    margin=dict(\r\n",
    "        l=20,\r\n",
    "        r=20, \r\n",
    "        t=30, \r\n",
    "        b=20\r\n",
    "    ),\r\n",
    "    plot_bgcolor=\"#FFF\",\r\n",
    "    xaxis=dict(\r\n",
    "        visible=False, \r\n",
    "        showgrid=False\r\n",
    "    ),\r\n",
    "    yaxis=dict(\r\n",
    "        tick0=0, \r\n",
    "        dtick=0.25,\r\n",
    "        tickformat=',.0%',\r\n",
    "        showgrid=False,\r\n",
    "        linecolor=\"#BCCCDC\"\r\n",
    "    ),\r\n",
    "    height = 280\r\n",
    ")\r\n",
    "\r\n",
    "\r\n",
    "line_fig = go.Figure(\r\n",
    "    data = line_data,\r\n",
    "    layout = line_layout\r\n",
    ")\r\n",
    "\r\n",
    "line_fig\r\n",
    "\r\n"
   ],
   "outputs": [
    {
     "output_type": "display_data",
     "data": {
      "application/vnd.plotly.v1+json": {
       "config": {
        "plotlyServerURL": "https://plot.ly"
       },
       "data": [
        {
         "marker": {
          "color": "#60A5FA"
         },
         "mode": "lines+markers",
         "name": "bluesky",
         "type": "scatter",
         "x": [
          "07-24-2021",
          "07-25-2021",
          "07-26-2021",
          "07-27-2021",
          "07-28-2021",
          "07-29-2021",
          "07-30-2021",
          "07-31-2021",
          "08-01-2021",
          "08-02-2021",
          "08-03-2021",
          "08-04-2021",
          "08-05-2021",
          "08-06-2021",
          "08-07-2021",
          "08-08-2021",
          "08-09-2021",
          "08-10-2021",
          "08-11-2021",
          "08-12-2021",
          "08-13-2021",
          "08-14-2021",
          "08-15-2021",
          "08-16-2021",
          "08-17-2021",
          "08-18-2021",
          "08-19-2021",
          "08-20-2021",
          "08-21-2021",
          "08-22-2021",
          "03-07-2021",
          "03-08-2021",
          "03-09-2021",
          "03-10-2021",
          "03-11-2021",
          "03-12-2021",
          "03-13-2021",
          "03-14-2021",
          "03-15-2021",
          "03-16-2021",
          "03-17-2021",
          "03-18-2021",
          "03-19-2021",
          "03-20-2021",
          "03-21-2021",
          "03-22-2021",
          "03-23-2021",
          "03-24-2021",
          "03-25-2021",
          "03-26-2021",
          "03-27-2021",
          "03-28-2021",
          "03-29-2021",
          "03-30-2021",
          "03-31-2021",
          "04-01-2021",
          "04-02-2021",
          "04-03-2021",
          "04-04-2021",
          "04-05-2021"
         ],
         "y": [
          0.04460966542750929,
          0.03345724907063197,
          0.03717472118959108,
          0.07806691449814127,
          0.11524163568773234,
          0.1524163568773234,
          0.18587360594795538,
          0.040892193308550186,
          0.040892193308550186,
          0.04460966542750929,
          0.04460966542750929,
          0.03345724907063197,
          0.03717472118959108,
          0.07806691449814127,
          0.11524163568773234,
          0.1524163568773234,
          0.18587360594795538,
          0.07806691449814127,
          0.11524163568773234,
          0.1524163568773234,
          0.18587360594795538,
          0.11524163568773234,
          0.1524163568773234,
          0.18587360594795538,
          0.11524163568773234,
          0.1524163568773234,
          0.18587360594795538,
          0.11524163568773234,
          0.1524163568773234,
          0.18587360594795538
         ]
        },
        {
         "marker": {
          "color": "#059669"
         },
         "mode": "lines+markers",
         "name": "retrace",
         "type": "scatter",
         "x": [
          "07-24-2021",
          "07-25-2021",
          "07-26-2021",
          "07-27-2021",
          "07-28-2021",
          "07-29-2021",
          "07-30-2021",
          "07-31-2021",
          "08-01-2021",
          "08-02-2021",
          "08-03-2021",
          "08-04-2021",
          "08-05-2021",
          "08-06-2021",
          "08-07-2021",
          "08-08-2021",
          "08-09-2021",
          "08-10-2021",
          "08-11-2021",
          "08-12-2021",
          "08-13-2021",
          "08-14-2021",
          "08-15-2021",
          "08-16-2021",
          "08-17-2021",
          "08-18-2021",
          "08-19-2021",
          "08-20-2021",
          "08-21-2021",
          "08-22-2021",
          "03-07-2021",
          "03-08-2021",
          "03-09-2021",
          "03-10-2021",
          "03-11-2021",
          "03-12-2021",
          "03-13-2021",
          "03-14-2021",
          "03-15-2021",
          "03-16-2021",
          "03-17-2021",
          "03-18-2021",
          "03-19-2021",
          "03-20-2021",
          "03-21-2021",
          "03-22-2021",
          "03-23-2021",
          "03-24-2021",
          "03-25-2021",
          "03-26-2021",
          "03-27-2021",
          "03-28-2021",
          "03-29-2021",
          "03-30-2021",
          "03-31-2021",
          "04-01-2021",
          "04-02-2021",
          "04-03-2021",
          "04-04-2021",
          "04-05-2021"
         ],
         "y": [
          0.01858736059479554,
          0.03717472118959108,
          0.040892193308550186,
          0.022304832713754646,
          0.01858736059479554,
          0.01858736059479554,
          0.01486988847583643,
          0,
          0.0037174721189591076,
          0.0037174721189591076,
          0.01858736059479554,
          0.03717472118959108,
          0.040892193308550186,
          0.022304832713754646,
          0.01858736059479554,
          0.01858736059479554,
          0.01486988847583643,
          0.022304832713754646,
          0.01858736059479554,
          0.01858736059479554,
          0.01486988847583643,
          0.01858736059479554,
          0.01858736059479554,
          0.01486988847583643,
          0.01858736059479554,
          0.01858736059479554,
          0.01486988847583643,
          0.01858736059479554,
          0.01858736059479554,
          0.01486988847583643
         ]
        },
        {
         "marker": {
          "color": "#F59E0B"
         },
         "mode": "lines+markers",
         "name": "reset",
         "type": "scatter",
         "x": [
          "07-24-2021",
          "07-25-2021",
          "07-26-2021",
          "07-27-2021",
          "07-28-2021",
          "07-29-2021",
          "07-30-2021",
          "07-31-2021",
          "08-01-2021",
          "08-02-2021",
          "08-03-2021",
          "08-04-2021",
          "08-05-2021",
          "08-06-2021",
          "08-07-2021",
          "08-08-2021",
          "08-09-2021",
          "08-10-2021",
          "08-11-2021",
          "08-12-2021",
          "08-13-2021",
          "08-14-2021",
          "08-15-2021",
          "08-16-2021",
          "08-17-2021",
          "08-18-2021",
          "08-19-2021",
          "08-20-2021",
          "08-21-2021",
          "08-22-2021",
          "03-07-2021",
          "03-08-2021",
          "03-09-2021",
          "03-10-2021",
          "03-11-2021",
          "03-12-2021",
          "03-13-2021",
          "03-14-2021",
          "03-15-2021",
          "03-16-2021",
          "03-17-2021",
          "03-18-2021",
          "03-19-2021",
          "03-20-2021",
          "03-21-2021",
          "03-22-2021",
          "03-23-2021",
          "03-24-2021",
          "03-25-2021",
          "03-26-2021",
          "03-27-2021",
          "03-28-2021",
          "03-29-2021",
          "03-30-2021",
          "03-31-2021",
          "04-01-2021",
          "04-02-2021",
          "04-03-2021",
          "04-04-2021",
          "04-05-2021"
         ],
         "y": [
          0.01858736059479554,
          0.01858736059479554,
          0.01858736059479554,
          0.01858736059479554,
          0.01858736059479554,
          0.01858736059479554,
          0.01858736059479554,
          0.01858736059479554,
          0.01858736059479554,
          0.01858736059479554,
          0.01858736059479554,
          0.01858736059479554,
          0.01858736059479554,
          0.01858736059479554,
          0.01858736059479554,
          0.01858736059479554,
          0.01858736059479554,
          0.01858736059479554,
          0.01858736059479554,
          0.01858736059479554,
          0.01858736059479554,
          0.01858736059479554,
          0.01858736059479554,
          0.01858736059479554,
          0.01858736059479554,
          0.01858736059479554,
          0.01858736059479554,
          0.01858736059479554,
          0.01858736059479554,
          0.01858736059479554
         ]
        },
        {
         "marker": {
          "color": "#92400E"
         },
         "mode": "lines+markers",
         "name": "reversal",
         "type": "scatter",
         "x": [
          "07-24-2021",
          "07-25-2021",
          "07-26-2021",
          "07-27-2021",
          "07-28-2021",
          "07-29-2021",
          "07-30-2021",
          "07-31-2021",
          "08-01-2021",
          "08-02-2021",
          "08-03-2021",
          "08-04-2021",
          "08-05-2021",
          "08-06-2021",
          "08-07-2021",
          "08-08-2021",
          "08-09-2021",
          "08-10-2021",
          "08-11-2021",
          "08-12-2021",
          "08-13-2021",
          "08-14-2021",
          "08-15-2021",
          "08-16-2021",
          "08-17-2021",
          "08-18-2021",
          "08-19-2021",
          "08-20-2021",
          "08-21-2021",
          "08-22-2021",
          "03-07-2021",
          "03-08-2021",
          "03-09-2021",
          "03-10-2021",
          "03-11-2021",
          "03-12-2021",
          "03-13-2021",
          "03-14-2021",
          "03-15-2021",
          "03-16-2021",
          "03-17-2021",
          "03-18-2021",
          "03-19-2021",
          "03-20-2021",
          "03-21-2021",
          "03-22-2021",
          "03-23-2021",
          "03-24-2021",
          "03-25-2021",
          "03-26-2021",
          "03-27-2021",
          "03-28-2021",
          "03-29-2021",
          "03-30-2021",
          "03-31-2021",
          "04-01-2021",
          "04-02-2021",
          "04-03-2021",
          "04-04-2021",
          "04-05-2021"
         ],
         "y": [
          0.7137546468401487,
          0.7100371747211895,
          0.7063197026022305,
          0.6840148698884758,
          0.6505576208178439,
          0.6171003717472119,
          0.5836431226765799,
          0.724907063197026,
          0.724907063197026,
          0.7286245353159851,
          0.7137546468401487,
          0.7100371747211895,
          0.7063197026022305,
          0.6840148698884758,
          0.6505576208178439,
          0.6171003717472119,
          0.5836431226765799,
          0.6840148698884758,
          0.6505576208178439,
          0.6171003717472119,
          0.5836431226765799,
          0.6505576208178439,
          0.6171003717472119,
          0.5836431226765799,
          0.6505576208178439,
          0.6171003717472119,
          0.5836431226765799,
          0.6505576208178439,
          0.6171003717472119,
          0.5836431226765799
         ]
        },
        {
         "marker": {
          "color": "#DC2626"
         },
         "mode": "lines+markers",
         "name": "downtrend",
         "type": "scatter",
         "x": [
          "07-24-2021",
          "07-25-2021",
          "07-26-2021",
          "07-27-2021",
          "07-28-2021",
          "07-29-2021",
          "07-30-2021",
          "07-31-2021",
          "08-01-2021",
          "08-02-2021",
          "08-03-2021",
          "08-04-2021",
          "08-05-2021",
          "08-06-2021",
          "08-07-2021",
          "08-08-2021",
          "08-09-2021",
          "08-10-2021",
          "08-11-2021",
          "08-12-2021",
          "08-13-2021",
          "08-14-2021",
          "08-15-2021",
          "08-16-2021",
          "08-17-2021",
          "08-18-2021",
          "08-19-2021",
          "08-20-2021",
          "08-21-2021",
          "08-22-2021",
          "03-07-2021",
          "03-08-2021",
          "03-09-2021",
          "03-10-2021",
          "03-11-2021",
          "03-12-2021",
          "03-13-2021",
          "03-14-2021",
          "03-15-2021",
          "03-16-2021",
          "03-17-2021",
          "03-18-2021",
          "03-19-2021",
          "03-20-2021",
          "03-21-2021",
          "03-22-2021",
          "03-23-2021",
          "03-24-2021",
          "03-25-2021",
          "03-26-2021",
          "03-27-2021",
          "03-28-2021",
          "03-29-2021",
          "03-30-2021",
          "03-31-2021",
          "04-01-2021",
          "04-02-2021",
          "04-03-2021",
          "04-04-2021",
          "04-05-2021"
         ],
         "y": [
          0.022304832713754646,
          0.01858736059479554,
          0.01858736059479554,
          0.01858736059479554,
          0.01486988847583643,
          0.01486988847583643,
          0.01486988847583643,
          0.02973977695167286,
          0.02973977695167286,
          0.022304832713754646,
          0.022304832713754646,
          0.01858736059479554,
          0.01858736059479554,
          0.01858736059479554,
          0.01486988847583643,
          0.01486988847583643,
          0.01486988847583643,
          0.01858736059479554,
          0.01486988847583643,
          0.01486988847583643,
          0.01486988847583643,
          0.01486988847583643,
          0.01486988847583643,
          0.01486988847583643,
          0.01486988847583643,
          0.01486988847583643,
          0.01486988847583643,
          0.01486988847583643,
          0.01486988847583643,
          0.01486988847583643
         ]
        }
       ],
       "layout": {
        "height": 280,
        "margin": {
         "b": 20,
         "l": 20,
         "r": 20,
         "t": 30
        },
        "plot_bgcolor": "#FFF",
        "template": {
         "data": {
          "bar": [
           {
            "error_x": {
             "color": "#2a3f5f"
            },
            "error_y": {
             "color": "#2a3f5f"
            },
            "marker": {
             "line": {
              "color": "#E5ECF6",
              "width": 0.5
             },
             "pattern": {
              "fillmode": "overlay",
              "size": 10,
              "solidity": 0.2
             }
            },
            "type": "bar"
           }
          ],
          "barpolar": [
           {
            "marker": {
             "line": {
              "color": "#E5ECF6",
              "width": 0.5
             },
             "pattern": {
              "fillmode": "overlay",
              "size": 10,
              "solidity": 0.2
             }
            },
            "type": "barpolar"
           }
          ],
          "carpet": [
           {
            "aaxis": {
             "endlinecolor": "#2a3f5f",
             "gridcolor": "white",
             "linecolor": "white",
             "minorgridcolor": "white",
             "startlinecolor": "#2a3f5f"
            },
            "baxis": {
             "endlinecolor": "#2a3f5f",
             "gridcolor": "white",
             "linecolor": "white",
             "minorgridcolor": "white",
             "startlinecolor": "#2a3f5f"
            },
            "type": "carpet"
           }
          ],
          "choropleth": [
           {
            "colorbar": {
             "outlinewidth": 0,
             "ticks": ""
            },
            "type": "choropleth"
           }
          ],
          "contour": [
           {
            "colorbar": {
             "outlinewidth": 0,
             "ticks": ""
            },
            "colorscale": [
             [
              0,
              "#0d0887"
             ],
             [
              0.1111111111111111,
              "#46039f"
             ],
             [
              0.2222222222222222,
              "#7201a8"
             ],
             [
              0.3333333333333333,
              "#9c179e"
             ],
             [
              0.4444444444444444,
              "#bd3786"
             ],
             [
              0.5555555555555556,
              "#d8576b"
             ],
             [
              0.6666666666666666,
              "#ed7953"
             ],
             [
              0.7777777777777778,
              "#fb9f3a"
             ],
             [
              0.8888888888888888,
              "#fdca26"
             ],
             [
              1,
              "#f0f921"
             ]
            ],
            "type": "contour"
           }
          ],
          "contourcarpet": [
           {
            "colorbar": {
             "outlinewidth": 0,
             "ticks": ""
            },
            "type": "contourcarpet"
           }
          ],
          "heatmap": [
           {
            "colorbar": {
             "outlinewidth": 0,
             "ticks": ""
            },
            "colorscale": [
             [
              0,
              "#0d0887"
             ],
             [
              0.1111111111111111,
              "#46039f"
             ],
             [
              0.2222222222222222,
              "#7201a8"
             ],
             [
              0.3333333333333333,
              "#9c179e"
             ],
             [
              0.4444444444444444,
              "#bd3786"
             ],
             [
              0.5555555555555556,
              "#d8576b"
             ],
             [
              0.6666666666666666,
              "#ed7953"
             ],
             [
              0.7777777777777778,
              "#fb9f3a"
             ],
             [
              0.8888888888888888,
              "#fdca26"
             ],
             [
              1,
              "#f0f921"
             ]
            ],
            "type": "heatmap"
           }
          ],
          "heatmapgl": [
           {
            "colorbar": {
             "outlinewidth": 0,
             "ticks": ""
            },
            "colorscale": [
             [
              0,
              "#0d0887"
             ],
             [
              0.1111111111111111,
              "#46039f"
             ],
             [
              0.2222222222222222,
              "#7201a8"
             ],
             [
              0.3333333333333333,
              "#9c179e"
             ],
             [
              0.4444444444444444,
              "#bd3786"
             ],
             [
              0.5555555555555556,
              "#d8576b"
             ],
             [
              0.6666666666666666,
              "#ed7953"
             ],
             [
              0.7777777777777778,
              "#fb9f3a"
             ],
             [
              0.8888888888888888,
              "#fdca26"
             ],
             [
              1,
              "#f0f921"
             ]
            ],
            "type": "heatmapgl"
           }
          ],
          "histogram": [
           {
            "marker": {
             "pattern": {
              "fillmode": "overlay",
              "size": 10,
              "solidity": 0.2
             }
            },
            "type": "histogram"
           }
          ],
          "histogram2d": [
           {
            "colorbar": {
             "outlinewidth": 0,
             "ticks": ""
            },
            "colorscale": [
             [
              0,
              "#0d0887"
             ],
             [
              0.1111111111111111,
              "#46039f"
             ],
             [
              0.2222222222222222,
              "#7201a8"
             ],
             [
              0.3333333333333333,
              "#9c179e"
             ],
             [
              0.4444444444444444,
              "#bd3786"
             ],
             [
              0.5555555555555556,
              "#d8576b"
             ],
             [
              0.6666666666666666,
              "#ed7953"
             ],
             [
              0.7777777777777778,
              "#fb9f3a"
             ],
             [
              0.8888888888888888,
              "#fdca26"
             ],
             [
              1,
              "#f0f921"
             ]
            ],
            "type": "histogram2d"
           }
          ],
          "histogram2dcontour": [
           {
            "colorbar": {
             "outlinewidth": 0,
             "ticks": ""
            },
            "colorscale": [
             [
              0,
              "#0d0887"
             ],
             [
              0.1111111111111111,
              "#46039f"
             ],
             [
              0.2222222222222222,
              "#7201a8"
             ],
             [
              0.3333333333333333,
              "#9c179e"
             ],
             [
              0.4444444444444444,
              "#bd3786"
             ],
             [
              0.5555555555555556,
              "#d8576b"
             ],
             [
              0.6666666666666666,
              "#ed7953"
             ],
             [
              0.7777777777777778,
              "#fb9f3a"
             ],
             [
              0.8888888888888888,
              "#fdca26"
             ],
             [
              1,
              "#f0f921"
             ]
            ],
            "type": "histogram2dcontour"
           }
          ],
          "mesh3d": [
           {
            "colorbar": {
             "outlinewidth": 0,
             "ticks": ""
            },
            "type": "mesh3d"
           }
          ],
          "parcoords": [
           {
            "line": {
             "colorbar": {
              "outlinewidth": 0,
              "ticks": ""
             }
            },
            "type": "parcoords"
           }
          ],
          "pie": [
           {
            "automargin": true,
            "type": "pie"
           }
          ],
          "scatter": [
           {
            "marker": {
             "colorbar": {
              "outlinewidth": 0,
              "ticks": ""
             }
            },
            "type": "scatter"
           }
          ],
          "scatter3d": [
           {
            "line": {
             "colorbar": {
              "outlinewidth": 0,
              "ticks": ""
             }
            },
            "marker": {
             "colorbar": {
              "outlinewidth": 0,
              "ticks": ""
             }
            },
            "type": "scatter3d"
           }
          ],
          "scattercarpet": [
           {
            "marker": {
             "colorbar": {
              "outlinewidth": 0,
              "ticks": ""
             }
            },
            "type": "scattercarpet"
           }
          ],
          "scattergeo": [
           {
            "marker": {
             "colorbar": {
              "outlinewidth": 0,
              "ticks": ""
             }
            },
            "type": "scattergeo"
           }
          ],
          "scattergl": [
           {
            "marker": {
             "colorbar": {
              "outlinewidth": 0,
              "ticks": ""
             }
            },
            "type": "scattergl"
           }
          ],
          "scattermapbox": [
           {
            "marker": {
             "colorbar": {
              "outlinewidth": 0,
              "ticks": ""
             }
            },
            "type": "scattermapbox"
           }
          ],
          "scatterpolar": [
           {
            "marker": {
             "colorbar": {
              "outlinewidth": 0,
              "ticks": ""
             }
            },
            "type": "scatterpolar"
           }
          ],
          "scatterpolargl": [
           {
            "marker": {
             "colorbar": {
              "outlinewidth": 0,
              "ticks": ""
             }
            },
            "type": "scatterpolargl"
           }
          ],
          "scatterternary": [
           {
            "marker": {
             "colorbar": {
              "outlinewidth": 0,
              "ticks": ""
             }
            },
            "type": "scatterternary"
           }
          ],
          "surface": [
           {
            "colorbar": {
             "outlinewidth": 0,
             "ticks": ""
            },
            "colorscale": [
             [
              0,
              "#0d0887"
             ],
             [
              0.1111111111111111,
              "#46039f"
             ],
             [
              0.2222222222222222,
              "#7201a8"
             ],
             [
              0.3333333333333333,
              "#9c179e"
             ],
             [
              0.4444444444444444,
              "#bd3786"
             ],
             [
              0.5555555555555556,
              "#d8576b"
             ],
             [
              0.6666666666666666,
              "#ed7953"
             ],
             [
              0.7777777777777778,
              "#fb9f3a"
             ],
             [
              0.8888888888888888,
              "#fdca26"
             ],
             [
              1,
              "#f0f921"
             ]
            ],
            "type": "surface"
           }
          ],
          "table": [
           {
            "cells": {
             "fill": {
              "color": "#EBF0F8"
             },
             "line": {
              "color": "white"
             }
            },
            "header": {
             "fill": {
              "color": "#C8D4E3"
             },
             "line": {
              "color": "white"
             }
            },
            "type": "table"
           }
          ]
         },
         "layout": {
          "annotationdefaults": {
           "arrowcolor": "#2a3f5f",
           "arrowhead": 0,
           "arrowwidth": 1
          },
          "autotypenumbers": "strict",
          "coloraxis": {
           "colorbar": {
            "outlinewidth": 0,
            "ticks": ""
           }
          },
          "colorscale": {
           "diverging": [
            [
             0,
             "#8e0152"
            ],
            [
             0.1,
             "#c51b7d"
            ],
            [
             0.2,
             "#de77ae"
            ],
            [
             0.3,
             "#f1b6da"
            ],
            [
             0.4,
             "#fde0ef"
            ],
            [
             0.5,
             "#f7f7f7"
            ],
            [
             0.6,
             "#e6f5d0"
            ],
            [
             0.7,
             "#b8e186"
            ],
            [
             0.8,
             "#7fbc41"
            ],
            [
             0.9,
             "#4d9221"
            ],
            [
             1,
             "#276419"
            ]
           ],
           "sequential": [
            [
             0,
             "#0d0887"
            ],
            [
             0.1111111111111111,
             "#46039f"
            ],
            [
             0.2222222222222222,
             "#7201a8"
            ],
            [
             0.3333333333333333,
             "#9c179e"
            ],
            [
             0.4444444444444444,
             "#bd3786"
            ],
            [
             0.5555555555555556,
             "#d8576b"
            ],
            [
             0.6666666666666666,
             "#ed7953"
            ],
            [
             0.7777777777777778,
             "#fb9f3a"
            ],
            [
             0.8888888888888888,
             "#fdca26"
            ],
            [
             1,
             "#f0f921"
            ]
           ],
           "sequentialminus": [
            [
             0,
             "#0d0887"
            ],
            [
             0.1111111111111111,
             "#46039f"
            ],
            [
             0.2222222222222222,
             "#7201a8"
            ],
            [
             0.3333333333333333,
             "#9c179e"
            ],
            [
             0.4444444444444444,
             "#bd3786"
            ],
            [
             0.5555555555555556,
             "#d8576b"
            ],
            [
             0.6666666666666666,
             "#ed7953"
            ],
            [
             0.7777777777777778,
             "#fb9f3a"
            ],
            [
             0.8888888888888888,
             "#fdca26"
            ],
            [
             1,
             "#f0f921"
            ]
           ]
          },
          "colorway": [
           "#636efa",
           "#EF553B",
           "#00cc96",
           "#ab63fa",
           "#FFA15A",
           "#19d3f3",
           "#FF6692",
           "#B6E880",
           "#FF97FF",
           "#FECB52"
          ],
          "font": {
           "color": "#2a3f5f"
          },
          "geo": {
           "bgcolor": "white",
           "lakecolor": "white",
           "landcolor": "#E5ECF6",
           "showlakes": true,
           "showland": true,
           "subunitcolor": "white"
          },
          "hoverlabel": {
           "align": "left"
          },
          "hovermode": "closest",
          "mapbox": {
           "style": "light"
          },
          "paper_bgcolor": "white",
          "plot_bgcolor": "#E5ECF6",
          "polar": {
           "angularaxis": {
            "gridcolor": "white",
            "linecolor": "white",
            "ticks": ""
           },
           "bgcolor": "#E5ECF6",
           "radialaxis": {
            "gridcolor": "white",
            "linecolor": "white",
            "ticks": ""
           }
          },
          "scene": {
           "xaxis": {
            "backgroundcolor": "#E5ECF6",
            "gridcolor": "white",
            "gridwidth": 2,
            "linecolor": "white",
            "showbackground": true,
            "ticks": "",
            "zerolinecolor": "white"
           },
           "yaxis": {
            "backgroundcolor": "#E5ECF6",
            "gridcolor": "white",
            "gridwidth": 2,
            "linecolor": "white",
            "showbackground": true,
            "ticks": "",
            "zerolinecolor": "white"
           },
           "zaxis": {
            "backgroundcolor": "#E5ECF6",
            "gridcolor": "white",
            "gridwidth": 2,
            "linecolor": "white",
            "showbackground": true,
            "ticks": "",
            "zerolinecolor": "white"
           }
          },
          "shapedefaults": {
           "line": {
            "color": "#2a3f5f"
           }
          },
          "ternary": {
           "aaxis": {
            "gridcolor": "white",
            "linecolor": "white",
            "ticks": ""
           },
           "baxis": {
            "gridcolor": "white",
            "linecolor": "white",
            "ticks": ""
           },
           "bgcolor": "#E5ECF6",
           "caxis": {
            "gridcolor": "white",
            "linecolor": "white",
            "ticks": ""
           }
          },
          "title": {
           "x": 0.05
          },
          "xaxis": {
           "automargin": true,
           "gridcolor": "white",
           "linecolor": "white",
           "ticks": "",
           "title": {
            "standoff": 15
           },
           "zerolinecolor": "white",
           "zerolinewidth": 2
          },
          "yaxis": {
           "automargin": true,
           "gridcolor": "white",
           "linecolor": "white",
           "ticks": "",
           "title": {
            "standoff": 15
           },
           "zerolinecolor": "white",
           "zerolinewidth": 2
          }
         }
        },
        "xaxis": {
         "showgrid": false,
         "visible": false
        },
        "yaxis": {
         "dtick": 0.25,
         "linecolor": "#BCCCDC",
         "showgrid": false,
         "tick0": 0,
         "tickformat": ",.0%"
        }
       }
      }
     },
     "metadata": {}
    }
   ],
   "metadata": {}
  },
  {
   "cell_type": "code",
   "execution_count": 11,
   "source": [
    "# Trend of Trends Pie Graph\r\n",
    "colors = [\"#60A5FA\",\"#059669\",\"#F59E0B\", \"#92400E\", \"#DC2626\"]\r\n",
    "lacking = 1-bluesky[-1]-retrace[-1]-reset[-1]-reversal[-1]-downtrend[-1]\r\n",
    "trends = [\"Uptrend - Blueskies\",\"Uptrend - Retrace\", \"Sideways - Reset\", \"Sideways - Reversal\",\"Downtrend\", \"New / Not Enough Data\"]\r\n",
    "\r\n",
    "pie_trends = [bluesky[-1],retrace[-1],reset[-1],reversal[-1],downtrend[-1],lacking]\r\n",
    "pie_fig = px.pie(names=trends,values=pie_trends)\r\n",
    "pie_fig.update_layout(margin=dict(l=0, r=0, t=0, b=0))\r\n",
    "pie_fig.update_layout(height=280)\r\n",
    "pie_fig.update_traces(hoverinfo='label+percent', textfont_size=16,\r\n",
    "                  marker=dict(colors=colors, line=dict(color='#000000', width=2)))"
   ],
   "outputs": [
    {
     "output_type": "display_data",
     "data": {
      "application/vnd.plotly.v1+json": {
       "config": {
        "plotlyServerURL": "https://plot.ly"
       },
       "data": [
        {
         "domain": {
          "x": [
           0,
           1
          ],
          "y": [
           0,
           1
          ]
         },
         "hoverinfo": "label+percent",
         "hovertemplate": "label=%{label}<br>value=%{value}<extra></extra>",
         "labels": [
          "Uptrend - Blueskies",
          "Uptrend - Retrace",
          "Sideways - Reset",
          "Sideways - Reversal",
          "Downtrend",
          "New / Not Enough Data"
         ],
         "legendgroup": "",
         "marker": {
          "colors": [
           "#60A5FA",
           "#059669",
           "#F59E0B",
           "#92400E",
           "#DC2626"
          ],
          "line": {
           "color": "#000000",
           "width": 2
          }
         },
         "name": "",
         "showlegend": true,
         "textfont": {
          "size": 16
         },
         "type": "pie",
         "values": [
          0.18587360594795538,
          0.01486988847583643,
          0.01858736059479554,
          0.5836431226765799,
          0.01486988847583643,
          0.18215613382899637
         ]
        }
       ],
       "layout": {
        "height": 280,
        "legend": {
         "tracegroupgap": 0
        },
        "margin": {
         "b": 0,
         "l": 0,
         "r": 0,
         "t": 0
        },
        "template": {
         "data": {
          "bar": [
           {
            "error_x": {
             "color": "#2a3f5f"
            },
            "error_y": {
             "color": "#2a3f5f"
            },
            "marker": {
             "line": {
              "color": "#E5ECF6",
              "width": 0.5
             },
             "pattern": {
              "fillmode": "overlay",
              "size": 10,
              "solidity": 0.2
             }
            },
            "type": "bar"
           }
          ],
          "barpolar": [
           {
            "marker": {
             "line": {
              "color": "#E5ECF6",
              "width": 0.5
             },
             "pattern": {
              "fillmode": "overlay",
              "size": 10,
              "solidity": 0.2
             }
            },
            "type": "barpolar"
           }
          ],
          "carpet": [
           {
            "aaxis": {
             "endlinecolor": "#2a3f5f",
             "gridcolor": "white",
             "linecolor": "white",
             "minorgridcolor": "white",
             "startlinecolor": "#2a3f5f"
            },
            "baxis": {
             "endlinecolor": "#2a3f5f",
             "gridcolor": "white",
             "linecolor": "white",
             "minorgridcolor": "white",
             "startlinecolor": "#2a3f5f"
            },
            "type": "carpet"
           }
          ],
          "choropleth": [
           {
            "colorbar": {
             "outlinewidth": 0,
             "ticks": ""
            },
            "type": "choropleth"
           }
          ],
          "contour": [
           {
            "colorbar": {
             "outlinewidth": 0,
             "ticks": ""
            },
            "colorscale": [
             [
              0,
              "#0d0887"
             ],
             [
              0.1111111111111111,
              "#46039f"
             ],
             [
              0.2222222222222222,
              "#7201a8"
             ],
             [
              0.3333333333333333,
              "#9c179e"
             ],
             [
              0.4444444444444444,
              "#bd3786"
             ],
             [
              0.5555555555555556,
              "#d8576b"
             ],
             [
              0.6666666666666666,
              "#ed7953"
             ],
             [
              0.7777777777777778,
              "#fb9f3a"
             ],
             [
              0.8888888888888888,
              "#fdca26"
             ],
             [
              1,
              "#f0f921"
             ]
            ],
            "type": "contour"
           }
          ],
          "contourcarpet": [
           {
            "colorbar": {
             "outlinewidth": 0,
             "ticks": ""
            },
            "type": "contourcarpet"
           }
          ],
          "heatmap": [
           {
            "colorbar": {
             "outlinewidth": 0,
             "ticks": ""
            },
            "colorscale": [
             [
              0,
              "#0d0887"
             ],
             [
              0.1111111111111111,
              "#46039f"
             ],
             [
              0.2222222222222222,
              "#7201a8"
             ],
             [
              0.3333333333333333,
              "#9c179e"
             ],
             [
              0.4444444444444444,
              "#bd3786"
             ],
             [
              0.5555555555555556,
              "#d8576b"
             ],
             [
              0.6666666666666666,
              "#ed7953"
             ],
             [
              0.7777777777777778,
              "#fb9f3a"
             ],
             [
              0.8888888888888888,
              "#fdca26"
             ],
             [
              1,
              "#f0f921"
             ]
            ],
            "type": "heatmap"
           }
          ],
          "heatmapgl": [
           {
            "colorbar": {
             "outlinewidth": 0,
             "ticks": ""
            },
            "colorscale": [
             [
              0,
              "#0d0887"
             ],
             [
              0.1111111111111111,
              "#46039f"
             ],
             [
              0.2222222222222222,
              "#7201a8"
             ],
             [
              0.3333333333333333,
              "#9c179e"
             ],
             [
              0.4444444444444444,
              "#bd3786"
             ],
             [
              0.5555555555555556,
              "#d8576b"
             ],
             [
              0.6666666666666666,
              "#ed7953"
             ],
             [
              0.7777777777777778,
              "#fb9f3a"
             ],
             [
              0.8888888888888888,
              "#fdca26"
             ],
             [
              1,
              "#f0f921"
             ]
            ],
            "type": "heatmapgl"
           }
          ],
          "histogram": [
           {
            "marker": {
             "pattern": {
              "fillmode": "overlay",
              "size": 10,
              "solidity": 0.2
             }
            },
            "type": "histogram"
           }
          ],
          "histogram2d": [
           {
            "colorbar": {
             "outlinewidth": 0,
             "ticks": ""
            },
            "colorscale": [
             [
              0,
              "#0d0887"
             ],
             [
              0.1111111111111111,
              "#46039f"
             ],
             [
              0.2222222222222222,
              "#7201a8"
             ],
             [
              0.3333333333333333,
              "#9c179e"
             ],
             [
              0.4444444444444444,
              "#bd3786"
             ],
             [
              0.5555555555555556,
              "#d8576b"
             ],
             [
              0.6666666666666666,
              "#ed7953"
             ],
             [
              0.7777777777777778,
              "#fb9f3a"
             ],
             [
              0.8888888888888888,
              "#fdca26"
             ],
             [
              1,
              "#f0f921"
             ]
            ],
            "type": "histogram2d"
           }
          ],
          "histogram2dcontour": [
           {
            "colorbar": {
             "outlinewidth": 0,
             "ticks": ""
            },
            "colorscale": [
             [
              0,
              "#0d0887"
             ],
             [
              0.1111111111111111,
              "#46039f"
             ],
             [
              0.2222222222222222,
              "#7201a8"
             ],
             [
              0.3333333333333333,
              "#9c179e"
             ],
             [
              0.4444444444444444,
              "#bd3786"
             ],
             [
              0.5555555555555556,
              "#d8576b"
             ],
             [
              0.6666666666666666,
              "#ed7953"
             ],
             [
              0.7777777777777778,
              "#fb9f3a"
             ],
             [
              0.8888888888888888,
              "#fdca26"
             ],
             [
              1,
              "#f0f921"
             ]
            ],
            "type": "histogram2dcontour"
           }
          ],
          "mesh3d": [
           {
            "colorbar": {
             "outlinewidth": 0,
             "ticks": ""
            },
            "type": "mesh3d"
           }
          ],
          "parcoords": [
           {
            "line": {
             "colorbar": {
              "outlinewidth": 0,
              "ticks": ""
             }
            },
            "type": "parcoords"
           }
          ],
          "pie": [
           {
            "automargin": true,
            "type": "pie"
           }
          ],
          "scatter": [
           {
            "marker": {
             "colorbar": {
              "outlinewidth": 0,
              "ticks": ""
             }
            },
            "type": "scatter"
           }
          ],
          "scatter3d": [
           {
            "line": {
             "colorbar": {
              "outlinewidth": 0,
              "ticks": ""
             }
            },
            "marker": {
             "colorbar": {
              "outlinewidth": 0,
              "ticks": ""
             }
            },
            "type": "scatter3d"
           }
          ],
          "scattercarpet": [
           {
            "marker": {
             "colorbar": {
              "outlinewidth": 0,
              "ticks": ""
             }
            },
            "type": "scattercarpet"
           }
          ],
          "scattergeo": [
           {
            "marker": {
             "colorbar": {
              "outlinewidth": 0,
              "ticks": ""
             }
            },
            "type": "scattergeo"
           }
          ],
          "scattergl": [
           {
            "marker": {
             "colorbar": {
              "outlinewidth": 0,
              "ticks": ""
             }
            },
            "type": "scattergl"
           }
          ],
          "scattermapbox": [
           {
            "marker": {
             "colorbar": {
              "outlinewidth": 0,
              "ticks": ""
             }
            },
            "type": "scattermapbox"
           }
          ],
          "scatterpolar": [
           {
            "marker": {
             "colorbar": {
              "outlinewidth": 0,
              "ticks": ""
             }
            },
            "type": "scatterpolar"
           }
          ],
          "scatterpolargl": [
           {
            "marker": {
             "colorbar": {
              "outlinewidth": 0,
              "ticks": ""
             }
            },
            "type": "scatterpolargl"
           }
          ],
          "scatterternary": [
           {
            "marker": {
             "colorbar": {
              "outlinewidth": 0,
              "ticks": ""
             }
            },
            "type": "scatterternary"
           }
          ],
          "surface": [
           {
            "colorbar": {
             "outlinewidth": 0,
             "ticks": ""
            },
            "colorscale": [
             [
              0,
              "#0d0887"
             ],
             [
              0.1111111111111111,
              "#46039f"
             ],
             [
              0.2222222222222222,
              "#7201a8"
             ],
             [
              0.3333333333333333,
              "#9c179e"
             ],
             [
              0.4444444444444444,
              "#bd3786"
             ],
             [
              0.5555555555555556,
              "#d8576b"
             ],
             [
              0.6666666666666666,
              "#ed7953"
             ],
             [
              0.7777777777777778,
              "#fb9f3a"
             ],
             [
              0.8888888888888888,
              "#fdca26"
             ],
             [
              1,
              "#f0f921"
             ]
            ],
            "type": "surface"
           }
          ],
          "table": [
           {
            "cells": {
             "fill": {
              "color": "#EBF0F8"
             },
             "line": {
              "color": "white"
             }
            },
            "header": {
             "fill": {
              "color": "#C8D4E3"
             },
             "line": {
              "color": "white"
             }
            },
            "type": "table"
           }
          ]
         },
         "layout": {
          "annotationdefaults": {
           "arrowcolor": "#2a3f5f",
           "arrowhead": 0,
           "arrowwidth": 1
          },
          "autotypenumbers": "strict",
          "coloraxis": {
           "colorbar": {
            "outlinewidth": 0,
            "ticks": ""
           }
          },
          "colorscale": {
           "diverging": [
            [
             0,
             "#8e0152"
            ],
            [
             0.1,
             "#c51b7d"
            ],
            [
             0.2,
             "#de77ae"
            ],
            [
             0.3,
             "#f1b6da"
            ],
            [
             0.4,
             "#fde0ef"
            ],
            [
             0.5,
             "#f7f7f7"
            ],
            [
             0.6,
             "#e6f5d0"
            ],
            [
             0.7,
             "#b8e186"
            ],
            [
             0.8,
             "#7fbc41"
            ],
            [
             0.9,
             "#4d9221"
            ],
            [
             1,
             "#276419"
            ]
           ],
           "sequential": [
            [
             0,
             "#0d0887"
            ],
            [
             0.1111111111111111,
             "#46039f"
            ],
            [
             0.2222222222222222,
             "#7201a8"
            ],
            [
             0.3333333333333333,
             "#9c179e"
            ],
            [
             0.4444444444444444,
             "#bd3786"
            ],
            [
             0.5555555555555556,
             "#d8576b"
            ],
            [
             0.6666666666666666,
             "#ed7953"
            ],
            [
             0.7777777777777778,
             "#fb9f3a"
            ],
            [
             0.8888888888888888,
             "#fdca26"
            ],
            [
             1,
             "#f0f921"
            ]
           ],
           "sequentialminus": [
            [
             0,
             "#0d0887"
            ],
            [
             0.1111111111111111,
             "#46039f"
            ],
            [
             0.2222222222222222,
             "#7201a8"
            ],
            [
             0.3333333333333333,
             "#9c179e"
            ],
            [
             0.4444444444444444,
             "#bd3786"
            ],
            [
             0.5555555555555556,
             "#d8576b"
            ],
            [
             0.6666666666666666,
             "#ed7953"
            ],
            [
             0.7777777777777778,
             "#fb9f3a"
            ],
            [
             0.8888888888888888,
             "#fdca26"
            ],
            [
             1,
             "#f0f921"
            ]
           ]
          },
          "colorway": [
           "#636efa",
           "#EF553B",
           "#00cc96",
           "#ab63fa",
           "#FFA15A",
           "#19d3f3",
           "#FF6692",
           "#B6E880",
           "#FF97FF",
           "#FECB52"
          ],
          "font": {
           "color": "#2a3f5f"
          },
          "geo": {
           "bgcolor": "white",
           "lakecolor": "white",
           "landcolor": "#E5ECF6",
           "showlakes": true,
           "showland": true,
           "subunitcolor": "white"
          },
          "hoverlabel": {
           "align": "left"
          },
          "hovermode": "closest",
          "mapbox": {
           "style": "light"
          },
          "paper_bgcolor": "white",
          "plot_bgcolor": "#E5ECF6",
          "polar": {
           "angularaxis": {
            "gridcolor": "white",
            "linecolor": "white",
            "ticks": ""
           },
           "bgcolor": "#E5ECF6",
           "radialaxis": {
            "gridcolor": "white",
            "linecolor": "white",
            "ticks": ""
           }
          },
          "scene": {
           "xaxis": {
            "backgroundcolor": "#E5ECF6",
            "gridcolor": "white",
            "gridwidth": 2,
            "linecolor": "white",
            "showbackground": true,
            "ticks": "",
            "zerolinecolor": "white"
           },
           "yaxis": {
            "backgroundcolor": "#E5ECF6",
            "gridcolor": "white",
            "gridwidth": 2,
            "linecolor": "white",
            "showbackground": true,
            "ticks": "",
            "zerolinecolor": "white"
           },
           "zaxis": {
            "backgroundcolor": "#E5ECF6",
            "gridcolor": "white",
            "gridwidth": 2,
            "linecolor": "white",
            "showbackground": true,
            "ticks": "",
            "zerolinecolor": "white"
           }
          },
          "shapedefaults": {
           "line": {
            "color": "#2a3f5f"
           }
          },
          "ternary": {
           "aaxis": {
            "gridcolor": "white",
            "linecolor": "white",
            "ticks": ""
           },
           "baxis": {
            "gridcolor": "white",
            "linecolor": "white",
            "ticks": ""
           },
           "bgcolor": "#E5ECF6",
           "caxis": {
            "gridcolor": "white",
            "linecolor": "white",
            "ticks": ""
           }
          },
          "title": {
           "x": 0.05
          },
          "xaxis": {
           "automargin": true,
           "gridcolor": "white",
           "linecolor": "white",
           "ticks": "",
           "title": {
            "standoff": 15
           },
           "zerolinecolor": "white",
           "zerolinewidth": 2
          },
          "yaxis": {
           "automargin": true,
           "gridcolor": "white",
           "linecolor": "white",
           "ticks": "",
           "title": {
            "standoff": 15
           },
           "zerolinecolor": "white",
           "zerolinewidth": 2
          }
         }
        }
       }
      }
     },
     "metadata": {}
    }
   ],
   "metadata": {}
  },
  {
   "cell_type": "code",
   "execution_count": 12,
   "source": [
    "twomean = quant_df['2D Δ'].mean()\r\n",
    "twomean"
   ],
   "outputs": [
    {
     "output_type": "execute_result",
     "data": {
      "text/plain": [
       "0.0648909259783923"
      ]
     },
     "metadata": {},
     "execution_count": 12
    }
   ],
   "metadata": {}
  },
  {
   "cell_type": "code",
   "execution_count": 13,
   "source": [
    "sevenmean = quant_df['7D Δ'].mean()"
   ],
   "outputs": [],
   "metadata": {}
  },
  {
   "cell_type": "code",
   "execution_count": 14,
   "source": [
    "revised = quant_df[(quant_df['2D Δ'] > twomean) & (quant_df['7D Δ'] > sevenmean)]\r\n",
    "revised = revised.fillna(0)\r\n",
    "revised.rsi"
   ],
   "outputs": [
    {
     "output_type": "execute_result",
     "data": {
      "text/plain": [
       "6      80.696\n",
       "15     74.126\n",
       "30     70.453\n",
       "31     74.678\n",
       "33     73.985\n",
       "39     71.442\n",
       "40     87.484\n",
       "42     71.307\n",
       "43     82.004\n",
       "44     72.387\n",
       "50     82.045\n",
       "53     68.631\n",
       "54     71.774\n",
       "60     78.423\n",
       "63     70.514\n",
       "67     67.616\n",
       "72     80.343\n",
       "73     83.159\n",
       "75     77.164\n",
       "78     69.884\n",
       "92     83.214\n",
       "94     71.190\n",
       "99     64.798\n",
       "106    69.552\n",
       "122    67.281\n",
       "124    75.549\n",
       "131    85.068\n",
       "135    73.543\n",
       "138    78.599\n",
       "139    72.683\n",
       "144    77.773\n",
       "145    69.237\n",
       "147    67.503\n",
       "148    71.887\n",
       "154    95.686\n",
       "155    74.966\n",
       "156    78.327\n",
       "160    66.220\n",
       "162    79.569\n",
       "164    85.525\n",
       "166    72.874\n",
       "167    67.585\n",
       "168    77.729\n",
       "169    75.376\n",
       "182    75.452\n",
       "191    87.538\n",
       "202    59.022\n",
       "203    64.528\n",
       "206    66.920\n",
       "209    69.230\n",
       "210    69.433\n",
       "213    67.774\n",
       "217    70.384\n",
       "229    70.655\n",
       "233    70.880\n",
       "239    81.465\n",
       "Name: rsi, dtype: float64"
      ]
     },
     "metadata": {},
     "execution_count": 14
    }
   ],
   "metadata": {}
  },
  {
   "cell_type": "code",
   "execution_count": 15,
   "source": [
    "# Quants Scatter Plot\r\n",
    "scatter_fig = px.scatter(revised,x='2D Δ',y='7D Δ',color=\"rsi\",color_continuous_scale=\"Rainbow\")\r\n",
    "scatter_fig.update_traces(\r\n",
    "    mode = \"markers+text\",\r\n",
    "    text = revised['Symbol'],\r\n",
    "    textposition = \"top left\",\r\n",
    "    textfont_size=10,\r\n",
    ")\r\n",
    "scatter_fig.update_layout(\r\n",
    "    xaxis_title=\"2 Day Change\",\r\n",
    "    yaxis_title=\"7 Day Change\",\r\n",
    "    yaxis_visible=True,\r\n",
    "    xaxis_visible=True,\r\n",
    "    xaxis_showgrid=False,\r\n",
    "    yaxis_showgrid=False,\r\n",
    "    plot_bgcolor=\"#FFFFFF\"\r\n",
    ")\r\n",
    "scatter_fig.update_yaxes(tick0=0, dtick=0.25,tickformat=',.0%',)\r\n",
    "scatter_fig.update_xaxes(tick0=0, dtick=0.10,tickformat=',.0%',)\r\n",
    "scatter_fig.update_layout(margin=dict(l=20, r=20, t=30, b=20))\r\n",
    "scatter_fig.update_layout(height=548)\r\n"
   ],
   "outputs": [
    {
     "output_type": "display_data",
     "data": {
      "application/vnd.plotly.v1+json": {
       "config": {
        "plotlyServerURL": "https://plot.ly"
       },
       "data": [
        {
         "hovertemplate": "2D Δ=%{x}<br>7D Δ=%{y}<br>rsi=%{marker.color}<extra></extra>",
         "legendgroup": "",
         "marker": {
          "color": [
           80.696,
           74.126,
           70.453,
           74.678,
           73.985,
           71.442,
           87.484,
           71.307,
           82.004,
           72.387,
           82.045,
           68.631,
           71.774,
           78.423,
           70.514,
           67.616,
           80.343,
           83.159,
           77.164,
           69.884,
           83.214,
           71.19,
           64.798,
           69.552,
           67.281,
           75.549,
           85.068,
           73.543,
           78.599,
           72.683,
           77.773,
           69.237,
           67.503,
           71.887,
           95.686,
           74.966,
           78.327,
           66.22,
           79.569,
           85.525,
           72.874,
           67.585,
           77.729,
           75.376,
           75.452,
           87.538,
           59.022,
           64.528,
           66.92,
           69.23,
           69.433,
           67.774,
           70.384,
           70.655,
           70.88,
           81.465
          ],
          "coloraxis": "coloraxis",
          "symbol": "circle"
         },
         "mode": "markers+text",
         "name": "",
         "orientation": "v",
         "showlegend": false,
         "text": [
          "ADAUSDT",
          "ICXUSDT",
          "ZECUSDT",
          "IOSTUSDT",
          "DASHUSDT",
          "MATICUSDT",
          "ATOMUSDT",
          "ONEUSDT",
          "FTMUSDT",
          "ALGOUSDT",
          "COSUSDT",
          "TOMOUSDT",
          "PERLUSDT",
          "FUNUSDT",
          "BANDUSDT",
          "RENUSDT",
          "KAVAUSDT",
          "ARPAUSDT",
          "RLCUSDT",
          "TROYUSDT",
          "COTIUSDT",
          "WTCUSDT",
          "CHRUSDT",
          "LRCUSDT",
          "BALUSDT",
          "IRISUSDT",
          "OCEANUSDT",
          "RSRUSDT",
          "TRBUSDT",
          "BZRXUSDT",
          "DIAUSDT",
          "RUNEUSDT",
          "UMAUSDT",
          "BELUSDT",
          "AVAXUSDT",
          "HNTUSDT",
          "FLMUSDT",
          "ALPHAUSDT",
          "NEARUSDT",
          "INJUSDT",
          "CTKUSDT",
          "AKROUSDT",
          "AXSUSDT",
          "HARDUSDT",
          "REEFUSDT",
          "TWTUSDT",
          "DEGOUSDT",
          "ALICEUSDT",
          "RAMPUSDT",
          "AUTOUSDT",
          "TKOUSDT",
          "BTGUSDT",
          "BAKEUSDT",
          "ATAUSDT",
          "ERNUSDT",
          "C98USDT"
         ],
         "textfont": {
          "size": 10
         },
         "textposition": "top left",
         "type": "scatter",
         "x": [
          0.07435172668059471,
          0.17445335850243823,
          0.08469630132337984,
          0.18490494656199763,
          0.08684198573829316,
          0.11484138587603272,
          0.2292891501870657,
          0.20122614456639976,
          0.1039048031837346,
          0.13739946380697046,
          0.48247078464106846,
          0.21653313159795043,
          0.1143951833607006,
          0.23547645964771516,
          0.13736331244624653,
          0.08959882171412525,
          0.22767423438504206,
          0.09124336102410475,
          0.09706546275395048,
          0.21105580853542305,
          0.21899062285583593,
          0.25093905246577,
          0.08436004080671741,
          0.1032959668575606,
          0.09037435096764826,
          0.15978183118741057,
          0.21861097380128514,
          0.23314993122420904,
          0.1058926487747958,
          0.13787465940054505,
          0.1557584982242516,
          0.20088275237664105,
          0.12342875679182551,
          0.13261453073108576,
          0.4407725181874532,
          0.1552507095553453,
          0.14569324367595254,
          0.19900065174885936,
          0.2711815305076436,
          0.31373508119741744,
          0.15651950718685828,
          0.13980132450331126,
          0.08571802216790247,
          0.14910141786327105,
          0.21513170361948095,
          0.12995811776299587,
          0.10568785672111787,
          0.2996309606304288,
          0.07665394402035626,
          0.14807349927777214,
          0.06982680036463082,
          0.13300995259175535,
          0.17336539562578732,
          0.21739824138420083,
          0.07097149505526482,
          0.7169574303885173
         ],
         "xaxis": "x",
         "y": [
          0.19890285714285705,
          0.19322358957967076,
          0.10296045821544418,
          0.14784839507681025,
          0.20240188935229386,
          0.1374346094606407,
          0.47814910025706936,
          0.24060457516339884,
          0.6582420834566443,
          0.2738873994638069,
          0.45177111716621243,
          0.19848233341237834,
          0.13451465507634008,
          0.4618969534823508,
          0.11772518715286158,
          0.18854716548083544,
          0.3570130513794813,
          0.3808374978459419,
          0.17269502690442293,
          0.1570214488061513,
          0.4515455494530435,
          0.20861624912198554,
          0.23056371894202515,
          0.10632903659356102,
          0.12695613014598278,
          0.1288946910356831,
          0.3834175084175084,
          0.29302884615384617,
          0.15412131821295383,
          0.1513647642679901,
          0.18893528183716082,
          0.3743038466519882,
          0.16031493424909957,
          0.198594193827933,
          1.4413488114980653,
          0.4752929805485081,
          0.22345700119678585,
          0.11731956675776889,
          0.7580903655304196,
          0.42120859350195794,
          0.3892211876425973,
          0.13345846093055422,
          0.15283822152102572,
          0.2523622047244094,
          0.1529713206868652,
          0.48936515668127945,
          0.10699507389162564,
          0.24282048713582327,
          0.2394727206151593,
          0.11808293121779657,
          0.1623830040112911,
          0.12951689384810397,
          0.14606867240800803,
          0.15751946869837852,
          0.4639629870599292,
          0.7402793162119878
         ],
         "yaxis": "y"
        }
       ],
       "layout": {
        "coloraxis": {
         "colorbar": {
          "title": {
           "text": "rsi"
          }
         },
         "colorscale": [
          [
           0,
           "rgb(150,0,90)"
          ],
          [
           0.125,
           "rgb(0,0,200)"
          ],
          [
           0.25,
           "rgb(0,25,255)"
          ],
          [
           0.375,
           "rgb(0,152,255)"
          ],
          [
           0.5,
           "rgb(44,255,150)"
          ],
          [
           0.625,
           "rgb(151,255,0)"
          ],
          [
           0.75,
           "rgb(255,234,0)"
          ],
          [
           0.875,
           "rgb(255,111,0)"
          ],
          [
           1,
           "rgb(255,0,0)"
          ]
         ]
        },
        "height": 548,
        "legend": {
         "tracegroupgap": 0
        },
        "margin": {
         "b": 20,
         "l": 20,
         "r": 20,
         "t": 30
        },
        "plot_bgcolor": "#FFFFFF",
        "template": {
         "data": {
          "bar": [
           {
            "error_x": {
             "color": "#2a3f5f"
            },
            "error_y": {
             "color": "#2a3f5f"
            },
            "marker": {
             "line": {
              "color": "#E5ECF6",
              "width": 0.5
             },
             "pattern": {
              "fillmode": "overlay",
              "size": 10,
              "solidity": 0.2
             }
            },
            "type": "bar"
           }
          ],
          "barpolar": [
           {
            "marker": {
             "line": {
              "color": "#E5ECF6",
              "width": 0.5
             },
             "pattern": {
              "fillmode": "overlay",
              "size": 10,
              "solidity": 0.2
             }
            },
            "type": "barpolar"
           }
          ],
          "carpet": [
           {
            "aaxis": {
             "endlinecolor": "#2a3f5f",
             "gridcolor": "white",
             "linecolor": "white",
             "minorgridcolor": "white",
             "startlinecolor": "#2a3f5f"
            },
            "baxis": {
             "endlinecolor": "#2a3f5f",
             "gridcolor": "white",
             "linecolor": "white",
             "minorgridcolor": "white",
             "startlinecolor": "#2a3f5f"
            },
            "type": "carpet"
           }
          ],
          "choropleth": [
           {
            "colorbar": {
             "outlinewidth": 0,
             "ticks": ""
            },
            "type": "choropleth"
           }
          ],
          "contour": [
           {
            "colorbar": {
             "outlinewidth": 0,
             "ticks": ""
            },
            "colorscale": [
             [
              0,
              "#0d0887"
             ],
             [
              0.1111111111111111,
              "#46039f"
             ],
             [
              0.2222222222222222,
              "#7201a8"
             ],
             [
              0.3333333333333333,
              "#9c179e"
             ],
             [
              0.4444444444444444,
              "#bd3786"
             ],
             [
              0.5555555555555556,
              "#d8576b"
             ],
             [
              0.6666666666666666,
              "#ed7953"
             ],
             [
              0.7777777777777778,
              "#fb9f3a"
             ],
             [
              0.8888888888888888,
              "#fdca26"
             ],
             [
              1,
              "#f0f921"
             ]
            ],
            "type": "contour"
           }
          ],
          "contourcarpet": [
           {
            "colorbar": {
             "outlinewidth": 0,
             "ticks": ""
            },
            "type": "contourcarpet"
           }
          ],
          "heatmap": [
           {
            "colorbar": {
             "outlinewidth": 0,
             "ticks": ""
            },
            "colorscale": [
             [
              0,
              "#0d0887"
             ],
             [
              0.1111111111111111,
              "#46039f"
             ],
             [
              0.2222222222222222,
              "#7201a8"
             ],
             [
              0.3333333333333333,
              "#9c179e"
             ],
             [
              0.4444444444444444,
              "#bd3786"
             ],
             [
              0.5555555555555556,
              "#d8576b"
             ],
             [
              0.6666666666666666,
              "#ed7953"
             ],
             [
              0.7777777777777778,
              "#fb9f3a"
             ],
             [
              0.8888888888888888,
              "#fdca26"
             ],
             [
              1,
              "#f0f921"
             ]
            ],
            "type": "heatmap"
           }
          ],
          "heatmapgl": [
           {
            "colorbar": {
             "outlinewidth": 0,
             "ticks": ""
            },
            "colorscale": [
             [
              0,
              "#0d0887"
             ],
             [
              0.1111111111111111,
              "#46039f"
             ],
             [
              0.2222222222222222,
              "#7201a8"
             ],
             [
              0.3333333333333333,
              "#9c179e"
             ],
             [
              0.4444444444444444,
              "#bd3786"
             ],
             [
              0.5555555555555556,
              "#d8576b"
             ],
             [
              0.6666666666666666,
              "#ed7953"
             ],
             [
              0.7777777777777778,
              "#fb9f3a"
             ],
             [
              0.8888888888888888,
              "#fdca26"
             ],
             [
              1,
              "#f0f921"
             ]
            ],
            "type": "heatmapgl"
           }
          ],
          "histogram": [
           {
            "marker": {
             "pattern": {
              "fillmode": "overlay",
              "size": 10,
              "solidity": 0.2
             }
            },
            "type": "histogram"
           }
          ],
          "histogram2d": [
           {
            "colorbar": {
             "outlinewidth": 0,
             "ticks": ""
            },
            "colorscale": [
             [
              0,
              "#0d0887"
             ],
             [
              0.1111111111111111,
              "#46039f"
             ],
             [
              0.2222222222222222,
              "#7201a8"
             ],
             [
              0.3333333333333333,
              "#9c179e"
             ],
             [
              0.4444444444444444,
              "#bd3786"
             ],
             [
              0.5555555555555556,
              "#d8576b"
             ],
             [
              0.6666666666666666,
              "#ed7953"
             ],
             [
              0.7777777777777778,
              "#fb9f3a"
             ],
             [
              0.8888888888888888,
              "#fdca26"
             ],
             [
              1,
              "#f0f921"
             ]
            ],
            "type": "histogram2d"
           }
          ],
          "histogram2dcontour": [
           {
            "colorbar": {
             "outlinewidth": 0,
             "ticks": ""
            },
            "colorscale": [
             [
              0,
              "#0d0887"
             ],
             [
              0.1111111111111111,
              "#46039f"
             ],
             [
              0.2222222222222222,
              "#7201a8"
             ],
             [
              0.3333333333333333,
              "#9c179e"
             ],
             [
              0.4444444444444444,
              "#bd3786"
             ],
             [
              0.5555555555555556,
              "#d8576b"
             ],
             [
              0.6666666666666666,
              "#ed7953"
             ],
             [
              0.7777777777777778,
              "#fb9f3a"
             ],
             [
              0.8888888888888888,
              "#fdca26"
             ],
             [
              1,
              "#f0f921"
             ]
            ],
            "type": "histogram2dcontour"
           }
          ],
          "mesh3d": [
           {
            "colorbar": {
             "outlinewidth": 0,
             "ticks": ""
            },
            "type": "mesh3d"
           }
          ],
          "parcoords": [
           {
            "line": {
             "colorbar": {
              "outlinewidth": 0,
              "ticks": ""
             }
            },
            "type": "parcoords"
           }
          ],
          "pie": [
           {
            "automargin": true,
            "type": "pie"
           }
          ],
          "scatter": [
           {
            "marker": {
             "colorbar": {
              "outlinewidth": 0,
              "ticks": ""
             }
            },
            "type": "scatter"
           }
          ],
          "scatter3d": [
           {
            "line": {
             "colorbar": {
              "outlinewidth": 0,
              "ticks": ""
             }
            },
            "marker": {
             "colorbar": {
              "outlinewidth": 0,
              "ticks": ""
             }
            },
            "type": "scatter3d"
           }
          ],
          "scattercarpet": [
           {
            "marker": {
             "colorbar": {
              "outlinewidth": 0,
              "ticks": ""
             }
            },
            "type": "scattercarpet"
           }
          ],
          "scattergeo": [
           {
            "marker": {
             "colorbar": {
              "outlinewidth": 0,
              "ticks": ""
             }
            },
            "type": "scattergeo"
           }
          ],
          "scattergl": [
           {
            "marker": {
             "colorbar": {
              "outlinewidth": 0,
              "ticks": ""
             }
            },
            "type": "scattergl"
           }
          ],
          "scattermapbox": [
           {
            "marker": {
             "colorbar": {
              "outlinewidth": 0,
              "ticks": ""
             }
            },
            "type": "scattermapbox"
           }
          ],
          "scatterpolar": [
           {
            "marker": {
             "colorbar": {
              "outlinewidth": 0,
              "ticks": ""
             }
            },
            "type": "scatterpolar"
           }
          ],
          "scatterpolargl": [
           {
            "marker": {
             "colorbar": {
              "outlinewidth": 0,
              "ticks": ""
             }
            },
            "type": "scatterpolargl"
           }
          ],
          "scatterternary": [
           {
            "marker": {
             "colorbar": {
              "outlinewidth": 0,
              "ticks": ""
             }
            },
            "type": "scatterternary"
           }
          ],
          "surface": [
           {
            "colorbar": {
             "outlinewidth": 0,
             "ticks": ""
            },
            "colorscale": [
             [
              0,
              "#0d0887"
             ],
             [
              0.1111111111111111,
              "#46039f"
             ],
             [
              0.2222222222222222,
              "#7201a8"
             ],
             [
              0.3333333333333333,
              "#9c179e"
             ],
             [
              0.4444444444444444,
              "#bd3786"
             ],
             [
              0.5555555555555556,
              "#d8576b"
             ],
             [
              0.6666666666666666,
              "#ed7953"
             ],
             [
              0.7777777777777778,
              "#fb9f3a"
             ],
             [
              0.8888888888888888,
              "#fdca26"
             ],
             [
              1,
              "#f0f921"
             ]
            ],
            "type": "surface"
           }
          ],
          "table": [
           {
            "cells": {
             "fill": {
              "color": "#EBF0F8"
             },
             "line": {
              "color": "white"
             }
            },
            "header": {
             "fill": {
              "color": "#C8D4E3"
             },
             "line": {
              "color": "white"
             }
            },
            "type": "table"
           }
          ]
         },
         "layout": {
          "annotationdefaults": {
           "arrowcolor": "#2a3f5f",
           "arrowhead": 0,
           "arrowwidth": 1
          },
          "autotypenumbers": "strict",
          "coloraxis": {
           "colorbar": {
            "outlinewidth": 0,
            "ticks": ""
           }
          },
          "colorscale": {
           "diverging": [
            [
             0,
             "#8e0152"
            ],
            [
             0.1,
             "#c51b7d"
            ],
            [
             0.2,
             "#de77ae"
            ],
            [
             0.3,
             "#f1b6da"
            ],
            [
             0.4,
             "#fde0ef"
            ],
            [
             0.5,
             "#f7f7f7"
            ],
            [
             0.6,
             "#e6f5d0"
            ],
            [
             0.7,
             "#b8e186"
            ],
            [
             0.8,
             "#7fbc41"
            ],
            [
             0.9,
             "#4d9221"
            ],
            [
             1,
             "#276419"
            ]
           ],
           "sequential": [
            [
             0,
             "#0d0887"
            ],
            [
             0.1111111111111111,
             "#46039f"
            ],
            [
             0.2222222222222222,
             "#7201a8"
            ],
            [
             0.3333333333333333,
             "#9c179e"
            ],
            [
             0.4444444444444444,
             "#bd3786"
            ],
            [
             0.5555555555555556,
             "#d8576b"
            ],
            [
             0.6666666666666666,
             "#ed7953"
            ],
            [
             0.7777777777777778,
             "#fb9f3a"
            ],
            [
             0.8888888888888888,
             "#fdca26"
            ],
            [
             1,
             "#f0f921"
            ]
           ],
           "sequentialminus": [
            [
             0,
             "#0d0887"
            ],
            [
             0.1111111111111111,
             "#46039f"
            ],
            [
             0.2222222222222222,
             "#7201a8"
            ],
            [
             0.3333333333333333,
             "#9c179e"
            ],
            [
             0.4444444444444444,
             "#bd3786"
            ],
            [
             0.5555555555555556,
             "#d8576b"
            ],
            [
             0.6666666666666666,
             "#ed7953"
            ],
            [
             0.7777777777777778,
             "#fb9f3a"
            ],
            [
             0.8888888888888888,
             "#fdca26"
            ],
            [
             1,
             "#f0f921"
            ]
           ]
          },
          "colorway": [
           "#636efa",
           "#EF553B",
           "#00cc96",
           "#ab63fa",
           "#FFA15A",
           "#19d3f3",
           "#FF6692",
           "#B6E880",
           "#FF97FF",
           "#FECB52"
          ],
          "font": {
           "color": "#2a3f5f"
          },
          "geo": {
           "bgcolor": "white",
           "lakecolor": "white",
           "landcolor": "#E5ECF6",
           "showlakes": true,
           "showland": true,
           "subunitcolor": "white"
          },
          "hoverlabel": {
           "align": "left"
          },
          "hovermode": "closest",
          "mapbox": {
           "style": "light"
          },
          "paper_bgcolor": "white",
          "plot_bgcolor": "#E5ECF6",
          "polar": {
           "angularaxis": {
            "gridcolor": "white",
            "linecolor": "white",
            "ticks": ""
           },
           "bgcolor": "#E5ECF6",
           "radialaxis": {
            "gridcolor": "white",
            "linecolor": "white",
            "ticks": ""
           }
          },
          "scene": {
           "xaxis": {
            "backgroundcolor": "#E5ECF6",
            "gridcolor": "white",
            "gridwidth": 2,
            "linecolor": "white",
            "showbackground": true,
            "ticks": "",
            "zerolinecolor": "white"
           },
           "yaxis": {
            "backgroundcolor": "#E5ECF6",
            "gridcolor": "white",
            "gridwidth": 2,
            "linecolor": "white",
            "showbackground": true,
            "ticks": "",
            "zerolinecolor": "white"
           },
           "zaxis": {
            "backgroundcolor": "#E5ECF6",
            "gridcolor": "white",
            "gridwidth": 2,
            "linecolor": "white",
            "showbackground": true,
            "ticks": "",
            "zerolinecolor": "white"
           }
          },
          "shapedefaults": {
           "line": {
            "color": "#2a3f5f"
           }
          },
          "ternary": {
           "aaxis": {
            "gridcolor": "white",
            "linecolor": "white",
            "ticks": ""
           },
           "baxis": {
            "gridcolor": "white",
            "linecolor": "white",
            "ticks": ""
           },
           "bgcolor": "#E5ECF6",
           "caxis": {
            "gridcolor": "white",
            "linecolor": "white",
            "ticks": ""
           }
          },
          "title": {
           "x": 0.05
          },
          "xaxis": {
           "automargin": true,
           "gridcolor": "white",
           "linecolor": "white",
           "ticks": "",
           "title": {
            "standoff": 15
           },
           "zerolinecolor": "white",
           "zerolinewidth": 2
          },
          "yaxis": {
           "automargin": true,
           "gridcolor": "white",
           "linecolor": "white",
           "ticks": "",
           "title": {
            "standoff": 15
           },
           "zerolinecolor": "white",
           "zerolinewidth": 2
          }
         }
        },
        "xaxis": {
         "anchor": "y",
         "domain": [
          0,
          1
         ],
         "dtick": 0.1,
         "showgrid": false,
         "tick0": 0,
         "tickformat": ",.0%",
         "title": {
          "text": "2 Day Change"
         },
         "visible": true
        },
        "yaxis": {
         "anchor": "x",
         "domain": [
          0,
          1
         ],
         "dtick": 0.25,
         "showgrid": false,
         "tick0": 0,
         "tickformat": ",.0%",
         "title": {
          "text": "7 Day Change"
         },
         "visible": true
        }
       }
      }
     },
     "metadata": {}
    }
   ],
   "metadata": {}
  },
  {
   "cell_type": "code",
   "execution_count": 16,
   "source": [
    "app = JupyterDash(__name__)\r\n",
    "\r\n",
    "app.layout=html.Div([\r\n",
    "    # Left\r\n",
    "    html.Div(className=\"inline-block w-1/12 bg-white\",),\r\n",
    "    # Middle\r\n",
    "    html.Div([\r\n",
    "        html.Div([\r\n",
    "            # Header\r\n",
    "            html.Div([\r\n",
    "                html.Div(\"Dashboard\",className=\"lg-text\"),\r\n",
    "                html.Div(\"Updated as of xxxx\",className=\"sm-text\")\r\n",
    "            ],className=\"flex flex-col  mb-6\"),\r\n",
    "\r\n",
    "            # Trends Boxes\r\n",
    "            html.Div([\r\n",
    "                html.Div(\r\n",
    "                    html.Div([\r\n",
    "                        html.Div(\"Uptrend - Blueskies\",className=\"sm-text\"),\r\n",
    "                        html.Div(\"78\",className=\"text-5xl pt-2 pb-2 card-body\"),\r\n",
    "                        html.Div([\r\n",
    "                            html.Div([\r\n",
    "                                html.Img(src=\"./assets/up.svg\",className=\"w-2 h-3\")\r\n",
    "                            ],className=\"bg-green-300 w-4 h-4 rounded-full flex items-center justify-center\"),\r\n",
    "                            html.Div(\"+\",className=\"text-sm\",style={'color':'#1BCA8E','fontFamily': 'Roboto'}),\r\n",
    "                            html.Div(\"69.12%\",className=\"text-sm\",style={'color':'#1BCA8E','fontFamily': 'Roboto'})\r\n",
    "                        ],className=\"flex space-x-1 items-center flex-row\"),\r\n",
    "                    ],className=\"flex flex-col items-center\"),className=\"card bg-white\"),\r\n",
    "\r\n",
    "                    \r\n",
    "                html.Div(\r\n",
    "                    html.Div([\r\n",
    "                        html.Div(\"Uptrend - Retrace\",className=\"sm-text\"),\r\n",
    "                        html.Div(\"78\",className=\"text-5xl pt-2 pb-2 card-body\"),\r\n",
    "                        html.Div([\r\n",
    "                            html.Div([\r\n",
    "                                html.Img(src=\"./assets/up.svg\",className=\"w-2 h-3\")\r\n",
    "                            ],className=\"bg-green-300 w-4 h-4 rounded-full flex items-center justify-center\"),\r\n",
    "                            html.Div(\"+\",className=\"text-sm\",style={'color':'#1BCA8E','fontFamily': 'Roboto'}),\r\n",
    "                            html.Div(\"69.12%\",className=\"text-sm\",style={'color':'#1BCA8E','fontFamily': 'Roboto'})\r\n",
    "                        ],className=\"flex space-x-1 items-center flex-row\"),\r\n",
    "                    ],className=\"flex flex-col items-center\"),className=\"card bg-white\"),\r\n",
    "\r\n",
    "                html.Div(\r\n",
    "                    html.Div([\r\n",
    "                        html.Div(\"Sideways - Reset\",className=\"sm-text\"),\r\n",
    "                        html.Div(\"78\",className=\"text-5xl pt-2 pb-2 card-body\"),\r\n",
    "                        html.Div([\r\n",
    "                            html.Div([\r\n",
    "                                html.Img(src=\"./assets/up.svg\",className=\"w-2 h-3\")\r\n",
    "                            ],className=\"bg-green-300 w-4 h-4 rounded-full flex items-center justify-center\"),\r\n",
    "                            html.Div(\"+\",className=\"text-sm\",style={'color':'#1BCA8E','fontFamily': 'Roboto'}),\r\n",
    "                            html.Div(\"69.12%\",className=\"text-sm\",style={'color':'#1BCA8E','fontFamily': 'Roboto'})\r\n",
    "                        ],className=\"flex space-x-1 items-center flex-row\"),\r\n",
    "                    ],className=\"flex flex-col items-center\"),className=\"card bg-white\"),\r\n",
    "                \r\n",
    "                html.Div(\r\n",
    "                    html.Div([\r\n",
    "                        html.Div(\"Sideways - Reversal\",className=\"sm-text\"),\r\n",
    "                        html.Div(\"78\",className=\"text-5xl pt-2 pb-2 card-body\"),\r\n",
    "                        html.Div([\r\n",
    "                            html.Div([\r\n",
    "                                html.Img(src=\"./assets/up.svg\",className=\"w-2 h-3\")\r\n",
    "                            ],className=\"bg-green-300 w-4 h-4 rounded-full flex items-center justify-center\"),\r\n",
    "                            html.Div(\"+\",className=\"text-sm\",style={'color':'#1BCA8E','fontFamily': 'Roboto'}),\r\n",
    "                            html.Div(\"69.12%\",className=\"text-sm\",style={'color':'#1BCA8E','fontFamily': 'Roboto'})\r\n",
    "                        ],className=\"flex space-x-1 items-center flex-row\"),\r\n",
    "                    ],className=\"flex flex-col items-center\"),className=\"card bg-white\"),\r\n",
    "\r\n",
    "                html.Div(\r\n",
    "                    html.Div([\r\n",
    "                        html.Div(\"Downtrend\",className=\"sm-text\"),\r\n",
    "                        html.Div(\"78\",className=\"text-5xl pt-2 pb-2 card-body\"),\r\n",
    "                        html.Div([\r\n",
    "                            html.Div([\r\n",
    "                                html.Img(src=\"./assets/up.svg\",className=\"w-2 h-3\")\r\n",
    "                            ],className=\"bg-green-300 w-4 h-4 rounded-full flex items-center justify-center\"),\r\n",
    "                            html.Div(\"+\",className=\"text-sm\",style={'color':'#1BCA8E','fontFamily': 'Roboto'}),\r\n",
    "                            html.Div(\"69.12%\",className=\"text-sm\",style={'color':'#1BCA8E','fontFamily': 'Roboto'})\r\n",
    "                        ],className=\"flex space-x-1 items-center flex-row\"),\r\n",
    "                    ],className=\"flex flex-col items-center\"),className=\"card bg-white\"),\r\n",
    "            \r\n",
    "            ],className=\"flex flex-row justify-between mb-5\"),\r\n",
    "            \r\n",
    "            # Scatter Plots\r\n",
    "            html.Div([\r\n",
    "                \r\n",
    "                html.Div([\r\n",
    "                    html.Div(\"Scatter (2d x 7d)\",className=\"md-text\"),\r\n",
    "                    html.Div([\r\n",
    "                        dcc.Graph(\r\n",
    "                            id=\"scatter-2d-vs-7d\",\r\n",
    "                            figure = scatter_fig,\r\n",
    "                        )],className=\" flex-grow rounded-lg shadow-md bg-white\"),\r\n",
    "                ],className=\" flex flex-col w-full h-144\"),\r\n",
    "\r\n",
    "                \r\n",
    "\r\n",
    "            \r\n",
    "            \r\n",
    "            ],className=\"flex flex-row space-x-4 mb-5 \"),\r\n",
    "\r\n",
    "            # Trends of Trends and Sentiment\r\n",
    "            html.Div([\r\n",
    "\r\n",
    "                # Trend of Trends\r\n",
    "                html.Div([\r\n",
    "                    html.Div([\r\n",
    "                        html.Div(\"Pie of Trends\", className=\"md-text\"),\r\n",
    "                        html.Div([\r\n",
    "                             dcc.Graph(\r\n",
    "                                id=\"pie-trend-of-trends\",\r\n",
    "                                figure=pie_fig\r\n",
    "                            )],className=\"flex-grow rounded-lg shadow-md bg-white\"),\r\n",
    "                    ],className=\"flex flex-col w-1/2 h-80\"),\r\n",
    "                    \r\n",
    "                    html.Div([\r\n",
    "                        html.Div(\"Sentiment Gauge\", className=\"md-text\"),\r\n",
    "                        html.Div([\r\n",
    "                        \r\n",
    "                            daq.Gauge(\r\n",
    "                                id=\"sentiment-gauge\",\r\n",
    "                                label =\" \",\r\n",
    "                                color={\"gradient\":True,\"ranges\":{\"red\":[0,50],\"yellow\":[50,75],\"green\":[75,100]}},\r\n",
    "                                showCurrentValue = True,\r\n",
    "                                value=sentiment['bullish']/(sentiment['bullish']+sentiment['bearish'])*100,\r\n",
    "                                min=0,\r\n",
    "                                max=100,\r\n",
    "    \r\n",
    "                            )],id=\"gaugeeee\",className=\"flex-grow rounded-lg shadow-md bg-white pt-5\",style={'height':280}),\r\n",
    "                            \r\n",
    "                    ],className=\"flex flex-col w-1/2 h-80\")\r\n",
    "\r\n",
    "                ],className=\"flex flex-row w-1/2 space-x-4 h-80 \"),\r\n",
    "\r\n",
    "                html.Div([\r\n",
    "                    html.Div(\"Trend of Trends\", className=\"md-text\"),\r\n",
    "                    html.Div([\r\n",
    "                        dcc.Graph(\r\n",
    "                        id='line-trend-of-trends',\r\n",
    "                        figure=line_fig\r\n",
    "                    )],className=\"flex-grow rounded-lg shadow-md bg-white\"),\r\n",
    "                ],className=\"flex flex-col w-1/2 h-80\")\r\n",
    "               \r\n",
    "            \r\n",
    "            ],className=\"flex flex-row space-x-4 h-80\"),\r\n",
    "        ],className=\"mt-8 mb-8\")\r\n",
    "        \r\n",
    "\r\n",
    "    ],id=\"MIDDLE\",className=\"flex flex-col w-11/12 pl-24 pr-24 bg-frame-gray\"),\r\n",
    "\r\n",
    "    # Right\r\n",
    "    # html.Div(className=\"inline-block w-1/12 bg-white\"),\r\n",
    "\r\n",
    "\r\n",
    "],className=\"flex flex-row h-screen\",)\r\n",
    "\r\n",
    "app.run_server(port=6969)"
   ],
   "outputs": [
    {
     "output_type": "stream",
     "name": "stdout",
     "text": [
      "Dash app running on http://127.0.0.1:6969/\n"
     ]
    }
   ],
   "metadata": {}
  }
 ],
 "metadata": {
  "interpreter": {
   "hash": "63fd5069d213b44bf678585dea6b12cceca9941eaf7f819626cde1f2670de90d"
  },
  "kernelspec": {
   "name": "python3",
   "display_name": "Python 3.9.1 64-bit"
  },
  "language_info": {
   "codemirror_mode": {
    "name": "ipython",
    "version": 3
   },
   "file_extension": ".py",
   "mimetype": "text/x-python",
   "name": "python",
   "nbconvert_exporter": "python",
   "pygments_lexer": "ipython3",
   "version": "3.9.1"
  }
 },
 "nbformat": 4,
 "nbformat_minor": 2
}