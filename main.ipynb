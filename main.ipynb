{
 "cells": [
  {
   "cell_type": "markdown",
   "source": [
    "# Crypto-Dashboard Project\n"
   ],
   "metadata": {}
  },
  {
   "cell_type": "code",
   "execution_count": 1,
   "source": [
    "# General Imports\r\n",
    "from binance.client import Client\r\n",
    "from pprint import pprint\r\n",
    "import pandas as pd\r\n",
    "import pandas_ta as ta\r\n",
    "import datetime as dt\r\n",
    "from collections import deque\r\n",
    "from datetime import datetime\r\n",
    "from time import time\r\n",
    "import plotly.express as px\r\n",
    "import plotly.graph_objects as go \r\n",
    "import plotly.offline as pyo\r\n",
    "import dash\r\n",
    "from jupyter_dash import JupyterDash\r\n",
    "import dash_core_components as dcc\r\n",
    "import dash_html_components as html\r\n",
    "import dash_daq as daq"
   ],
   "outputs": [],
   "metadata": {}
  },
  {
   "cell_type": "code",
   "execution_count": 2,
   "source": [
    "# api details\r\n",
    "api_key = \"h6QBbfGT0OIyPJLTHcua57Zrl5dxZqrKshPMbyTH1SIPCHiQv9Og4kNLrS58LkId\"\r\n",
    "api_secret = \"wbz17g5uWRzZ1C2vJsEH7Qvkdi3aNxVpggYJqm1Xl3k70dnWebLB3l1NM9K2f9BB\"\r\n",
    "\r\n",
    "client = Client(api_key, api_secret)"
   ],
   "outputs": [],
   "metadata": {}
  },
  {
   "cell_type": "code",
   "execution_count": 3,
   "source": [
    "# excluded untradeable tokens\r\n",
    "err_tokens = ['BULL', 'BEAR', 'DOWN', 'UP']\r\n",
    "\r\n",
    "# get all binance supported pairs\r\n",
    "symbols_list = list(info['symbol']\r\n",
    "                    for info in client.get_exchange_info()[\"symbols\"] if (info['symbol'].endswith(\"USDT\") and all(lev not in info['symbol'] for lev in err_tokens)))\r\n",
    "\r\n",
    "sym_length = len(symbols_list)\r\n",
    "\r\n",
    "# get 200 days worth of data (daily and weekly)\r\n",
    "d_start = (dt.datetime.now() - dt.timedelta(days=200)).strftime(\"%m-%d-%Y\")\r\n",
    "d_end = dt.datetime.now().strftime(\"%m-%d-%Y\")\r\n",
    "\r\n",
    "w_start = (dt.datetime.now() - dt.timedelta(days=7)).strftime(\"%m-%d-%Y\")\r\n",
    "w_end = dt.datetime.now().strftime(\"%m-%d-%Y\")\r\n",
    "\r\n",
    "# master_df holds 30 days worth of data and technical indicators\r\n",
    "# quant_df holds respective changes\r\n",
    "\r\n",
    "master_df = pd.DataFrame([])\r\n",
    "quant_df = pd.DataFrame([],columns=[\"Symbol\",\"1D Δ\",\"2D Δ\",\"7D Δ\",\"1W Δ\"])\r\n",
    "sentiment = {\r\n",
    "    'bullish': 0,\r\n",
    "    'bearish': 0\r\n",
    "}\r\n",
    "\r\n",
    "test_df = pd.DataFrame([])"
   ],
   "outputs": [],
   "metadata": {}
  },
  {
   "cell_type": "code",
   "execution_count": 4,
   "source": [
    "err_symbols = []\r\n",
    "for symbol in symbols_list:\r\n",
    "    \r\n",
    "    # binance api call to get ohlcv values\r\n",
    "    d_klines = [[float(num) for num in dta[:6]] for dta in client.get_historical_klines(\r\n",
    "        symbol, Client.KLINE_INTERVAL_1DAY, d_start, d_end)]\r\n",
    "\r\n",
    "    # convert epoch time to readable time\r\n",
    "    for x in d_klines:\r\n",
    "        x[0] = datetime.fromtimestamp(int(x[0]/1000)).strftime(\"%m-%d-%Y\")\r\n",
    "    \r\n",
    "\r\n",
    "    # initialize dataframe and calculate needed indicator values\r\n",
    "    df = pd.DataFrame(\r\n",
    "        d_klines, columns=['date', 'open', 'high', 'low', 'close', 'volume'])\r\n",
    "    df['Symbol'] = symbol\r\n",
    "\r\n",
    "    # some pairs don't have enough data\r\n",
    "    try:\r\n",
    "        rsi = round(df.ta.rsi(length=14), 3)\r\n",
    "        chop = round(df.ta.chop(length=28),3)\r\n",
    "        stoch = df.ta.stoch()\r\n",
    "        ma_20 = round(df.ta.sma(length=20), 4)\r\n",
    "        ma_50 = round(df.ta.sma(length=50), 4)\r\n",
    "        ma_100 = round(df.ta.sma(length=100), 4)\r\n",
    "    except Exception as e:\r\n",
    "        print(symbol, e)\r\n",
    "        continue\r\n",
    "\r\n",
    "    # assign calculated values\r\n",
    "\r\n",
    "    close = df['close']\r\n",
    "     \r\n",
    "    df['RSI(14)'] = rsi\r\n",
    "    df['CHOP(28)'] = chop\r\n",
    "    df['STOCH_K'] = round(stoch['STOCHk_14_3_3'],2)\r\n",
    "    df['STOCH_D'] = round(stoch['STOCHd_14_3_3'],2)\r\n",
    "    df['MA(20)'] = ma_20\r\n",
    "    df['MA(50)'] = ma_50\r\n",
    "    df['MA(100)'] = ma_100\r\n",
    "\r\n",
    "    # boolean series\r\n",
    "    try:\r\n",
    "        bluesky = (close > ma_20) & (ma_20 > ma_50) & (ma_50 > ma_100)\r\n",
    "        retrace = (close < ma_20) & (ma_20 > ma_50) & (ma_50 > ma_100)\r\n",
    "        reset = (ma_20 < ma_50) & (ma_50 > ma_100)\r\n",
    "        reversal = (ma_20 > ma_50) & (ma_50 < ma_100)\r\n",
    "        downtrend = (ma_100 > ma_50) & (ma_50 > ma_20)\r\n",
    "        df['bluesky'] = bluesky\r\n",
    "        df['retrace'] = retrace\r\n",
    "        df['reset'] = reset\r\n",
    "        df['reversal'] = reversal\r\n",
    "        df['downtrend'] = downtrend\r\n",
    "    except Exception as e:\r\n",
    "        print(symbol,e)\r\n",
    "        continue\r\n",
    "\r\n",
    "\r\n",
    "    # assign calculated values\r\n",
    "   \r\n",
    "\r\n",
    "    # get the right week and weekly data\r\n",
    "    w_start = (dt.datetime.now() - dt.timedelta(days=14)).strftime(\"%m-%d-%Y\")\r\n",
    "    w_end = dt.datetime.now().strftime(\"%m-%d-%Y\")\r\n",
    "\r\n",
    "    w_klines = [[float(num) for num in dta[:6]] for dta in client.get_historical_klines(\r\n",
    "        symbol, Client.KLINE_INTERVAL_1WEEK, w_start, w_end)]\r\n",
    "\r\n",
    "    # convert to readable date\r\n",
    "    for week in w_klines:\r\n",
    "        week[0] = datetime.fromtimestamp(int(week[0]/1000)).strftime(\"%m-%d-%Y\")\r\n",
    "\r\n",
    "    wdf = pd.DataFrame(w_klines,columns=['date','open','high','low','close','volume'])\r\n",
    "\r\n",
    "    # calculate changes\r\n",
    "    try:\r\n",
    "        D1chg = (df.iloc[-1].close - df.iloc[-2].open) / df.iloc[-2].open\r\n",
    "        D2chg = (df.iloc[-1].close - df.iloc[-3].open) / df.iloc[-3].open\r\n",
    "        D7chg = (df.iloc[-1].close - df.iloc[-8].open) / df.iloc[-8].open\r\n",
    "\r\n",
    "        weeklydf = pd.DataFrame(w_klines,columns=['date','open','high','low','close','volume'])\r\n",
    "        # make sure to get last week and not this week (e.g. during Mondays)\r\n",
    "        lastweek = wdf[wdf['date'] < w_end].iloc[-1]\r\n",
    "        # whichever is higher weekly open/close\r\n",
    "        weekly_sig_level = lastweek.close if lastweek.close > lastweek.open else lastweek.open\r\n",
    "        Wchg = 0 if weeklydf.empty else (df.iloc[-1].close - weekly_sig_level) / weekly_sig_level\r\n",
    "\r\n",
    "        quant_row = pd.DataFrame([[symbol,D1chg,D2chg,D7chg,Wchg,df.iloc[-1]['RSI(14)']]],columns=[\"Symbol\",\"1D Δ\",\"2D Δ\",\"7D Δ\",\"1W Δ\",\"rsi\"])\r\n",
    "        quant_df = pd.concat([quant_df, quant_row],ignore_index=True)\r\n",
    "    except Exception as e:\r\n",
    "        err_symbols.append(symbol)\r\n",
    "\r\n",
    "    # determine bias\r\n",
    "\r\n",
    "    bias = \"bullish\" if df.iloc[-1]['RSI(14)'] > df.iloc[-1]['CHOP(28)'] else \"bearish\"\r\n",
    "    sentiment[bias] += 1\r\n",
    "\r\n",
    "\r\n",
    "    # only get last 30 trading days for ToT\r\n",
    "    master_df = master_df.append(df.iloc[len(df.index)-30:])\r\n",
    "\r\n",
    "    # master_df = master_df.set_index(\"Symbol\")\r\n",
    "    \r\n",
    "    \r\n"
   ],
   "outputs": [
    {
     "output_type": "stream",
     "name": "stdout",
     "text": [
      "BCCUSDT 'AnalysisIndicators' object has no attribute '_df'\n",
      "VENUSDT 'AnalysisIndicators' object has no attribute '_df'\n",
      "BCHABCUSDT 'AnalysisIndicators' object has no attribute '_df'\n",
      "BCHSVUSDT 'AnalysisIndicators' object has no attribute '_df'\n",
      "USDSUSDT 'AnalysisIndicators' object has no attribute '_df'\n",
      "USDSBUSDT 'AnalysisIndicators' object has no attribute '_df'\n",
      "ERDUSDT 'AnalysisIndicators' object has no attribute '_df'\n",
      "STORMUSDT 'AnalysisIndicators' object has no attribute '_df'\n",
      "HCUSDT 'AnalysisIndicators' object has no attribute '_df'\n",
      "MCOUSDT 'AnalysisIndicators' object has no attribute '_df'\n",
      "STRATUSDT 'AnalysisIndicators' object has no attribute '_df'\n",
      "XZCUSDT 'AnalysisIndicators' object has no attribute '_df'\n",
      "LENDUSDT 'AnalysisIndicators' object has no attribute '_df'\n",
      "BKRWUSDT 'AnalysisIndicators' object has no attribute '_df'\n",
      "DAIUSDT 'AnalysisIndicators' object has no attribute '_df'\n"
     ]
    }
   ],
   "metadata": {}
  },
  {
   "cell_type": "code",
   "execution_count": 5,
   "source": [
    "# Keep track of trends for Trend of Trends\r\n",
    "bluesky = []\r\n",
    "retrace = []\r\n",
    "reset = []\r\n",
    "reversal = []\r\n",
    "downtrend = []\r\n",
    "lacking_data = []"
   ],
   "outputs": [],
   "metadata": {}
  },
  {
   "cell_type": "code",
   "execution_count": 6,
   "source": [
    "# Calculate number of trends per day\r\n",
    "for date in list(master_df[-30:]['date']):\r\n",
    "    current = master_df[master_df['date'] == date]\r\n",
    "    \r\n",
    "    bluesky.append(current['bluesky'].value_counts().get(True)/sym_length if current['bluesky'].value_counts().get(True) != None else 0)\r\n",
    "\r\n",
    "    retrace.append(current['retrace'].value_counts().get(True)/sym_length if current['retrace'].value_counts().get(True) != None else 0)\r\n",
    "\r\n",
    "    reset.append(current['reset'].value_counts().get(True)/sym_length if current['reset'].value_counts().get(True) != None else 0)\r\n",
    "\r\n",
    "    reversal.append(current['reversal'].value_counts().get(True)/sym_length if current['reversal'].value_counts().get(True) != None else 0)\r\n",
    "    \r\n",
    "    downtrend.append(current['downtrend'].value_counts().get(True)/sym_length if current['downtrend'].value_counts().get(True) != None else 0)\r\n",
    "\r\n",
    "        "
   ],
   "outputs": [],
   "metadata": {}
  },
  {
   "cell_type": "code",
   "execution_count": 7,
   "source": [
    "# new function to add when array contains None\r\n",
    "def newsum(arr):\r\n",
    "    if None in arr:\r\n",
    "        arr = list(arr)\r\n",
    "        arr = list(filter(lambda x : x!= None,arr))\r\n",
    "        return sum(arr)\r\n",
    "    else:\r\n",
    "        return sum(arr)\r\n"
   ],
   "outputs": [],
   "metadata": {}
  },
  {
   "cell_type": "code",
   "execution_count": 8,
   "source": [
    "ToT_mapper = {\r\n",
    "    \"bluesky\": \"#60A5FA\",\r\n",
    "    \"retrace\": \"#059669\",\r\n",
    "    \"reset\": \"#F59E0B\",\r\n",
    "    \"reversal\": \"#92400E\",\r\n",
    "    \"downtrend\": \"#DC2626\"\r\n",
    "}\r\n",
    "\r\n",
    "\r\n",
    "# Line Traces\r\n",
    "line_data = []\r\n",
    "dates = master_df['date'].unique()\r\n",
    "for trend,color in ToT_mapper.items():\r\n",
    "    scatter_chart = go.Scatter(\r\n",
    "        x=dates,\r\n",
    "        y=eval(trend),\r\n",
    "        marker_color = color,\r\n",
    "        name=trend,\r\n",
    "        mode=\"lines+markers\"\r\n",
    "    )\r\n",
    "    line_data.append(scatter_chart)\r\n"
   ],
   "outputs": [],
   "metadata": {}
  },
  {
   "cell_type": "code",
   "execution_count": 9,
   "source": [
    "# Trend of Trends Line Graph\r\n",
    "\r\n",
    "line_layout = go.Layout(    \r\n",
    "    margin=dict(\r\n",
    "        l=20,\r\n",
    "        r=20, \r\n",
    "        t=30, \r\n",
    "        b=20\r\n",
    "    ),\r\n",
    "    plot_bgcolor=\"#FFF\",\r\n",
    "    xaxis=dict(\r\n",
    "        visible=False, \r\n",
    "        showgrid=False\r\n",
    "    ),\r\n",
    "    yaxis=dict(\r\n",
    "        tick0=0, \r\n",
    "        dtick=0.25,\r\n",
    "        tickformat=',.0%',\r\n",
    "        showgrid=False,\r\n",
    "        linecolor=\"#BCCCDC\"\r\n",
    "    ),\r\n",
    "    height = 280\r\n",
    ")\r\n",
    "\r\n",
    "\r\n",
    "line_fig = go.Figure(\r\n",
    "    data = line_data,\r\n",
    "    layout = line_layout\r\n",
    ")\r\n",
    "\r\n",
    "line_fig\r\n",
    "\r\n"
   ],
   "outputs": [
    {
     "output_type": "display_data",
     "data": {
      "application/vnd.plotly.v1+json": {
       "config": {
        "plotlyServerURL": "https://plot.ly"
       },
       "data": [
        {
         "marker": {
          "color": "#60A5FA"
         },
         "mode": "lines+markers",
         "name": "bluesky",
         "type": "scatter",
         "x": [
          "07-23-2021",
          "07-24-2021",
          "07-25-2021",
          "07-26-2021",
          "07-27-2021",
          "07-28-2021",
          "07-29-2021",
          "07-30-2021",
          "07-31-2021",
          "08-01-2021",
          "08-02-2021",
          "08-03-2021",
          "08-04-2021",
          "08-05-2021",
          "08-06-2021",
          "08-07-2021",
          "08-08-2021",
          "08-09-2021",
          "08-10-2021",
          "08-11-2021",
          "08-12-2021",
          "08-13-2021",
          "08-14-2021",
          "08-15-2021",
          "08-16-2021",
          "08-17-2021",
          "08-18-2021",
          "08-19-2021",
          "08-20-2021",
          "08-21-2021",
          "03-07-2021",
          "03-08-2021",
          "03-09-2021",
          "03-10-2021",
          "03-11-2021",
          "03-12-2021",
          "03-13-2021",
          "03-14-2021",
          "03-15-2021",
          "03-16-2021",
          "03-17-2021",
          "03-18-2021",
          "03-19-2021",
          "03-20-2021",
          "03-21-2021",
          "03-22-2021",
          "03-23-2021",
          "03-24-2021",
          "03-25-2021",
          "03-26-2021",
          "03-27-2021",
          "03-28-2021",
          "03-29-2021",
          "03-30-2021",
          "03-31-2021",
          "04-01-2021",
          "04-02-2021",
          "04-03-2021",
          "04-04-2021",
          "04-05-2021"
         ],
         "y": [
          0.15985130111524162,
          0.03345724907063197,
          0.022304832713754646,
          0.040892193308550186,
          0.040892193308550186,
          0.04460966542750929,
          0.04460966542750929,
          0.03345724907063197,
          0.03717472118959108,
          0.07806691449814127,
          0.11524163568773234,
          0.15985130111524162,
          0.040892193308550186,
          0.040892193308550186,
          0.04460966542750929,
          0.04460966542750929,
          0.03345724907063197,
          0.03717472118959108,
          0.07806691449814127,
          0.11524163568773234,
          0.15985130111524162,
          0.07806691449814127,
          0.11524163568773234,
          0.15985130111524162,
          0.11524163568773234,
          0.15985130111524162,
          0.11524163568773234,
          0.15985130111524162,
          0.11524163568773234,
          0.15985130111524162
         ]
        },
        {
         "marker": {
          "color": "#059669"
         },
         "mode": "lines+markers",
         "name": "retrace",
         "type": "scatter",
         "x": [
          "07-23-2021",
          "07-24-2021",
          "07-25-2021",
          "07-26-2021",
          "07-27-2021",
          "07-28-2021",
          "07-29-2021",
          "07-30-2021",
          "07-31-2021",
          "08-01-2021",
          "08-02-2021",
          "08-03-2021",
          "08-04-2021",
          "08-05-2021",
          "08-06-2021",
          "08-07-2021",
          "08-08-2021",
          "08-09-2021",
          "08-10-2021",
          "08-11-2021",
          "08-12-2021",
          "08-13-2021",
          "08-14-2021",
          "08-15-2021",
          "08-16-2021",
          "08-17-2021",
          "08-18-2021",
          "08-19-2021",
          "08-20-2021",
          "08-21-2021",
          "03-07-2021",
          "03-08-2021",
          "03-09-2021",
          "03-10-2021",
          "03-11-2021",
          "03-12-2021",
          "03-13-2021",
          "03-14-2021",
          "03-15-2021",
          "03-16-2021",
          "03-17-2021",
          "03-18-2021",
          "03-19-2021",
          "03-20-2021",
          "03-21-2021",
          "03-22-2021",
          "03-23-2021",
          "03-24-2021",
          "03-25-2021",
          "03-26-2021",
          "03-27-2021",
          "03-28-2021",
          "03-29-2021",
          "03-30-2021",
          "03-31-2021",
          "04-01-2021",
          "04-02-2021",
          "04-03-2021",
          "04-04-2021",
          "04-05-2021"
         ],
         "y": [
          0.01486988847583643,
          0.0037174721189591076,
          0.01858736059479554,
          0,
          0.0037174721189591076,
          0.0037174721189591076,
          0.01858736059479554,
          0.03717472118959108,
          0.040892193308550186,
          0.022304832713754646,
          0.01858736059479554,
          0.01486988847583643,
          0,
          0.0037174721189591076,
          0.0037174721189591076,
          0.01858736059479554,
          0.03717472118959108,
          0.040892193308550186,
          0.022304832713754646,
          0.01858736059479554,
          0.01486988847583643,
          0.022304832713754646,
          0.01858736059479554,
          0.01486988847583643,
          0.01858736059479554,
          0.01486988847583643,
          0.01858736059479554,
          0.01486988847583643,
          0.01858736059479554,
          0.01486988847583643
         ]
        },
        {
         "marker": {
          "color": "#F59E0B"
         },
         "mode": "lines+markers",
         "name": "reset",
         "type": "scatter",
         "x": [
          "07-23-2021",
          "07-24-2021",
          "07-25-2021",
          "07-26-2021",
          "07-27-2021",
          "07-28-2021",
          "07-29-2021",
          "07-30-2021",
          "07-31-2021",
          "08-01-2021",
          "08-02-2021",
          "08-03-2021",
          "08-04-2021",
          "08-05-2021",
          "08-06-2021",
          "08-07-2021",
          "08-08-2021",
          "08-09-2021",
          "08-10-2021",
          "08-11-2021",
          "08-12-2021",
          "08-13-2021",
          "08-14-2021",
          "08-15-2021",
          "08-16-2021",
          "08-17-2021",
          "08-18-2021",
          "08-19-2021",
          "08-20-2021",
          "08-21-2021",
          "03-07-2021",
          "03-08-2021",
          "03-09-2021",
          "03-10-2021",
          "03-11-2021",
          "03-12-2021",
          "03-13-2021",
          "03-14-2021",
          "03-15-2021",
          "03-16-2021",
          "03-17-2021",
          "03-18-2021",
          "03-19-2021",
          "03-20-2021",
          "03-21-2021",
          "03-22-2021",
          "03-23-2021",
          "03-24-2021",
          "03-25-2021",
          "03-26-2021",
          "03-27-2021",
          "03-28-2021",
          "03-29-2021",
          "03-30-2021",
          "03-31-2021",
          "04-01-2021",
          "04-02-2021",
          "04-03-2021",
          "04-04-2021",
          "04-05-2021"
         ],
         "y": [
          0.01486988847583643,
          0.01486988847583643,
          0.01486988847583643,
          0.01858736059479554,
          0.01858736059479554,
          0.01858736059479554,
          0.01858736059479554,
          0.01858736059479554,
          0.01858736059479554,
          0.01858736059479554,
          0.01858736059479554,
          0.01486988847583643,
          0.01858736059479554,
          0.01858736059479554,
          0.01858736059479554,
          0.01858736059479554,
          0.01858736059479554,
          0.01858736059479554,
          0.01858736059479554,
          0.01858736059479554,
          0.01486988847583643,
          0.01858736059479554,
          0.01858736059479554,
          0.01486988847583643,
          0.01858736059479554,
          0.01486988847583643,
          0.01858736059479554,
          0.01486988847583643,
          0.01858736059479554,
          0.01486988847583643
         ]
        },
        {
         "marker": {
          "color": "#92400E"
         },
         "mode": "lines+markers",
         "name": "reversal",
         "type": "scatter",
         "x": [
          "07-23-2021",
          "07-24-2021",
          "07-25-2021",
          "07-26-2021",
          "07-27-2021",
          "07-28-2021",
          "07-29-2021",
          "07-30-2021",
          "07-31-2021",
          "08-01-2021",
          "08-02-2021",
          "08-03-2021",
          "08-04-2021",
          "08-05-2021",
          "08-06-2021",
          "08-07-2021",
          "08-08-2021",
          "08-09-2021",
          "08-10-2021",
          "08-11-2021",
          "08-12-2021",
          "08-13-2021",
          "08-14-2021",
          "08-15-2021",
          "08-16-2021",
          "08-17-2021",
          "08-18-2021",
          "08-19-2021",
          "08-20-2021",
          "08-21-2021",
          "03-07-2021",
          "03-08-2021",
          "03-09-2021",
          "03-10-2021",
          "03-11-2021",
          "03-12-2021",
          "03-13-2021",
          "03-14-2021",
          "03-15-2021",
          "03-16-2021",
          "03-17-2021",
          "03-18-2021",
          "03-19-2021",
          "03-20-2021",
          "03-21-2021",
          "03-22-2021",
          "03-23-2021",
          "03-24-2021",
          "03-25-2021",
          "03-26-2021",
          "03-27-2021",
          "03-28-2021",
          "03-29-2021",
          "03-30-2021",
          "03-31-2021",
          "04-01-2021",
          "04-02-2021",
          "04-03-2021",
          "04-04-2021",
          "04-05-2021"
         ],
         "y": [
          0.6171003717472119,
          0.7286245353159851,
          0.7286245353159851,
          0.724907063197026,
          0.724907063197026,
          0.7286245353159851,
          0.7137546468401487,
          0.7100371747211895,
          0.7063197026022305,
          0.6840148698884758,
          0.6505576208178439,
          0.6171003717472119,
          0.724907063197026,
          0.724907063197026,
          0.7286245353159851,
          0.7137546468401487,
          0.7100371747211895,
          0.7063197026022305,
          0.6840148698884758,
          0.6505576208178439,
          0.6171003717472119,
          0.6840148698884758,
          0.6505576208178439,
          0.6171003717472119,
          0.6505576208178439,
          0.6171003717472119,
          0.6505576208178439,
          0.6171003717472119,
          0.6505576208178439,
          0.6171003717472119
         ]
        },
        {
         "marker": {
          "color": "#DC2626"
         },
         "mode": "lines+markers",
         "name": "downtrend",
         "type": "scatter",
         "x": [
          "07-23-2021",
          "07-24-2021",
          "07-25-2021",
          "07-26-2021",
          "07-27-2021",
          "07-28-2021",
          "07-29-2021",
          "07-30-2021",
          "07-31-2021",
          "08-01-2021",
          "08-02-2021",
          "08-03-2021",
          "08-04-2021",
          "08-05-2021",
          "08-06-2021",
          "08-07-2021",
          "08-08-2021",
          "08-09-2021",
          "08-10-2021",
          "08-11-2021",
          "08-12-2021",
          "08-13-2021",
          "08-14-2021",
          "08-15-2021",
          "08-16-2021",
          "08-17-2021",
          "08-18-2021",
          "08-19-2021",
          "08-20-2021",
          "08-21-2021",
          "03-07-2021",
          "03-08-2021",
          "03-09-2021",
          "03-10-2021",
          "03-11-2021",
          "03-12-2021",
          "03-13-2021",
          "03-14-2021",
          "03-15-2021",
          "03-16-2021",
          "03-17-2021",
          "03-18-2021",
          "03-19-2021",
          "03-20-2021",
          "03-21-2021",
          "03-22-2021",
          "03-23-2021",
          "03-24-2021",
          "03-25-2021",
          "03-26-2021",
          "03-27-2021",
          "03-28-2021",
          "03-29-2021",
          "03-30-2021",
          "03-31-2021",
          "04-01-2021",
          "04-02-2021",
          "04-03-2021",
          "04-04-2021",
          "04-05-2021"
         ],
         "y": [
          0.01486988847583643,
          0.03345724907063197,
          0.02973977695167286,
          0.02973977695167286,
          0.02973977695167286,
          0.022304832713754646,
          0.022304832713754646,
          0.01858736059479554,
          0.01858736059479554,
          0.01858736059479554,
          0.01486988847583643,
          0.01486988847583643,
          0.02973977695167286,
          0.02973977695167286,
          0.022304832713754646,
          0.022304832713754646,
          0.01858736059479554,
          0.01858736059479554,
          0.01858736059479554,
          0.01486988847583643,
          0.01486988847583643,
          0.01858736059479554,
          0.01486988847583643,
          0.01486988847583643,
          0.01486988847583643,
          0.01486988847583643,
          0.01486988847583643,
          0.01486988847583643,
          0.01486988847583643,
          0.01486988847583643
         ]
        }
       ],
       "layout": {
        "height": 280,
        "margin": {
         "b": 20,
         "l": 20,
         "r": 20,
         "t": 30
        },
        "plot_bgcolor": "#FFF",
        "template": {
         "data": {
          "bar": [
           {
            "error_x": {
             "color": "#2a3f5f"
            },
            "error_y": {
             "color": "#2a3f5f"
            },
            "marker": {
             "line": {
              "color": "#E5ECF6",
              "width": 0.5
             },
             "pattern": {
              "fillmode": "overlay",
              "size": 10,
              "solidity": 0.2
             }
            },
            "type": "bar"
           }
          ],
          "barpolar": [
           {
            "marker": {
             "line": {
              "color": "#E5ECF6",
              "width": 0.5
             },
             "pattern": {
              "fillmode": "overlay",
              "size": 10,
              "solidity": 0.2
             }
            },
            "type": "barpolar"
           }
          ],
          "carpet": [
           {
            "aaxis": {
             "endlinecolor": "#2a3f5f",
             "gridcolor": "white",
             "linecolor": "white",
             "minorgridcolor": "white",
             "startlinecolor": "#2a3f5f"
            },
            "baxis": {
             "endlinecolor": "#2a3f5f",
             "gridcolor": "white",
             "linecolor": "white",
             "minorgridcolor": "white",
             "startlinecolor": "#2a3f5f"
            },
            "type": "carpet"
           }
          ],
          "choropleth": [
           {
            "colorbar": {
             "outlinewidth": 0,
             "ticks": ""
            },
            "type": "choropleth"
           }
          ],
          "contour": [
           {
            "colorbar": {
             "outlinewidth": 0,
             "ticks": ""
            },
            "colorscale": [
             [
              0,
              "#0d0887"
             ],
             [
              0.1111111111111111,
              "#46039f"
             ],
             [
              0.2222222222222222,
              "#7201a8"
             ],
             [
              0.3333333333333333,
              "#9c179e"
             ],
             [
              0.4444444444444444,
              "#bd3786"
             ],
             [
              0.5555555555555556,
              "#d8576b"
             ],
             [
              0.6666666666666666,
              "#ed7953"
             ],
             [
              0.7777777777777778,
              "#fb9f3a"
             ],
             [
              0.8888888888888888,
              "#fdca26"
             ],
             [
              1,
              "#f0f921"
             ]
            ],
            "type": "contour"
           }
          ],
          "contourcarpet": [
           {
            "colorbar": {
             "outlinewidth": 0,
             "ticks": ""
            },
            "type": "contourcarpet"
           }
          ],
          "heatmap": [
           {
            "colorbar": {
             "outlinewidth": 0,
             "ticks": ""
            },
            "colorscale": [
             [
              0,
              "#0d0887"
             ],
             [
              0.1111111111111111,
              "#46039f"
             ],
             [
              0.2222222222222222,
              "#7201a8"
             ],
             [
              0.3333333333333333,
              "#9c179e"
             ],
             [
              0.4444444444444444,
              "#bd3786"
             ],
             [
              0.5555555555555556,
              "#d8576b"
             ],
             [
              0.6666666666666666,
              "#ed7953"
             ],
             [
              0.7777777777777778,
              "#fb9f3a"
             ],
             [
              0.8888888888888888,
              "#fdca26"
             ],
             [
              1,
              "#f0f921"
             ]
            ],
            "type": "heatmap"
           }
          ],
          "heatmapgl": [
           {
            "colorbar": {
             "outlinewidth": 0,
             "ticks": ""
            },
            "colorscale": [
             [
              0,
              "#0d0887"
             ],
             [
              0.1111111111111111,
              "#46039f"
             ],
             [
              0.2222222222222222,
              "#7201a8"
             ],
             [
              0.3333333333333333,
              "#9c179e"
             ],
             [
              0.4444444444444444,
              "#bd3786"
             ],
             [
              0.5555555555555556,
              "#d8576b"
             ],
             [
              0.6666666666666666,
              "#ed7953"
             ],
             [
              0.7777777777777778,
              "#fb9f3a"
             ],
             [
              0.8888888888888888,
              "#fdca26"
             ],
             [
              1,
              "#f0f921"
             ]
            ],
            "type": "heatmapgl"
           }
          ],
          "histogram": [
           {
            "marker": {
             "pattern": {
              "fillmode": "overlay",
              "size": 10,
              "solidity": 0.2
             }
            },
            "type": "histogram"
           }
          ],
          "histogram2d": [
           {
            "colorbar": {
             "outlinewidth": 0,
             "ticks": ""
            },
            "colorscale": [
             [
              0,
              "#0d0887"
             ],
             [
              0.1111111111111111,
              "#46039f"
             ],
             [
              0.2222222222222222,
              "#7201a8"
             ],
             [
              0.3333333333333333,
              "#9c179e"
             ],
             [
              0.4444444444444444,
              "#bd3786"
             ],
             [
              0.5555555555555556,
              "#d8576b"
             ],
             [
              0.6666666666666666,
              "#ed7953"
             ],
             [
              0.7777777777777778,
              "#fb9f3a"
             ],
             [
              0.8888888888888888,
              "#fdca26"
             ],
             [
              1,
              "#f0f921"
             ]
            ],
            "type": "histogram2d"
           }
          ],
          "histogram2dcontour": [
           {
            "colorbar": {
             "outlinewidth": 0,
             "ticks": ""
            },
            "colorscale": [
             [
              0,
              "#0d0887"
             ],
             [
              0.1111111111111111,
              "#46039f"
             ],
             [
              0.2222222222222222,
              "#7201a8"
             ],
             [
              0.3333333333333333,
              "#9c179e"
             ],
             [
              0.4444444444444444,
              "#bd3786"
             ],
             [
              0.5555555555555556,
              "#d8576b"
             ],
             [
              0.6666666666666666,
              "#ed7953"
             ],
             [
              0.7777777777777778,
              "#fb9f3a"
             ],
             [
              0.8888888888888888,
              "#fdca26"
             ],
             [
              1,
              "#f0f921"
             ]
            ],
            "type": "histogram2dcontour"
           }
          ],
          "mesh3d": [
           {
            "colorbar": {
             "outlinewidth": 0,
             "ticks": ""
            },
            "type": "mesh3d"
           }
          ],
          "parcoords": [
           {
            "line": {
             "colorbar": {
              "outlinewidth": 0,
              "ticks": ""
             }
            },
            "type": "parcoords"
           }
          ],
          "pie": [
           {
            "automargin": true,
            "type": "pie"
           }
          ],
          "scatter": [
           {
            "marker": {
             "colorbar": {
              "outlinewidth": 0,
              "ticks": ""
             }
            },
            "type": "scatter"
           }
          ],
          "scatter3d": [
           {
            "line": {
             "colorbar": {
              "outlinewidth": 0,
              "ticks": ""
             }
            },
            "marker": {
             "colorbar": {
              "outlinewidth": 0,
              "ticks": ""
             }
            },
            "type": "scatter3d"
           }
          ],
          "scattercarpet": [
           {
            "marker": {
             "colorbar": {
              "outlinewidth": 0,
              "ticks": ""
             }
            },
            "type": "scattercarpet"
           }
          ],
          "scattergeo": [
           {
            "marker": {
             "colorbar": {
              "outlinewidth": 0,
              "ticks": ""
             }
            },
            "type": "scattergeo"
           }
          ],
          "scattergl": [
           {
            "marker": {
             "colorbar": {
              "outlinewidth": 0,
              "ticks": ""
             }
            },
            "type": "scattergl"
           }
          ],
          "scattermapbox": [
           {
            "marker": {
             "colorbar": {
              "outlinewidth": 0,
              "ticks": ""
             }
            },
            "type": "scattermapbox"
           }
          ],
          "scatterpolar": [
           {
            "marker": {
             "colorbar": {
              "outlinewidth": 0,
              "ticks": ""
             }
            },
            "type": "scatterpolar"
           }
          ],
          "scatterpolargl": [
           {
            "marker": {
             "colorbar": {
              "outlinewidth": 0,
              "ticks": ""
             }
            },
            "type": "scatterpolargl"
           }
          ],
          "scatterternary": [
           {
            "marker": {
             "colorbar": {
              "outlinewidth": 0,
              "ticks": ""
             }
            },
            "type": "scatterternary"
           }
          ],
          "surface": [
           {
            "colorbar": {
             "outlinewidth": 0,
             "ticks": ""
            },
            "colorscale": [
             [
              0,
              "#0d0887"
             ],
             [
              0.1111111111111111,
              "#46039f"
             ],
             [
              0.2222222222222222,
              "#7201a8"
             ],
             [
              0.3333333333333333,
              "#9c179e"
             ],
             [
              0.4444444444444444,
              "#bd3786"
             ],
             [
              0.5555555555555556,
              "#d8576b"
             ],
             [
              0.6666666666666666,
              "#ed7953"
             ],
             [
              0.7777777777777778,
              "#fb9f3a"
             ],
             [
              0.8888888888888888,
              "#fdca26"
             ],
             [
              1,
              "#f0f921"
             ]
            ],
            "type": "surface"
           }
          ],
          "table": [
           {
            "cells": {
             "fill": {
              "color": "#EBF0F8"
             },
             "line": {
              "color": "white"
             }
            },
            "header": {
             "fill": {
              "color": "#C8D4E3"
             },
             "line": {
              "color": "white"
             }
            },
            "type": "table"
           }
          ]
         },
         "layout": {
          "annotationdefaults": {
           "arrowcolor": "#2a3f5f",
           "arrowhead": 0,
           "arrowwidth": 1
          },
          "autotypenumbers": "strict",
          "coloraxis": {
           "colorbar": {
            "outlinewidth": 0,
            "ticks": ""
           }
          },
          "colorscale": {
           "diverging": [
            [
             0,
             "#8e0152"
            ],
            [
             0.1,
             "#c51b7d"
            ],
            [
             0.2,
             "#de77ae"
            ],
            [
             0.3,
             "#f1b6da"
            ],
            [
             0.4,
             "#fde0ef"
            ],
            [
             0.5,
             "#f7f7f7"
            ],
            [
             0.6,
             "#e6f5d0"
            ],
            [
             0.7,
             "#b8e186"
            ],
            [
             0.8,
             "#7fbc41"
            ],
            [
             0.9,
             "#4d9221"
            ],
            [
             1,
             "#276419"
            ]
           ],
           "sequential": [
            [
             0,
             "#0d0887"
            ],
            [
             0.1111111111111111,
             "#46039f"
            ],
            [
             0.2222222222222222,
             "#7201a8"
            ],
            [
             0.3333333333333333,
             "#9c179e"
            ],
            [
             0.4444444444444444,
             "#bd3786"
            ],
            [
             0.5555555555555556,
             "#d8576b"
            ],
            [
             0.6666666666666666,
             "#ed7953"
            ],
            [
             0.7777777777777778,
             "#fb9f3a"
            ],
            [
             0.8888888888888888,
             "#fdca26"
            ],
            [
             1,
             "#f0f921"
            ]
           ],
           "sequentialminus": [
            [
             0,
             "#0d0887"
            ],
            [
             0.1111111111111111,
             "#46039f"
            ],
            [
             0.2222222222222222,
             "#7201a8"
            ],
            [
             0.3333333333333333,
             "#9c179e"
            ],
            [
             0.4444444444444444,
             "#bd3786"
            ],
            [
             0.5555555555555556,
             "#d8576b"
            ],
            [
             0.6666666666666666,
             "#ed7953"
            ],
            [
             0.7777777777777778,
             "#fb9f3a"
            ],
            [
             0.8888888888888888,
             "#fdca26"
            ],
            [
             1,
             "#f0f921"
            ]
           ]
          },
          "colorway": [
           "#636efa",
           "#EF553B",
           "#00cc96",
           "#ab63fa",
           "#FFA15A",
           "#19d3f3",
           "#FF6692",
           "#B6E880",
           "#FF97FF",
           "#FECB52"
          ],
          "font": {
           "color": "#2a3f5f"
          },
          "geo": {
           "bgcolor": "white",
           "lakecolor": "white",
           "landcolor": "#E5ECF6",
           "showlakes": true,
           "showland": true,
           "subunitcolor": "white"
          },
          "hoverlabel": {
           "align": "left"
          },
          "hovermode": "closest",
          "mapbox": {
           "style": "light"
          },
          "paper_bgcolor": "white",
          "plot_bgcolor": "#E5ECF6",
          "polar": {
           "angularaxis": {
            "gridcolor": "white",
            "linecolor": "white",
            "ticks": ""
           },
           "bgcolor": "#E5ECF6",
           "radialaxis": {
            "gridcolor": "white",
            "linecolor": "white",
            "ticks": ""
           }
          },
          "scene": {
           "xaxis": {
            "backgroundcolor": "#E5ECF6",
            "gridcolor": "white",
            "gridwidth": 2,
            "linecolor": "white",
            "showbackground": true,
            "ticks": "",
            "zerolinecolor": "white"
           },
           "yaxis": {
            "backgroundcolor": "#E5ECF6",
            "gridcolor": "white",
            "gridwidth": 2,
            "linecolor": "white",
            "showbackground": true,
            "ticks": "",
            "zerolinecolor": "white"
           },
           "zaxis": {
            "backgroundcolor": "#E5ECF6",
            "gridcolor": "white",
            "gridwidth": 2,
            "linecolor": "white",
            "showbackground": true,
            "ticks": "",
            "zerolinecolor": "white"
           }
          },
          "shapedefaults": {
           "line": {
            "color": "#2a3f5f"
           }
          },
          "ternary": {
           "aaxis": {
            "gridcolor": "white",
            "linecolor": "white",
            "ticks": ""
           },
           "baxis": {
            "gridcolor": "white",
            "linecolor": "white",
            "ticks": ""
           },
           "bgcolor": "#E5ECF6",
           "caxis": {
            "gridcolor": "white",
            "linecolor": "white",
            "ticks": ""
           }
          },
          "title": {
           "x": 0.05
          },
          "xaxis": {
           "automargin": true,
           "gridcolor": "white",
           "linecolor": "white",
           "ticks": "",
           "title": {
            "standoff": 15
           },
           "zerolinecolor": "white",
           "zerolinewidth": 2
          },
          "yaxis": {
           "automargin": true,
           "gridcolor": "white",
           "linecolor": "white",
           "ticks": "",
           "title": {
            "standoff": 15
           },
           "zerolinecolor": "white",
           "zerolinewidth": 2
          }
         }
        },
        "xaxis": {
         "showgrid": false,
         "visible": false
        },
        "yaxis": {
         "dtick": 0.25,
         "linecolor": "#BCCCDC",
         "showgrid": false,
         "tick0": 0,
         "tickformat": ",.0%"
        }
       }
      }
     },
     "metadata": {}
    }
   ],
   "metadata": {}
  },
  {
   "cell_type": "code",
   "execution_count": 10,
   "source": [
    "# Trend of Trends Pie Graph\r\n",
    "colors = [\"#60A5FA\",\"#059669\",\"#F59E0B\", \"#92400E\", \"#DC2626\"]\r\n",
    "lacking = 1-bluesky[-1]-retrace[-1]-reset[-1]-reversal[-1]-downtrend[-1]\r\n",
    "trends = [\"Uptrend - Blueskies\",\"Uptrend - Retrace\", \"Sideways - Reset\", \"Sideways - Reversal\",\"Downtrend\", \"New / Not Enough Data\"]\r\n",
    "\r\n",
    "pie_trends = [bluesky[-1],retrace[-1],reset[-1],reversal[-1],downtrend[-1],lacking]\r\n",
    "pie_fig = px.pie(names=trends,values=pie_trends)\r\n",
    "pie_fig.update_layout(margin=dict(l=0, r=0, t=0, b=0))\r\n",
    "pie_fig.update_layout(height=280)\r\n",
    "pie_fig.update_traces(hoverinfo='label+percent', textfont_size=16,\r\n",
    "                  marker=dict(colors=colors, line=dict(color='#000000', width=2)))"
   ],
   "outputs": [
    {
     "output_type": "display_data",
     "data": {
      "application/vnd.plotly.v1+json": {
       "config": {
        "plotlyServerURL": "https://plot.ly"
       },
       "data": [
        {
         "domain": {
          "x": [
           0,
           1
          ],
          "y": [
           0,
           1
          ]
         },
         "hoverinfo": "label+percent",
         "hovertemplate": "label=%{label}<br>value=%{value}<extra></extra>",
         "labels": [
          "Uptrend - Blueskies",
          "Uptrend - Retrace",
          "Sideways - Reset",
          "Sideways - Reversal",
          "Downtrend",
          "New / Not Enough Data"
         ],
         "legendgroup": "",
         "marker": {
          "colors": [
           "#60A5FA",
           "#059669",
           "#F59E0B",
           "#92400E",
           "#DC2626"
          ],
          "line": {
           "color": "#000000",
           "width": 2
          }
         },
         "name": "",
         "showlegend": true,
         "textfont": {
          "size": 16
         },
         "type": "pie",
         "values": [
          0.15985130111524162,
          0.01486988847583643,
          0.01486988847583643,
          0.6171003717472119,
          0.01486988847583643,
          0.17843866171003714
         ]
        }
       ],
       "layout": {
        "height": 280,
        "legend": {
         "tracegroupgap": 0
        },
        "margin": {
         "b": 0,
         "l": 0,
         "r": 0,
         "t": 0
        },
        "template": {
         "data": {
          "bar": [
           {
            "error_x": {
             "color": "#2a3f5f"
            },
            "error_y": {
             "color": "#2a3f5f"
            },
            "marker": {
             "line": {
              "color": "#E5ECF6",
              "width": 0.5
             },
             "pattern": {
              "fillmode": "overlay",
              "size": 10,
              "solidity": 0.2
             }
            },
            "type": "bar"
           }
          ],
          "barpolar": [
           {
            "marker": {
             "line": {
              "color": "#E5ECF6",
              "width": 0.5
             },
             "pattern": {
              "fillmode": "overlay",
              "size": 10,
              "solidity": 0.2
             }
            },
            "type": "barpolar"
           }
          ],
          "carpet": [
           {
            "aaxis": {
             "endlinecolor": "#2a3f5f",
             "gridcolor": "white",
             "linecolor": "white",
             "minorgridcolor": "white",
             "startlinecolor": "#2a3f5f"
            },
            "baxis": {
             "endlinecolor": "#2a3f5f",
             "gridcolor": "white",
             "linecolor": "white",
             "minorgridcolor": "white",
             "startlinecolor": "#2a3f5f"
            },
            "type": "carpet"
           }
          ],
          "choropleth": [
           {
            "colorbar": {
             "outlinewidth": 0,
             "ticks": ""
            },
            "type": "choropleth"
           }
          ],
          "contour": [
           {
            "colorbar": {
             "outlinewidth": 0,
             "ticks": ""
            },
            "colorscale": [
             [
              0,
              "#0d0887"
             ],
             [
              0.1111111111111111,
              "#46039f"
             ],
             [
              0.2222222222222222,
              "#7201a8"
             ],
             [
              0.3333333333333333,
              "#9c179e"
             ],
             [
              0.4444444444444444,
              "#bd3786"
             ],
             [
              0.5555555555555556,
              "#d8576b"
             ],
             [
              0.6666666666666666,
              "#ed7953"
             ],
             [
              0.7777777777777778,
              "#fb9f3a"
             ],
             [
              0.8888888888888888,
              "#fdca26"
             ],
             [
              1,
              "#f0f921"
             ]
            ],
            "type": "contour"
           }
          ],
          "contourcarpet": [
           {
            "colorbar": {
             "outlinewidth": 0,
             "ticks": ""
            },
            "type": "contourcarpet"
           }
          ],
          "heatmap": [
           {
            "colorbar": {
             "outlinewidth": 0,
             "ticks": ""
            },
            "colorscale": [
             [
              0,
              "#0d0887"
             ],
             [
              0.1111111111111111,
              "#46039f"
             ],
             [
              0.2222222222222222,
              "#7201a8"
             ],
             [
              0.3333333333333333,
              "#9c179e"
             ],
             [
              0.4444444444444444,
              "#bd3786"
             ],
             [
              0.5555555555555556,
              "#d8576b"
             ],
             [
              0.6666666666666666,
              "#ed7953"
             ],
             [
              0.7777777777777778,
              "#fb9f3a"
             ],
             [
              0.8888888888888888,
              "#fdca26"
             ],
             [
              1,
              "#f0f921"
             ]
            ],
            "type": "heatmap"
           }
          ],
          "heatmapgl": [
           {
            "colorbar": {
             "outlinewidth": 0,
             "ticks": ""
            },
            "colorscale": [
             [
              0,
              "#0d0887"
             ],
             [
              0.1111111111111111,
              "#46039f"
             ],
             [
              0.2222222222222222,
              "#7201a8"
             ],
             [
              0.3333333333333333,
              "#9c179e"
             ],
             [
              0.4444444444444444,
              "#bd3786"
             ],
             [
              0.5555555555555556,
              "#d8576b"
             ],
             [
              0.6666666666666666,
              "#ed7953"
             ],
             [
              0.7777777777777778,
              "#fb9f3a"
             ],
             [
              0.8888888888888888,
              "#fdca26"
             ],
             [
              1,
              "#f0f921"
             ]
            ],
            "type": "heatmapgl"
           }
          ],
          "histogram": [
           {
            "marker": {
             "pattern": {
              "fillmode": "overlay",
              "size": 10,
              "solidity": 0.2
             }
            },
            "type": "histogram"
           }
          ],
          "histogram2d": [
           {
            "colorbar": {
             "outlinewidth": 0,
             "ticks": ""
            },
            "colorscale": [
             [
              0,
              "#0d0887"
             ],
             [
              0.1111111111111111,
              "#46039f"
             ],
             [
              0.2222222222222222,
              "#7201a8"
             ],
             [
              0.3333333333333333,
              "#9c179e"
             ],
             [
              0.4444444444444444,
              "#bd3786"
             ],
             [
              0.5555555555555556,
              "#d8576b"
             ],
             [
              0.6666666666666666,
              "#ed7953"
             ],
             [
              0.7777777777777778,
              "#fb9f3a"
             ],
             [
              0.8888888888888888,
              "#fdca26"
             ],
             [
              1,
              "#f0f921"
             ]
            ],
            "type": "histogram2d"
           }
          ],
          "histogram2dcontour": [
           {
            "colorbar": {
             "outlinewidth": 0,
             "ticks": ""
            },
            "colorscale": [
             [
              0,
              "#0d0887"
             ],
             [
              0.1111111111111111,
              "#46039f"
             ],
             [
              0.2222222222222222,
              "#7201a8"
             ],
             [
              0.3333333333333333,
              "#9c179e"
             ],
             [
              0.4444444444444444,
              "#bd3786"
             ],
             [
              0.5555555555555556,
              "#d8576b"
             ],
             [
              0.6666666666666666,
              "#ed7953"
             ],
             [
              0.7777777777777778,
              "#fb9f3a"
             ],
             [
              0.8888888888888888,
              "#fdca26"
             ],
             [
              1,
              "#f0f921"
             ]
            ],
            "type": "histogram2dcontour"
           }
          ],
          "mesh3d": [
           {
            "colorbar": {
             "outlinewidth": 0,
             "ticks": ""
            },
            "type": "mesh3d"
           }
          ],
          "parcoords": [
           {
            "line": {
             "colorbar": {
              "outlinewidth": 0,
              "ticks": ""
             }
            },
            "type": "parcoords"
           }
          ],
          "pie": [
           {
            "automargin": true,
            "type": "pie"
           }
          ],
          "scatter": [
           {
            "marker": {
             "colorbar": {
              "outlinewidth": 0,
              "ticks": ""
             }
            },
            "type": "scatter"
           }
          ],
          "scatter3d": [
           {
            "line": {
             "colorbar": {
              "outlinewidth": 0,
              "ticks": ""
             }
            },
            "marker": {
             "colorbar": {
              "outlinewidth": 0,
              "ticks": ""
             }
            },
            "type": "scatter3d"
           }
          ],
          "scattercarpet": [
           {
            "marker": {
             "colorbar": {
              "outlinewidth": 0,
              "ticks": ""
             }
            },
            "type": "scattercarpet"
           }
          ],
          "scattergeo": [
           {
            "marker": {
             "colorbar": {
              "outlinewidth": 0,
              "ticks": ""
             }
            },
            "type": "scattergeo"
           }
          ],
          "scattergl": [
           {
            "marker": {
             "colorbar": {
              "outlinewidth": 0,
              "ticks": ""
             }
            },
            "type": "scattergl"
           }
          ],
          "scattermapbox": [
           {
            "marker": {
             "colorbar": {
              "outlinewidth": 0,
              "ticks": ""
             }
            },
            "type": "scattermapbox"
           }
          ],
          "scatterpolar": [
           {
            "marker": {
             "colorbar": {
              "outlinewidth": 0,
              "ticks": ""
             }
            },
            "type": "scatterpolar"
           }
          ],
          "scatterpolargl": [
           {
            "marker": {
             "colorbar": {
              "outlinewidth": 0,
              "ticks": ""
             }
            },
            "type": "scatterpolargl"
           }
          ],
          "scatterternary": [
           {
            "marker": {
             "colorbar": {
              "outlinewidth": 0,
              "ticks": ""
             }
            },
            "type": "scatterternary"
           }
          ],
          "surface": [
           {
            "colorbar": {
             "outlinewidth": 0,
             "ticks": ""
            },
            "colorscale": [
             [
              0,
              "#0d0887"
             ],
             [
              0.1111111111111111,
              "#46039f"
             ],
             [
              0.2222222222222222,
              "#7201a8"
             ],
             [
              0.3333333333333333,
              "#9c179e"
             ],
             [
              0.4444444444444444,
              "#bd3786"
             ],
             [
              0.5555555555555556,
              "#d8576b"
             ],
             [
              0.6666666666666666,
              "#ed7953"
             ],
             [
              0.7777777777777778,
              "#fb9f3a"
             ],
             [
              0.8888888888888888,
              "#fdca26"
             ],
             [
              1,
              "#f0f921"
             ]
            ],
            "type": "surface"
           }
          ],
          "table": [
           {
            "cells": {
             "fill": {
              "color": "#EBF0F8"
             },
             "line": {
              "color": "white"
             }
            },
            "header": {
             "fill": {
              "color": "#C8D4E3"
             },
             "line": {
              "color": "white"
             }
            },
            "type": "table"
           }
          ]
         },
         "layout": {
          "annotationdefaults": {
           "arrowcolor": "#2a3f5f",
           "arrowhead": 0,
           "arrowwidth": 1
          },
          "autotypenumbers": "strict",
          "coloraxis": {
           "colorbar": {
            "outlinewidth": 0,
            "ticks": ""
           }
          },
          "colorscale": {
           "diverging": [
            [
             0,
             "#8e0152"
            ],
            [
             0.1,
             "#c51b7d"
            ],
            [
             0.2,
             "#de77ae"
            ],
            [
             0.3,
             "#f1b6da"
            ],
            [
             0.4,
             "#fde0ef"
            ],
            [
             0.5,
             "#f7f7f7"
            ],
            [
             0.6,
             "#e6f5d0"
            ],
            [
             0.7,
             "#b8e186"
            ],
            [
             0.8,
             "#7fbc41"
            ],
            [
             0.9,
             "#4d9221"
            ],
            [
             1,
             "#276419"
            ]
           ],
           "sequential": [
            [
             0,
             "#0d0887"
            ],
            [
             0.1111111111111111,
             "#46039f"
            ],
            [
             0.2222222222222222,
             "#7201a8"
            ],
            [
             0.3333333333333333,
             "#9c179e"
            ],
            [
             0.4444444444444444,
             "#bd3786"
            ],
            [
             0.5555555555555556,
             "#d8576b"
            ],
            [
             0.6666666666666666,
             "#ed7953"
            ],
            [
             0.7777777777777778,
             "#fb9f3a"
            ],
            [
             0.8888888888888888,
             "#fdca26"
            ],
            [
             1,
             "#f0f921"
            ]
           ],
           "sequentialminus": [
            [
             0,
             "#0d0887"
            ],
            [
             0.1111111111111111,
             "#46039f"
            ],
            [
             0.2222222222222222,
             "#7201a8"
            ],
            [
             0.3333333333333333,
             "#9c179e"
            ],
            [
             0.4444444444444444,
             "#bd3786"
            ],
            [
             0.5555555555555556,
             "#d8576b"
            ],
            [
             0.6666666666666666,
             "#ed7953"
            ],
            [
             0.7777777777777778,
             "#fb9f3a"
            ],
            [
             0.8888888888888888,
             "#fdca26"
            ],
            [
             1,
             "#f0f921"
            ]
           ]
          },
          "colorway": [
           "#636efa",
           "#EF553B",
           "#00cc96",
           "#ab63fa",
           "#FFA15A",
           "#19d3f3",
           "#FF6692",
           "#B6E880",
           "#FF97FF",
           "#FECB52"
          ],
          "font": {
           "color": "#2a3f5f"
          },
          "geo": {
           "bgcolor": "white",
           "lakecolor": "white",
           "landcolor": "#E5ECF6",
           "showlakes": true,
           "showland": true,
           "subunitcolor": "white"
          },
          "hoverlabel": {
           "align": "left"
          },
          "hovermode": "closest",
          "mapbox": {
           "style": "light"
          },
          "paper_bgcolor": "white",
          "plot_bgcolor": "#E5ECF6",
          "polar": {
           "angularaxis": {
            "gridcolor": "white",
            "linecolor": "white",
            "ticks": ""
           },
           "bgcolor": "#E5ECF6",
           "radialaxis": {
            "gridcolor": "white",
            "linecolor": "white",
            "ticks": ""
           }
          },
          "scene": {
           "xaxis": {
            "backgroundcolor": "#E5ECF6",
            "gridcolor": "white",
            "gridwidth": 2,
            "linecolor": "white",
            "showbackground": true,
            "ticks": "",
            "zerolinecolor": "white"
           },
           "yaxis": {
            "backgroundcolor": "#E5ECF6",
            "gridcolor": "white",
            "gridwidth": 2,
            "linecolor": "white",
            "showbackground": true,
            "ticks": "",
            "zerolinecolor": "white"
           },
           "zaxis": {
            "backgroundcolor": "#E5ECF6",
            "gridcolor": "white",
            "gridwidth": 2,
            "linecolor": "white",
            "showbackground": true,
            "ticks": "",
            "zerolinecolor": "white"
           }
          },
          "shapedefaults": {
           "line": {
            "color": "#2a3f5f"
           }
          },
          "ternary": {
           "aaxis": {
            "gridcolor": "white",
            "linecolor": "white",
            "ticks": ""
           },
           "baxis": {
            "gridcolor": "white",
            "linecolor": "white",
            "ticks": ""
           },
           "bgcolor": "#E5ECF6",
           "caxis": {
            "gridcolor": "white",
            "linecolor": "white",
            "ticks": ""
           }
          },
          "title": {
           "x": 0.05
          },
          "xaxis": {
           "automargin": true,
           "gridcolor": "white",
           "linecolor": "white",
           "ticks": "",
           "title": {
            "standoff": 15
           },
           "zerolinecolor": "white",
           "zerolinewidth": 2
          },
          "yaxis": {
           "automargin": true,
           "gridcolor": "white",
           "linecolor": "white",
           "ticks": "",
           "title": {
            "standoff": 15
           },
           "zerolinecolor": "white",
           "zerolinewidth": 2
          }
         }
        }
       }
      }
     },
     "metadata": {}
    }
   ],
   "metadata": {}
  },
  {
   "cell_type": "code",
   "execution_count": 11,
   "source": [
    "twomean = quant_df['2D Δ'].mean()\r\n",
    "twomean"
   ],
   "outputs": [
    {
     "output_type": "execute_result",
     "data": {
      "text/plain": [
       "0.09540713689384898"
      ]
     },
     "metadata": {},
     "execution_count": 11
    }
   ],
   "metadata": {}
  },
  {
   "cell_type": "code",
   "execution_count": 12,
   "source": [
    "sevenmean = quant_df['7D Δ'].mean()"
   ],
   "outputs": [],
   "metadata": {}
  },
  {
   "cell_type": "code",
   "execution_count": 13,
   "source": [
    "revised = quant_df[(quant_df['2D Δ'] > twomean) & (quant_df['7D Δ'] > sevenmean)]\r\n",
    "revised = revised.fillna(0)\r\n",
    "revised.rsi"
   ],
   "outputs": [
    {
     "output_type": "execute_result",
     "data": {
      "text/plain": [
       "2      73.381\n",
       "6      77.461\n",
       "15     67.605\n",
       "27     72.007\n",
       "33     71.838\n",
       "35     70.016\n",
       "39     71.190\n",
       "40     84.244\n",
       "43     81.365\n",
       "44     70.810\n",
       "50     77.246\n",
       "55     66.655\n",
       "58     68.317\n",
       "60     79.409\n",
       "63     68.459\n",
       "67     69.283\n",
       "72     78.767\n",
       "73     82.039\n",
       "75     73.998\n",
       "82     65.062\n",
       "87     70.226\n",
       "92     82.613\n",
       "99     66.726\n",
       "111    66.936\n",
       "122    69.280\n",
       "123    71.817\n",
       "131    85.616\n",
       "133    78.907\n",
       "135    68.349\n",
       "137    73.705\n",
       "138    76.359\n",
       "139    70.607\n",
       "140    71.043\n",
       "142    70.565\n",
       "145    70.456\n",
       "147    68.042\n",
       "148    71.184\n",
       "154    95.983\n",
       "155    71.614\n",
       "156    77.324\n",
       "164    79.779\n",
       "166    70.855\n",
       "168    77.632\n",
       "169    72.118\n",
       "178    70.550\n",
       "181    73.666\n",
       "191    85.903\n",
       "194    71.823\n",
       "196    75.418\n",
       "203    68.004\n",
       "204    61.909\n",
       "205    69.827\n",
       "213    69.484\n",
       "226    66.456\n",
       "229    66.603\n",
       "233    79.169\n",
       "239    79.879\n",
       "Name: rsi, dtype: float64"
      ]
     },
     "metadata": {},
     "execution_count": 13
    }
   ],
   "metadata": {}
  },
  {
   "cell_type": "code",
   "execution_count": 17,
   "source": [
    "# Quants Scatter Plot\r\n",
    "scatter_fig = px.scatter(revised,x='2D Δ',y='7D Δ',color=\"rsi\",color_continuous_scale=\"Rainbow\")\r\n",
    "scatter_fig.update_traces(\r\n",
    "    mode = \"markers+text\",\r\n",
    "    text = revised['Symbol'],\r\n",
    "    textposition = \"top left\",\r\n",
    "    textfont_size=10,\r\n",
    ")\r\n",
    "scatter_fig.update_layout(\r\n",
    "    xaxis_title=\"2 Day Change\",\r\n",
    "    yaxis_title=\"7 Day Change\",\r\n",
    "    yaxis_visible=True,\r\n",
    "    xaxis_visible=True,\r\n",
    "    xaxis_showgrid=False,\r\n",
    "    yaxis_showgrid=False,\r\n",
    "    plot_bgcolor=\"#FFFFFF\"\r\n",
    ")\r\n",
    "scatter_fig.update_yaxes(tick0=0, dtick=0.25,tickformat=',.0%',)\r\n",
    "scatter_fig.update_xaxes(tick0=0, dtick=0.10,tickformat=',.0%',)\r\n",
    "scatter_fig.update_layout(margin=dict(l=20, r=20, t=30, b=20))\r\n",
    "scatter_fig.update_layout(height=548)\r\n",
    "ll"
   ],
   "outputs": [
    {
     "output_type": "display_data",
     "data": {
      "application/vnd.plotly.v1+json": {
       "config": {
        "plotlyServerURL": "https://plot.ly"
       },
       "data": [
        {
         "hovertemplate": "2D Δ=%{x}<br>7D Δ=%{y}<br>rsi=%{marker.color}<extra></extra>",
         "legendgroup": "",
         "marker": {
          "color": [
           73.381,
           77.461,
           67.605,
           72.007,
           71.838,
           70.016,
           71.19,
           84.244,
           81.365,
           70.81,
           77.246,
           66.655,
           68.317,
           79.409,
           68.459,
           69.283,
           78.767,
           82.039,
           73.998,
           65.062,
           70.226,
           82.613,
           66.726,
           66.936,
           69.28,
           71.817,
           85.616,
           78.907,
           68.349,
           73.705,
           76.359,
           70.607,
           71.043,
           70.565,
           70.456,
           68.042,
           71.184,
           95.983,
           71.614,
           77.324,
           79.779,
           70.855,
           77.632,
           72.118,
           70.55,
           73.666,
           85.903,
           71.823,
           75.418,
           68.004,
           61.909,
           69.827,
           69.484,
           66.456,
           66.603,
           79.169,
           79.879
          ],
          "coloraxis": "coloraxis",
          "symbol": "circle"
         },
         "mode": "markers+text",
         "name": "",
         "orientation": "v",
         "showlegend": false,
         "text": [
          "BNBUSDT",
          "ADAUSDT",
          "ICXUSDT",
          "FETUSDT",
          "DASHUSDT",
          "OMGUSDT",
          "MATICUSDT",
          "ATOMUSDT",
          "FTMUSDT",
          "ALGOUSDT",
          "COSUSDT",
          "DENTUSDT",
          "DOCKUSDT",
          "FUNUSDT",
          "BANDUSDT",
          "RENUSDT",
          "KAVAUSDT",
          "ARPAUSDT",
          "RLCUSDT",
          "OGNUSDT",
          "LSKUSDT",
          "COTIUSDT",
          "CHRUSDT",
          "SNXUSDT",
          "BALUSDT",
          "BLZUSDT",
          "OCEANUSDT",
          "DOTUSDT",
          "RSRUSDT",
          "WNXMUSDT",
          "TRBUSDT",
          "BZRXUSDT",
          "SUSHIUSDT",
          "KSMUSDT",
          "RUNEUSDT",
          "UMAUSDT",
          "BELUSDT",
          "AVAXUSDT",
          "HNTUSDT",
          "FLMUSDT",
          "INJUSDT",
          "CTKUSDT",
          "AXSUSDT",
          "HARDUSDT",
          "GRTUSDT",
          "1INCHUSDT",
          "TWTUSDT",
          "SFPUSDT",
          "CAKEUSDT",
          "ALICEUSDT",
          "LINAUSDT",
          "PERPUSDT",
          "BTGUSDT",
          "LPTUSDT",
          "ATAUSDT",
          "ERNUSDT",
          "C98USDT"
         ],
         "textfont": {
          "size": 10
         },
         "textposition": "top left",
         "type": "scatter",
         "x": [
          0.13103500492138392,
          0.15671180803041107,
          0.17726611315586757,
          0.11928675545616106,
          0.10475146547204875,
          0.1983249970920088,
          0.22596481760468898,
          0.15765112647780516,
          0.20660618636297842,
          0.25441734417344175,
          0.3542757417102966,
          0.10564982770951181,
          0.23694976076555035,
          0.3075857291305855,
          0.17132045929018797,
          0.1258973941662598,
          0.24244265769134868,
          0.22186495176848875,
          0.1007030303030303,
          0.1524531480311645,
          0.09949773868775713,
          0.31137318693235716,
          0.18541083484274662,
          0.20860897944782572,
          0.15495164927569463,
          0.1492496836015187,
          0.3252139565503621,
          0.17311882017764377,
          0.21457489878542513,
          0.0977747527503056,
          0.1444413966064501,
          0.18246027074749854,
          0.10912714228776403,
          0.18618117229129671,
          0.22510231923601629,
          0.14140700856209715,
          0.17584526797578642,
          0.5411443051480395,
          0.166973227059064,
          0.21867921240634267,
          0.2632797002424509,
          0.10965242655762389,
          0.12534489554592054,
          0.20474839794096028,
          0.1799648506151143,
          0.10251550101198323,
          0.1675427955250033,
          0.14207869220290087,
          0.0973861720067454,
          0.394417260350379,
          0.19726562499999994,
          0.14648545599901613,
          0.2025513634053159,
          0.1807817589576546,
          0.2055501957891152,
          0.3896070320579111,
          0.5580512306468658
         ],
         "xaxis": "x",
         "y": [
          0.09107951502166813,
          0.13826802581127845,
          0.12058008799087494,
          0.08863684915810532,
          0.132603703522744,
          0.10009254645119943,
          0.08250827266710792,
          0.3648257725180802,
          0.45193508114856434,
          0.2118546444653891,
          0.1950718685831621,
          0.15004480210992582,
          0.1833182666010597,
          0.2772256290970608,
          0.07624985013787329,
          0.19500585401431839,
          0.29458849507233204,
          0.2870448772226926,
          0.08905998896644353,
          0.10431799838579504,
          0.14884471990691273,
          0.27373271889400913,
          0.28576531523486326,
          0.132771164021164,
          0.11047003050237038,
          0.08937446443873175,
          0.47299868286257857,
          0.23223165955199582,
          0.13180853572270684,
          0.18909769345350064,
          0.15869867089863124,
          0.14342629482071714,
          0.10692124105011928,
          0.18812268716196984,
          0.350191361399672,
          0.0855439892545331,
          0.15164369034994696,
          1.5616271336732432,
          0.3396680157193971,
          0.2220863183644941,
          0.20157232704402517,
          0.19262129185219437,
          0.10515032108862449,
          0.16355519480519481,
          0.08441908043501684,
          0.11719512989126891,
          0.6606595092024541,
          0.14787371134020616,
          0.11133776091081601,
          0.2393435234911932,
          0.08880994671403192,
          0.18068397720076007,
          0.1688208201188902,
          0.13814756671899533,
          0.1967887323943663,
          0.5894137650624678,
          1.4080070724930538
         ],
         "yaxis": "y"
        }
       ],
       "layout": {
        "coloraxis": {
         "colorbar": {
          "title": {
           "text": "rsi"
          }
         },
         "colorscale": [
          [
           0,
           "rgb(150,0,90)"
          ],
          [
           0.125,
           "rgb(0,0,200)"
          ],
          [
           0.25,
           "rgb(0,25,255)"
          ],
          [
           0.375,
           "rgb(0,152,255)"
          ],
          [
           0.5,
           "rgb(44,255,150)"
          ],
          [
           0.625,
           "rgb(151,255,0)"
          ],
          [
           0.75,
           "rgb(255,234,0)"
          ],
          [
           0.875,
           "rgb(255,111,0)"
          ],
          [
           1,
           "rgb(255,0,0)"
          ]
         ]
        },
        "height": 548,
        "legend": {
         "tracegroupgap": 0
        },
        "margin": {
         "b": 20,
         "l": 20,
         "r": 20,
         "t": 30
        },
        "plot_bgcolor": "#FFFFFF",
        "template": {
         "data": {
          "bar": [
           {
            "error_x": {
             "color": "#2a3f5f"
            },
            "error_y": {
             "color": "#2a3f5f"
            },
            "marker": {
             "line": {
              "color": "#E5ECF6",
              "width": 0.5
             },
             "pattern": {
              "fillmode": "overlay",
              "size": 10,
              "solidity": 0.2
             }
            },
            "type": "bar"
           }
          ],
          "barpolar": [
           {
            "marker": {
             "line": {
              "color": "#E5ECF6",
              "width": 0.5
             },
             "pattern": {
              "fillmode": "overlay",
              "size": 10,
              "solidity": 0.2
             }
            },
            "type": "barpolar"
           }
          ],
          "carpet": [
           {
            "aaxis": {
             "endlinecolor": "#2a3f5f",
             "gridcolor": "white",
             "linecolor": "white",
             "minorgridcolor": "white",
             "startlinecolor": "#2a3f5f"
            },
            "baxis": {
             "endlinecolor": "#2a3f5f",
             "gridcolor": "white",
             "linecolor": "white",
             "minorgridcolor": "white",
             "startlinecolor": "#2a3f5f"
            },
            "type": "carpet"
           }
          ],
          "choropleth": [
           {
            "colorbar": {
             "outlinewidth": 0,
             "ticks": ""
            },
            "type": "choropleth"
           }
          ],
          "contour": [
           {
            "colorbar": {
             "outlinewidth": 0,
             "ticks": ""
            },
            "colorscale": [
             [
              0,
              "#0d0887"
             ],
             [
              0.1111111111111111,
              "#46039f"
             ],
             [
              0.2222222222222222,
              "#7201a8"
             ],
             [
              0.3333333333333333,
              "#9c179e"
             ],
             [
              0.4444444444444444,
              "#bd3786"
             ],
             [
              0.5555555555555556,
              "#d8576b"
             ],
             [
              0.6666666666666666,
              "#ed7953"
             ],
             [
              0.7777777777777778,
              "#fb9f3a"
             ],
             [
              0.8888888888888888,
              "#fdca26"
             ],
             [
              1,
              "#f0f921"
             ]
            ],
            "type": "contour"
           }
          ],
          "contourcarpet": [
           {
            "colorbar": {
             "outlinewidth": 0,
             "ticks": ""
            },
            "type": "contourcarpet"
           }
          ],
          "heatmap": [
           {
            "colorbar": {
             "outlinewidth": 0,
             "ticks": ""
            },
            "colorscale": [
             [
              0,
              "#0d0887"
             ],
             [
              0.1111111111111111,
              "#46039f"
             ],
             [
              0.2222222222222222,
              "#7201a8"
             ],
             [
              0.3333333333333333,
              "#9c179e"
             ],
             [
              0.4444444444444444,
              "#bd3786"
             ],
             [
              0.5555555555555556,
              "#d8576b"
             ],
             [
              0.6666666666666666,
              "#ed7953"
             ],
             [
              0.7777777777777778,
              "#fb9f3a"
             ],
             [
              0.8888888888888888,
              "#fdca26"
             ],
             [
              1,
              "#f0f921"
             ]
            ],
            "type": "heatmap"
           }
          ],
          "heatmapgl": [
           {
            "colorbar": {
             "outlinewidth": 0,
             "ticks": ""
            },
            "colorscale": [
             [
              0,
              "#0d0887"
             ],
             [
              0.1111111111111111,
              "#46039f"
             ],
             [
              0.2222222222222222,
              "#7201a8"
             ],
             [
              0.3333333333333333,
              "#9c179e"
             ],
             [
              0.4444444444444444,
              "#bd3786"
             ],
             [
              0.5555555555555556,
              "#d8576b"
             ],
             [
              0.6666666666666666,
              "#ed7953"
             ],
             [
              0.7777777777777778,
              "#fb9f3a"
             ],
             [
              0.8888888888888888,
              "#fdca26"
             ],
             [
              1,
              "#f0f921"
             ]
            ],
            "type": "heatmapgl"
           }
          ],
          "histogram": [
           {
            "marker": {
             "pattern": {
              "fillmode": "overlay",
              "size": 10,
              "solidity": 0.2
             }
            },
            "type": "histogram"
           }
          ],
          "histogram2d": [
           {
            "colorbar": {
             "outlinewidth": 0,
             "ticks": ""
            },
            "colorscale": [
             [
              0,
              "#0d0887"
             ],
             [
              0.1111111111111111,
              "#46039f"
             ],
             [
              0.2222222222222222,
              "#7201a8"
             ],
             [
              0.3333333333333333,
              "#9c179e"
             ],
             [
              0.4444444444444444,
              "#bd3786"
             ],
             [
              0.5555555555555556,
              "#d8576b"
             ],
             [
              0.6666666666666666,
              "#ed7953"
             ],
             [
              0.7777777777777778,
              "#fb9f3a"
             ],
             [
              0.8888888888888888,
              "#fdca26"
             ],
             [
              1,
              "#f0f921"
             ]
            ],
            "type": "histogram2d"
           }
          ],
          "histogram2dcontour": [
           {
            "colorbar": {
             "outlinewidth": 0,
             "ticks": ""
            },
            "colorscale": [
             [
              0,
              "#0d0887"
             ],
             [
              0.1111111111111111,
              "#46039f"
             ],
             [
              0.2222222222222222,
              "#7201a8"
             ],
             [
              0.3333333333333333,
              "#9c179e"
             ],
             [
              0.4444444444444444,
              "#bd3786"
             ],
             [
              0.5555555555555556,
              "#d8576b"
             ],
             [
              0.6666666666666666,
              "#ed7953"
             ],
             [
              0.7777777777777778,
              "#fb9f3a"
             ],
             [
              0.8888888888888888,
              "#fdca26"
             ],
             [
              1,
              "#f0f921"
             ]
            ],
            "type": "histogram2dcontour"
           }
          ],
          "mesh3d": [
           {
            "colorbar": {
             "outlinewidth": 0,
             "ticks": ""
            },
            "type": "mesh3d"
           }
          ],
          "parcoords": [
           {
            "line": {
             "colorbar": {
              "outlinewidth": 0,
              "ticks": ""
             }
            },
            "type": "parcoords"
           }
          ],
          "pie": [
           {
            "automargin": true,
            "type": "pie"
           }
          ],
          "scatter": [
           {
            "marker": {
             "colorbar": {
              "outlinewidth": 0,
              "ticks": ""
             }
            },
            "type": "scatter"
           }
          ],
          "scatter3d": [
           {
            "line": {
             "colorbar": {
              "outlinewidth": 0,
              "ticks": ""
             }
            },
            "marker": {
             "colorbar": {
              "outlinewidth": 0,
              "ticks": ""
             }
            },
            "type": "scatter3d"
           }
          ],
          "scattercarpet": [
           {
            "marker": {
             "colorbar": {
              "outlinewidth": 0,
              "ticks": ""
             }
            },
            "type": "scattercarpet"
           }
          ],
          "scattergeo": [
           {
            "marker": {
             "colorbar": {
              "outlinewidth": 0,
              "ticks": ""
             }
            },
            "type": "scattergeo"
           }
          ],
          "scattergl": [
           {
            "marker": {
             "colorbar": {
              "outlinewidth": 0,
              "ticks": ""
             }
            },
            "type": "scattergl"
           }
          ],
          "scattermapbox": [
           {
            "marker": {
             "colorbar": {
              "outlinewidth": 0,
              "ticks": ""
             }
            },
            "type": "scattermapbox"
           }
          ],
          "scatterpolar": [
           {
            "marker": {
             "colorbar": {
              "outlinewidth": 0,
              "ticks": ""
             }
            },
            "type": "scatterpolar"
           }
          ],
          "scatterpolargl": [
           {
            "marker": {
             "colorbar": {
              "outlinewidth": 0,
              "ticks": ""
             }
            },
            "type": "scatterpolargl"
           }
          ],
          "scatterternary": [
           {
            "marker": {
             "colorbar": {
              "outlinewidth": 0,
              "ticks": ""
             }
            },
            "type": "scatterternary"
           }
          ],
          "surface": [
           {
            "colorbar": {
             "outlinewidth": 0,
             "ticks": ""
            },
            "colorscale": [
             [
              0,
              "#0d0887"
             ],
             [
              0.1111111111111111,
              "#46039f"
             ],
             [
              0.2222222222222222,
              "#7201a8"
             ],
             [
              0.3333333333333333,
              "#9c179e"
             ],
             [
              0.4444444444444444,
              "#bd3786"
             ],
             [
              0.5555555555555556,
              "#d8576b"
             ],
             [
              0.6666666666666666,
              "#ed7953"
             ],
             [
              0.7777777777777778,
              "#fb9f3a"
             ],
             [
              0.8888888888888888,
              "#fdca26"
             ],
             [
              1,
              "#f0f921"
             ]
            ],
            "type": "surface"
           }
          ],
          "table": [
           {
            "cells": {
             "fill": {
              "color": "#EBF0F8"
             },
             "line": {
              "color": "white"
             }
            },
            "header": {
             "fill": {
              "color": "#C8D4E3"
             },
             "line": {
              "color": "white"
             }
            },
            "type": "table"
           }
          ]
         },
         "layout": {
          "annotationdefaults": {
           "arrowcolor": "#2a3f5f",
           "arrowhead": 0,
           "arrowwidth": 1
          },
          "autotypenumbers": "strict",
          "coloraxis": {
           "colorbar": {
            "outlinewidth": 0,
            "ticks": ""
           }
          },
          "colorscale": {
           "diverging": [
            [
             0,
             "#8e0152"
            ],
            [
             0.1,
             "#c51b7d"
            ],
            [
             0.2,
             "#de77ae"
            ],
            [
             0.3,
             "#f1b6da"
            ],
            [
             0.4,
             "#fde0ef"
            ],
            [
             0.5,
             "#f7f7f7"
            ],
            [
             0.6,
             "#e6f5d0"
            ],
            [
             0.7,
             "#b8e186"
            ],
            [
             0.8,
             "#7fbc41"
            ],
            [
             0.9,
             "#4d9221"
            ],
            [
             1,
             "#276419"
            ]
           ],
           "sequential": [
            [
             0,
             "#0d0887"
            ],
            [
             0.1111111111111111,
             "#46039f"
            ],
            [
             0.2222222222222222,
             "#7201a8"
            ],
            [
             0.3333333333333333,
             "#9c179e"
            ],
            [
             0.4444444444444444,
             "#bd3786"
            ],
            [
             0.5555555555555556,
             "#d8576b"
            ],
            [
             0.6666666666666666,
             "#ed7953"
            ],
            [
             0.7777777777777778,
             "#fb9f3a"
            ],
            [
             0.8888888888888888,
             "#fdca26"
            ],
            [
             1,
             "#f0f921"
            ]
           ],
           "sequentialminus": [
            [
             0,
             "#0d0887"
            ],
            [
             0.1111111111111111,
             "#46039f"
            ],
            [
             0.2222222222222222,
             "#7201a8"
            ],
            [
             0.3333333333333333,
             "#9c179e"
            ],
            [
             0.4444444444444444,
             "#bd3786"
            ],
            [
             0.5555555555555556,
             "#d8576b"
            ],
            [
             0.6666666666666666,
             "#ed7953"
            ],
            [
             0.7777777777777778,
             "#fb9f3a"
            ],
            [
             0.8888888888888888,
             "#fdca26"
            ],
            [
             1,
             "#f0f921"
            ]
           ]
          },
          "colorway": [
           "#636efa",
           "#EF553B",
           "#00cc96",
           "#ab63fa",
           "#FFA15A",
           "#19d3f3",
           "#FF6692",
           "#B6E880",
           "#FF97FF",
           "#FECB52"
          ],
          "font": {
           "color": "#2a3f5f"
          },
          "geo": {
           "bgcolor": "white",
           "lakecolor": "white",
           "landcolor": "#E5ECF6",
           "showlakes": true,
           "showland": true,
           "subunitcolor": "white"
          },
          "hoverlabel": {
           "align": "left"
          },
          "hovermode": "closest",
          "mapbox": {
           "style": "light"
          },
          "paper_bgcolor": "white",
          "plot_bgcolor": "#E5ECF6",
          "polar": {
           "angularaxis": {
            "gridcolor": "white",
            "linecolor": "white",
            "ticks": ""
           },
           "bgcolor": "#E5ECF6",
           "radialaxis": {
            "gridcolor": "white",
            "linecolor": "white",
            "ticks": ""
           }
          },
          "scene": {
           "xaxis": {
            "backgroundcolor": "#E5ECF6",
            "gridcolor": "white",
            "gridwidth": 2,
            "linecolor": "white",
            "showbackground": true,
            "ticks": "",
            "zerolinecolor": "white"
           },
           "yaxis": {
            "backgroundcolor": "#E5ECF6",
            "gridcolor": "white",
            "gridwidth": 2,
            "linecolor": "white",
            "showbackground": true,
            "ticks": "",
            "zerolinecolor": "white"
           },
           "zaxis": {
            "backgroundcolor": "#E5ECF6",
            "gridcolor": "white",
            "gridwidth": 2,
            "linecolor": "white",
            "showbackground": true,
            "ticks": "",
            "zerolinecolor": "white"
           }
          },
          "shapedefaults": {
           "line": {
            "color": "#2a3f5f"
           }
          },
          "ternary": {
           "aaxis": {
            "gridcolor": "white",
            "linecolor": "white",
            "ticks": ""
           },
           "baxis": {
            "gridcolor": "white",
            "linecolor": "white",
            "ticks": ""
           },
           "bgcolor": "#E5ECF6",
           "caxis": {
            "gridcolor": "white",
            "linecolor": "white",
            "ticks": ""
           }
          },
          "title": {
           "x": 0.05
          },
          "xaxis": {
           "automargin": true,
           "gridcolor": "white",
           "linecolor": "white",
           "ticks": "",
           "title": {
            "standoff": 15
           },
           "zerolinecolor": "white",
           "zerolinewidth": 2
          },
          "yaxis": {
           "automargin": true,
           "gridcolor": "white",
           "linecolor": "white",
           "ticks": "",
           "title": {
            "standoff": 15
           },
           "zerolinecolor": "white",
           "zerolinewidth": 2
          }
         }
        },
        "xaxis": {
         "anchor": "y",
         "domain": [
          0,
          1
         ],
         "dtick": 0.1,
         "showgrid": false,
         "tick0": 0,
         "tickformat": ",.0%",
         "title": {
          "text": "2 Day Change"
         },
         "visible": true
        },
        "yaxis": {
         "anchor": "x",
         "domain": [
          0,
          1
         ],
         "dtick": 0.25,
         "showgrid": false,
         "tick0": 0,
         "tickformat": ",.0%",
         "title": {
          "text": "7 Day Change"
         },
         "visible": true
        }
       }
      }
     },
     "metadata": {}
    }
   ],
   "metadata": {}
  },
  {
   "cell_type": "code",
   "execution_count": 18,
   "source": [
    "app = JupyterDash(__name__)\r\n",
    "\r\n",
    "app.layout=html.Div([\r\n",
    "    # Left\r\n",
    "    html.Div(className=\"inline-block w-1/12 bg-white\",),\r\n",
    "    # Middle\r\n",
    "    html.Div([\r\n",
    "        html.Div([\r\n",
    "            # Header\r\n",
    "            html.Div([\r\n",
    "                html.Div(\"Dashboard\",className=\"lg-text\"),\r\n",
    "                html.Div(\"Updated as of xxxx\",className=\"sm-text\")\r\n",
    "            ],className=\"flex flex-col  mb-6\"),\r\n",
    "\r\n",
    "            # Trends Boxes\r\n",
    "            html.Div([\r\n",
    "                html.Div(\r\n",
    "                    html.Div([\r\n",
    "                        html.Div(\"Uptrend - Blueskies\",className=\"sm-text\"),\r\n",
    "                        html.Div(\"78\",className=\"text-5xl pt-2 pb-2 card-body\"),\r\n",
    "                        html.Div([\r\n",
    "                            html.Div([\r\n",
    "                                html.Img(src=\"./assets/up.svg\",className=\"w-2 h-3\")\r\n",
    "                            ],className=\"bg-green-300 w-4 h-4 rounded-full flex items-center justify-center\"),\r\n",
    "                            html.Div(\"+\",className=\"text-sm\",style={'color':'#1BCA8E','fontFamily': 'Roboto'}),\r\n",
    "                            html.Div(\"69.12%\",className=\"text-sm\",style={'color':'#1BCA8E','fontFamily': 'Roboto'})\r\n",
    "                        ],className=\"flex space-x-1 items-center flex-row\"),\r\n",
    "                    ],className=\"flex flex-col items-center\"),className=\"card bg-white\"),\r\n",
    "\r\n",
    "                    \r\n",
    "                html.Div(\r\n",
    "                    html.Div([\r\n",
    "                        html.Div(\"Uptrend - Retrace\",className=\"sm-text\"),\r\n",
    "                        html.Div(\"78\",className=\"text-5xl pt-2 pb-2 card-body\"),\r\n",
    "                        html.Div([\r\n",
    "                            html.Div([\r\n",
    "                                html.Img(src=\"./assets/up.svg\",className=\"w-2 h-3\")\r\n",
    "                            ],className=\"bg-green-300 w-4 h-4 rounded-full flex items-center justify-center\"),\r\n",
    "                            html.Div(\"+\",className=\"text-sm\",style={'color':'#1BCA8E','fontFamily': 'Roboto'}),\r\n",
    "                            html.Div(\"69.12%\",className=\"text-sm\",style={'color':'#1BCA8E','fontFamily': 'Roboto'})\r\n",
    "                        ],className=\"flex space-x-1 items-center flex-row\"),\r\n",
    "                    ],className=\"flex flex-col items-center\"),className=\"card bg-white\"),\r\n",
    "\r\n",
    "                html.Div(\r\n",
    "                    html.Div([\r\n",
    "                        html.Div(\"Sideways - Reset\",className=\"sm-text\"),\r\n",
    "                        html.Div(\"78\",className=\"text-5xl pt-2 pb-2 card-body\"),\r\n",
    "                        html.Div([\r\n",
    "                            html.Div([\r\n",
    "                                html.Img(src=\"./assets/up.svg\",className=\"w-2 h-3\")\r\n",
    "                            ],className=\"bg-green-300 w-4 h-4 rounded-full flex items-center justify-center\"),\r\n",
    "                            html.Div(\"+\",className=\"text-sm\",style={'color':'#1BCA8E','fontFamily': 'Roboto'}),\r\n",
    "                            html.Div(\"69.12%\",className=\"text-sm\",style={'color':'#1BCA8E','fontFamily': 'Roboto'})\r\n",
    "                        ],className=\"flex space-x-1 items-center flex-row\"),\r\n",
    "                    ],className=\"flex flex-col items-center\"),className=\"card bg-white\"),\r\n",
    "                \r\n",
    "                html.Div(\r\n",
    "                    html.Div([\r\n",
    "                        html.Div(\"Sideways - Reversal\",className=\"sm-text\"),\r\n",
    "                        html.Div(\"78\",className=\"text-5xl pt-2 pb-2 card-body\"),\r\n",
    "                        html.Div([\r\n",
    "                            html.Div([\r\n",
    "                                html.Img(src=\"./assets/up.svg\",className=\"w-2 h-3\")\r\n",
    "                            ],className=\"bg-green-300 w-4 h-4 rounded-full flex items-center justify-center\"),\r\n",
    "                            html.Div(\"+\",className=\"text-sm\",style={'color':'#1BCA8E','fontFamily': 'Roboto'}),\r\n",
    "                            html.Div(\"69.12%\",className=\"text-sm\",style={'color':'#1BCA8E','fontFamily': 'Roboto'})\r\n",
    "                        ],className=\"flex space-x-1 items-center flex-row\"),\r\n",
    "                    ],className=\"flex flex-col items-center\"),className=\"card bg-white\"),\r\n",
    "\r\n",
    "                html.Div(\r\n",
    "                    html.Div([\r\n",
    "                        html.Div(\"Downtrend\",className=\"sm-text\"),\r\n",
    "                        html.Div(\"78\",className=\"text-5xl pt-2 pb-2 card-body\"),\r\n",
    "                        html.Div([\r\n",
    "                            html.Div([\r\n",
    "                                html.Img(src=\"./assets/up.svg\",className=\"w-2 h-3\")\r\n",
    "                            ],className=\"bg-green-300 w-4 h-4 rounded-full flex items-center justify-center\"),\r\n",
    "                            html.Div(\"+\",className=\"text-sm\",style={'color':'#1BCA8E','fontFamily': 'Roboto'}),\r\n",
    "                            html.Div(\"69.12%\",className=\"text-sm\",style={'color':'#1BCA8E','fontFamily': 'Roboto'})\r\n",
    "                        ],className=\"flex space-x-1 items-center flex-row\"),\r\n",
    "                    ],className=\"flex flex-col items-center\"),className=\"card bg-white\"),\r\n",
    "            \r\n",
    "            ],className=\"flex flex-row justify-between mb-5\"),\r\n",
    "            \r\n",
    "            # Scatter Plots\r\n",
    "            html.Div([\r\n",
    "                \r\n",
    "                html.Div([\r\n",
    "                    html.Div(\"Scatter (2d x 7d)\",className=\"md-text\"),\r\n",
    "                    html.Div([\r\n",
    "                        dcc.Graph(\r\n",
    "                            id=\"scatter-2d-vs-7d\",\r\n",
    "                            figure = scatter_fig,\r\n",
    "                        )],className=\" flex-grow rounded-lg shadow-md bg-white\"),\r\n",
    "                ],className=\" flex flex-col w-full h-144\"),\r\n",
    "\r\n",
    "                \r\n",
    "\r\n",
    "            \r\n",
    "            \r\n",
    "            ],className=\"flex flex-row space-x-4 mb-5 \"),\r\n",
    "\r\n",
    "            # Trends of Trends and Sentiment\r\n",
    "            html.Div([\r\n",
    "\r\n",
    "                # Trend of Trends\r\n",
    "                html.Div([\r\n",
    "                    html.Div([\r\n",
    "                        html.Div(\"Pie of Trends\", className=\"md-text\"),\r\n",
    "                        html.Div([\r\n",
    "                             dcc.Graph(\r\n",
    "                                id=\"pie-trend-of-trends\",\r\n",
    "                                figure=pie_fig\r\n",
    "                            )],className=\"flex-grow rounded-lg shadow-md bg-white\"),\r\n",
    "                    ],className=\"flex flex-col w-1/2 h-80\"),\r\n",
    "                    \r\n",
    "                    html.Div([\r\n",
    "                        html.Div(\"Sentiment Gauge\", className=\"md-text\"),\r\n",
    "                        html.Div([\r\n",
    "                        \r\n",
    "                            daq.Gauge(\r\n",
    "                                id=\"sentiment-gauge\",\r\n",
    "                                label =\" \",\r\n",
    "                                color={\"gradient\":True,\"ranges\":{\"red\":[0,50],\"yellow\":[50,75],\"green\":[75,100]}},\r\n",
    "                                showCurrentValue = True,\r\n",
    "                                value=sentiment['bullish']/(sentiment['bullish']+sentiment['bearish'])*100,\r\n",
    "                                min=0,\r\n",
    "                                max=100,\r\n",
    "    \r\n",
    "                            )],id=\"gaugeeee\",className=\"flex-grow rounded-lg shadow-md bg-white pt-5\",style={'height':280}),\r\n",
    "                            \r\n",
    "                    ],className=\"flex flex-col w-1/2 h-80\")\r\n",
    "\r\n",
    "                ],className=\"flex flex-row w-1/2 space-x-4 h-80 \"),\r\n",
    "\r\n",
    "                html.Div([\r\n",
    "                    html.Div(\"Trend of Trends\", className=\"md-text\"),\r\n",
    "                    html.Div([\r\n",
    "                        dcc.Graph(\r\n",
    "                        id='line-trend-of-trends',\r\n",
    "                        figure=line_fig\r\n",
    "                    )],className=\"flex-grow rounded-lg shadow-md bg-white\"),\r\n",
    "                ],className=\"flex flex-col w-1/2 h-80\")\r\n",
    "               \r\n",
    "            \r\n",
    "            ],className=\"flex flex-row space-x-4 h-80\"),\r\n",
    "        ],className=\"mt-8 mb-8\")\r\n",
    "        \r\n",
    "\r\n",
    "    ],id=\"MIDDLE\",className=\"flex flex-col w-11/12 pl-24 pr-24 bg-frame-gray\"),\r\n",
    "\r\n",
    "    # Right\r\n",
    "    # html.Div(className=\"inline-block w-1/12 bg-white\"),\r\n",
    "\r\n",
    "\r\n",
    "],className=\"flex flex-row h-screen\",)\r\n",
    "\r\n",
    "app.run_server(port=6969)"
   ],
   "outputs": [
    {
     "output_type": "stream",
     "name": "stdout",
     "text": [
      "Dash app running on http://127.0.0.1:6969/\n"
     ]
    }
   ],
   "metadata": {}
  }
 ],
 "metadata": {
  "interpreter": {
   "hash": "63fd5069d213b44bf678585dea6b12cceca9941eaf7f819626cde1f2670de90d"
  },
  "kernelspec": {
   "name": "python3",
   "display_name": "Python 3.9.1 64-bit"
  },
  "language_info": {
   "codemirror_mode": {
    "name": "ipython",
    "version": 3
   },
   "file_extension": ".py",
   "mimetype": "text/x-python",
   "name": "python",
   "nbconvert_exporter": "python",
   "pygments_lexer": "ipython3",
   "version": "3.9.1"
  }
 },
 "nbformat": 4,
 "nbformat_minor": 2
}