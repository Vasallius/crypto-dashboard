{
 "cells": [
  {
   "cell_type": "markdown",
   "source": [
    "# Crypto-Dashboard Project\n"
   ],
   "metadata": {}
  },
  {
   "cell_type": "code",
   "execution_count": 5,
   "source": [
    "# General Imports\r\n",
    "from binance.client import Client\r\n",
    "from pprint import pprint\r\n",
    "import pandas as pd\r\n",
    "import pandas_ta as ta\r\n",
    "import datetime as dt\r\n",
    "from collections import deque\r\n",
    "from datetime import datetime\r\n",
    "from time import time\r\n",
    "import plotly.express as px\r\n",
    "import plotly.graph_objects as go \r\n",
    "import plotly.offline as pyo\r\n",
    "import dash\r\n",
    "from jupyter_dash import JupyterDash\r\n",
    "import dash_core_components as dcc\r\n",
    "import dash_html_components as html\r\n",
    "import dash_daq as daq"
   ],
   "outputs": [],
   "metadata": {}
  },
  {
   "cell_type": "code",
   "execution_count": 6,
   "source": [
    "# api details\r\n",
    "api_key = \"h6QBbfGT0OIyPJLTHcua57Zrl5dxZqrKshPMbyTH1SIPCHiQv9Og4kNLrS58LkId\"\r\n",
    "api_secret = \"wbz17g5uWRzZ1C2vJsEH7Qvkdi3aNxVpggYJqm1Xl3k70dnWebLB3l1NM9K2f9BB\"\r\n",
    "\r\n",
    "client = Client(api_key, api_secret)"
   ],
   "outputs": [],
   "metadata": {}
  },
  {
   "cell_type": "code",
   "execution_count": 7,
   "source": [
    "# excluded untradeable tokens\r\n",
    "err_tokens = ['BULL', 'BEAR', 'DOWN', 'UP']\r\n",
    "\r\n",
    "# get all binance supported pairs\r\n",
    "symbols_list = list(info['symbol']\r\n",
    "                    for info in client.get_exchange_info()[\"symbols\"] if (info['symbol'].endswith(\"USDT\") and all(lev not in info['symbol'] for lev in err_tokens)))\r\n",
    "\r\n",
    "sym_length = len(symbols_list)\r\n",
    "\r\n",
    "# get 200 days worth of data (daily and weekly)\r\n",
    "d_start = (dt.datetime.now() - dt.timedelta(days=200)).strftime(\"%m-%d-%Y\")\r\n",
    "d_end = dt.datetime.now().strftime(\"%m-%d-%Y\")\r\n",
    "\r\n",
    "w_start = (dt.datetime.now() - dt.timedelta(days=7)).strftime(\"%m-%d-%Y\")\r\n",
    "w_end = dt.datetime.now().strftime(\"%m-%d-%Y\")\r\n",
    "\r\n",
    "# master_df holds 30 days worth of data and technical indicators\r\n",
    "# quant_df holds respective changes\r\n",
    "\r\n",
    "master_df = pd.DataFrame([])\r\n",
    "quant_df = pd.DataFrame([],columns=[\"Symbol\",\"1D Δ\",\"2D Δ\",\"7D Δ\",\"1W Δ\"])\r\n",
    "sentiment = {\r\n",
    "    'bullish': 0,\r\n",
    "    'bearish': 0\r\n",
    "}\r\n",
    "\r\n",
    "test_df = pd.DataFrame([])"
   ],
   "outputs": [],
   "metadata": {}
  },
  {
   "cell_type": "code",
   "execution_count": 8,
   "source": [
    "err_symbols = []\r\n",
    "for symbol in symbols_list:\r\n",
    "    \r\n",
    "    # binance api call to get ohlcv values\r\n",
    "    d_klines = [[float(num) for num in dta[:6]] for dta in client.get_historical_klines(\r\n",
    "        symbol, Client.KLINE_INTERVAL_1DAY, d_start, d_end)]\r\n",
    "\r\n",
    "    # convert epoch time to readable time\r\n",
    "    for x in d_klines:\r\n",
    "        x[0] = datetime.fromtimestamp(int(x[0]/1000)).strftime(\"%m-%d-%Y\")\r\n",
    "    \r\n",
    "\r\n",
    "    # initialize dataframe and calculate needed indicator values\r\n",
    "    df = pd.DataFrame(\r\n",
    "        d_klines, columns=['date', 'open', 'high', 'low', 'close', 'volume'])\r\n",
    "    df['Symbol'] = symbol\r\n",
    "\r\n",
    "    # some pairs don't have enough data\r\n",
    "    try:\r\n",
    "        rsi = round(df.ta.rsi(length=14), 3)\r\n",
    "        chop = round(df.ta.chop(length=28),3)\r\n",
    "        stoch = df.ta.stoch()\r\n",
    "        ma_20 = round(df.ta.sma(length=20), 4)\r\n",
    "        ma_50 = round(df.ta.sma(length=50), 4)\r\n",
    "        ma_100 = round(df.ta.sma(length=100), 4)\r\n",
    "    except Exception as e:\r\n",
    "        print(symbol, e)\r\n",
    "        continue\r\n",
    "\r\n",
    "    # assign calculated values\r\n",
    "\r\n",
    "    close = df['close']\r\n",
    "     \r\n",
    "    df['RSI(14)'] = rsi\r\n",
    "    df['CHOP(28)'] = chop\r\n",
    "    df['STOCH_K'] = round(stoch['STOCHk_14_3_3'],2)\r\n",
    "    df['STOCH_D'] = round(stoch['STOCHd_14_3_3'],2)\r\n",
    "    df['MA(20)'] = ma_20\r\n",
    "    df['MA(50)'] = ma_50\r\n",
    "    df['MA(100)'] = ma_100\r\n",
    "\r\n",
    "    # boolean series\r\n",
    "    try:\r\n",
    "        bluesky = (close > ma_20) & (ma_20 > ma_50) & (ma_50 > ma_100)\r\n",
    "        retrace = (close < ma_20) & (ma_20 > ma_50) & (ma_50 > ma_100)\r\n",
    "        reset = (ma_20 < ma_50) & (ma_50 > ma_100)\r\n",
    "        reversal = (ma_20 > ma_50) & (ma_50 < ma_100)\r\n",
    "        downtrend = (ma_100 > ma_50) & (ma_50 > ma_20)\r\n",
    "        df['bluesky'] = bluesky\r\n",
    "        df['retrace'] = retrace\r\n",
    "        df['reset'] = reset\r\n",
    "        df['reversal'] = reversal\r\n",
    "        df['downtrend'] = downtrend\r\n",
    "    except Exception as e:\r\n",
    "        print(symbol,e)\r\n",
    "        continue\r\n",
    "\r\n",
    "\r\n",
    "    # assign calculated values\r\n",
    "   \r\n",
    "\r\n",
    "    # get the right week and weekly data\r\n",
    "    w_start = (dt.datetime.now() - dt.timedelta(days=14)).strftime(\"%m-%d-%Y\")\r\n",
    "    w_end = dt.datetime.now().strftime(\"%m-%d-%Y\")\r\n",
    "\r\n",
    "    w_klines = [[float(num) for num in dta[:6]] for dta in client.get_historical_klines(\r\n",
    "        symbol, Client.KLINE_INTERVAL_1WEEK, w_start, w_end)]\r\n",
    "\r\n",
    "    # convert to readable date\r\n",
    "    for week in w_klines:\r\n",
    "        week[0] = datetime.fromtimestamp(int(week[0]/1000)).strftime(\"%m-%d-%Y\")\r\n",
    "\r\n",
    "    wdf = pd.DataFrame(w_klines,columns=['date','open','high','low','close','volume'])\r\n",
    "\r\n",
    "    # calculate changes\r\n",
    "    try:\r\n",
    "        D1chg = (df.iloc[-1].close - df.iloc[-2].open) / df.iloc[-2].open\r\n",
    "        D2chg = (df.iloc[-1].close - df.iloc[-3].open) / df.iloc[-3].open\r\n",
    "        D7chg = (df.iloc[-1].close - df.iloc[-8].open) / df.iloc[-8].open\r\n",
    "\r\n",
    "        weeklydf = pd.DataFrame(w_klines,columns=['date','open','high','low','close','volume'])\r\n",
    "        # make sure to get last week and not this week (e.g. during Mondays)\r\n",
    "        lastweek = wdf[wdf['date'] < w_end].iloc[-1]\r\n",
    "        # whichever is higher weekly open/close\r\n",
    "        weekly_sig_level = lastweek.close if lastweek.close > lastweek.open else lastweek.open\r\n",
    "        Wchg = 0 if weeklydf.empty else (df.iloc[-1].close - weekly_sig_level) / weekly_sig_level\r\n",
    "\r\n",
    "        quant_row = pd.DataFrame([[symbol,D1chg,D2chg,D7chg,Wchg,df.iloc[-1]['RSI(14)']]],columns=[\"Symbol\",\"1D Δ\",\"2D Δ\",\"7D Δ\",\"1W Δ\",\"rsi\"])\r\n",
    "        quant_df = pd.concat([quant_df, quant_row],ignore_index=True)\r\n",
    "    except Exception as e:\r\n",
    "        err_symbols.append(symbol)\r\n",
    "\r\n",
    "    # determine bias\r\n",
    "\r\n",
    "    bias = \"bullish\" if df.iloc[-1]['RSI(14)'] > df.iloc[-1]['CHOP(28)'] else \"bearish\"\r\n",
    "    sentiment[bias] += 1\r\n",
    "\r\n",
    "\r\n",
    "    # only get last 30 trading days for ToT\r\n",
    "    master_df = master_df.append(df.iloc[len(df.index)-30:])\r\n",
    "\r\n",
    "    # master_df = master_df.set_index(\"Symbol\")\r\n",
    "    \r\n",
    "    \r\n"
   ],
   "outputs": [
    {
     "output_type": "stream",
     "name": "stdout",
     "text": [
      "BCCUSDT 'AnalysisIndicators' object has no attribute '_df'\n",
      "VENUSDT 'AnalysisIndicators' object has no attribute '_df'\n",
      "BCHABCUSDT 'AnalysisIndicators' object has no attribute '_df'\n",
      "BCHSVUSDT 'AnalysisIndicators' object has no attribute '_df'\n",
      "USDSUSDT 'AnalysisIndicators' object has no attribute '_df'\n",
      "USDSBUSDT 'AnalysisIndicators' object has no attribute '_df'\n",
      "ERDUSDT 'AnalysisIndicators' object has no attribute '_df'\n",
      "STORMUSDT 'AnalysisIndicators' object has no attribute '_df'\n",
      "HCUSDT 'AnalysisIndicators' object has no attribute '_df'\n",
      "MCOUSDT 'AnalysisIndicators' object has no attribute '_df'\n",
      "STRATUSDT 'AnalysisIndicators' object has no attribute '_df'\n",
      "XZCUSDT 'AnalysisIndicators' object has no attribute '_df'\n",
      "LENDUSDT 'AnalysisIndicators' object has no attribute '_df'\n",
      "BKRWUSDT 'AnalysisIndicators' object has no attribute '_df'\n",
      "DAIUSDT 'AnalysisIndicators' object has no attribute '_df'\n"
     ]
    }
   ],
   "metadata": {}
  },
  {
   "cell_type": "code",
   "execution_count": 9,
   "source": [
    "# Keep track of trends for Trend of Trends\r\n",
    "bluesky = []\r\n",
    "retrace = []\r\n",
    "reset = []\r\n",
    "reversal = []\r\n",
    "downtrend = []\r\n",
    "lacking_data = []"
   ],
   "outputs": [],
   "metadata": {}
  },
  {
   "cell_type": "code",
   "execution_count": 10,
   "source": [
    "# Calculate number of trends per day\r\n",
    "for date in list(master_df[-30:]['date']):\r\n",
    "    current = master_df[master_df['date'] == date]\r\n",
    "    \r\n",
    "    bluesky.append(current['bluesky'].value_counts().get(True)/sym_length if current['bluesky'].value_counts().get(True) != None else 0)\r\n",
    "\r\n",
    "    retrace.append(current['retrace'].value_counts().get(True)/sym_length if current['retrace'].value_counts().get(True) != None else 0)\r\n",
    "\r\n",
    "    reset.append(current['reset'].value_counts().get(True)/sym_length if current['reset'].value_counts().get(True) != None else 0)\r\n",
    "\r\n",
    "    reversal.append(current['reversal'].value_counts().get(True)/sym_length if current['reversal'].value_counts().get(True) != None else 0)\r\n",
    "    \r\n",
    "    downtrend.append(current['downtrend'].value_counts().get(True)/sym_length if current['downtrend'].value_counts().get(True) != None else 0)\r\n",
    "\r\n",
    "        "
   ],
   "outputs": [],
   "metadata": {}
  },
  {
   "cell_type": "code",
   "execution_count": 11,
   "source": [
    "# new function to add when array contains None\r\n",
    "def newsum(arr):\r\n",
    "    if None in arr:\r\n",
    "        arr = list(arr)\r\n",
    "        arr = list(filter(lambda x : x!= None,arr))\r\n",
    "        return sum(arr)\r\n",
    "    else:\r\n",
    "        return sum(arr)\r\n"
   ],
   "outputs": [],
   "metadata": {}
  },
  {
   "cell_type": "code",
   "execution_count": 12,
   "source": [
    "ToT_mapper = {\r\n",
    "    \"bluesky\": \"#60A5FA\",\r\n",
    "    \"retrace\": \"#059669\",\r\n",
    "    \"reset\": \"#F59E0B\",\r\n",
    "    \"reversal\": \"#92400E\",\r\n",
    "    \"downtrend\": \"#DC2626\"\r\n",
    "}\r\n",
    "\r\n",
    "\r\n",
    "# Line Traces\r\n",
    "line_data = []\r\n",
    "dates = master_df['date'].unique()\r\n",
    "for trend,color in ToT_mapper.items():\r\n",
    "    scatter_chart = go.Scatter(\r\n",
    "        x=dates,\r\n",
    "        y=eval(trend),\r\n",
    "        marker_color = color,\r\n",
    "        name=trend,\r\n",
    "        mode=\"lines+markers\"\r\n",
    "    )\r\n",
    "    line_data.append(scatter_chart)\r\n"
   ],
   "outputs": [],
   "metadata": {}
  },
  {
   "cell_type": "code",
   "execution_count": 13,
   "source": [
    "# Trend of Trends Line Graph\r\n",
    "\r\n",
    "line_layout = go.Layout(    \r\n",
    "    margin=dict(\r\n",
    "        l=20,\r\n",
    "        r=20, \r\n",
    "        t=30, \r\n",
    "        b=20\r\n",
    "    ),\r\n",
    "    plot_bgcolor=\"#FFF\",\r\n",
    "    xaxis=dict(\r\n",
    "        visible=False, \r\n",
    "        showgrid=False\r\n",
    "    ),\r\n",
    "    yaxis=dict(\r\n",
    "        tick0=0, \r\n",
    "        dtick=0.25,\r\n",
    "        tickformat=',.0%',\r\n",
    "        showgrid=False,\r\n",
    "        linecolor=\"#BCCCDC\"\r\n",
    "    ),\r\n",
    "    height = 280\r\n",
    ")\r\n",
    "\r\n",
    "\r\n",
    "line_fig = go.Figure(\r\n",
    "    data = line_data,\r\n",
    "    layout = line_layout\r\n",
    ")\r\n",
    "\r\n",
    "line_fig\r\n",
    "\r\n"
   ],
   "outputs": [
    {
     "output_type": "display_data",
     "data": {
      "application/vnd.plotly.v1+json": {
       "config": {
        "plotlyServerURL": "https://plot.ly"
       },
       "data": [
        {
         "marker": {
          "color": "#60A5FA"
         },
         "mode": "lines+markers",
         "name": "bluesky",
         "type": "scatter",
         "x": [
          "07-22-2021",
          "07-23-2021",
          "07-24-2021",
          "07-25-2021",
          "07-26-2021",
          "07-27-2021",
          "07-28-2021",
          "07-29-2021",
          "07-30-2021",
          "07-31-2021",
          "08-01-2021",
          "08-02-2021",
          "08-03-2021",
          "08-04-2021",
          "08-05-2021",
          "08-06-2021",
          "08-07-2021",
          "08-08-2021",
          "08-09-2021",
          "08-10-2021",
          "08-11-2021",
          "08-12-2021",
          "08-13-2021",
          "08-14-2021",
          "08-15-2021",
          "08-16-2021",
          "08-17-2021",
          "08-18-2021",
          "08-19-2021",
          "08-20-2021",
          "03-07-2021",
          "03-08-2021",
          "03-09-2021",
          "03-10-2021",
          "03-11-2021",
          "03-12-2021",
          "03-13-2021",
          "03-14-2021",
          "03-15-2021",
          "03-16-2021",
          "03-17-2021",
          "03-18-2021",
          "03-19-2021",
          "03-20-2021",
          "03-21-2021",
          "03-22-2021",
          "03-23-2021",
          "03-24-2021",
          "03-25-2021",
          "03-26-2021",
          "03-27-2021",
          "03-28-2021",
          "03-29-2021",
          "03-30-2021",
          "03-31-2021",
          "04-01-2021",
          "04-02-2021",
          "04-03-2021",
          "04-04-2021",
          "04-05-2021"
         ],
         "y": [
          0.03383458646616541,
          0.022556390977443608,
          0.041353383458646614,
          0.041353383458646614,
          0.045112781954887216,
          0.045112781954887216,
          0.03383458646616541,
          0.03759398496240601,
          0.07894736842105263,
          0.09398496240601503,
          0.03383458646616541,
          0.022556390977443608,
          0.041353383458646614,
          0.041353383458646614,
          0.045112781954887216,
          0.045112781954887216,
          0.03383458646616541,
          0.03759398496240601,
          0.07894736842105263,
          0.09398496240601503,
          0.041353383458646614,
          0.041353383458646614,
          0.045112781954887216,
          0.045112781954887216,
          0.03383458646616541,
          0.03759398496240601,
          0.07894736842105263,
          0.09398496240601503,
          0.07894736842105263,
          0.09398496240601503
         ]
        },
        {
         "marker": {
          "color": "#059669"
         },
         "mode": "lines+markers",
         "name": "retrace",
         "type": "scatter",
         "x": [
          "07-22-2021",
          "07-23-2021",
          "07-24-2021",
          "07-25-2021",
          "07-26-2021",
          "07-27-2021",
          "07-28-2021",
          "07-29-2021",
          "07-30-2021",
          "07-31-2021",
          "08-01-2021",
          "08-02-2021",
          "08-03-2021",
          "08-04-2021",
          "08-05-2021",
          "08-06-2021",
          "08-07-2021",
          "08-08-2021",
          "08-09-2021",
          "08-10-2021",
          "08-11-2021",
          "08-12-2021",
          "08-13-2021",
          "08-14-2021",
          "08-15-2021",
          "08-16-2021",
          "08-17-2021",
          "08-18-2021",
          "08-19-2021",
          "08-20-2021",
          "03-07-2021",
          "03-08-2021",
          "03-09-2021",
          "03-10-2021",
          "03-11-2021",
          "03-12-2021",
          "03-13-2021",
          "03-14-2021",
          "03-15-2021",
          "03-16-2021",
          "03-17-2021",
          "03-18-2021",
          "03-19-2021",
          "03-20-2021",
          "03-21-2021",
          "03-22-2021",
          "03-23-2021",
          "03-24-2021",
          "03-25-2021",
          "03-26-2021",
          "03-27-2021",
          "03-28-2021",
          "03-29-2021",
          "03-30-2021",
          "03-31-2021",
          "04-01-2021",
          "04-02-2021",
          "04-03-2021",
          "04-04-2021",
          "04-05-2021"
         ],
         "y": [
          0.0037593984962406013,
          0.018796992481203006,
          0,
          0.0037593984962406013,
          0.0037593984962406013,
          0.018796992481203006,
          0.03759398496240601,
          0.041353383458646614,
          0.022556390977443608,
          0.03383458646616541,
          0.0037593984962406013,
          0.018796992481203006,
          0,
          0.0037593984962406013,
          0.0037593984962406013,
          0.018796992481203006,
          0.03759398496240601,
          0.041353383458646614,
          0.022556390977443608,
          0.03383458646616541,
          0,
          0.0037593984962406013,
          0.0037593984962406013,
          0.018796992481203006,
          0.03759398496240601,
          0.041353383458646614,
          0.022556390977443608,
          0.03383458646616541,
          0.022556390977443608,
          0.03383458646616541
         ]
        },
        {
         "marker": {
          "color": "#F59E0B"
         },
         "mode": "lines+markers",
         "name": "reset",
         "type": "scatter",
         "x": [
          "07-22-2021",
          "07-23-2021",
          "07-24-2021",
          "07-25-2021",
          "07-26-2021",
          "07-27-2021",
          "07-28-2021",
          "07-29-2021",
          "07-30-2021",
          "07-31-2021",
          "08-01-2021",
          "08-02-2021",
          "08-03-2021",
          "08-04-2021",
          "08-05-2021",
          "08-06-2021",
          "08-07-2021",
          "08-08-2021",
          "08-09-2021",
          "08-10-2021",
          "08-11-2021",
          "08-12-2021",
          "08-13-2021",
          "08-14-2021",
          "08-15-2021",
          "08-16-2021",
          "08-17-2021",
          "08-18-2021",
          "08-19-2021",
          "08-20-2021",
          "03-07-2021",
          "03-08-2021",
          "03-09-2021",
          "03-10-2021",
          "03-11-2021",
          "03-12-2021",
          "03-13-2021",
          "03-14-2021",
          "03-15-2021",
          "03-16-2021",
          "03-17-2021",
          "03-18-2021",
          "03-19-2021",
          "03-20-2021",
          "03-21-2021",
          "03-22-2021",
          "03-23-2021",
          "03-24-2021",
          "03-25-2021",
          "03-26-2021",
          "03-27-2021",
          "03-28-2021",
          "03-29-2021",
          "03-30-2021",
          "03-31-2021",
          "04-01-2021",
          "04-02-2021",
          "04-03-2021",
          "04-04-2021",
          "04-05-2021"
         ],
         "y": [
          0.015037593984962405,
          0.015037593984962405,
          0.018796992481203006,
          0.018796992481203006,
          0.018796992481203006,
          0.018796992481203006,
          0.018796992481203006,
          0.018796992481203006,
          0.018796992481203006,
          0.018796992481203006,
          0.015037593984962405,
          0.015037593984962405,
          0.018796992481203006,
          0.018796992481203006,
          0.018796992481203006,
          0.018796992481203006,
          0.018796992481203006,
          0.018796992481203006,
          0.018796992481203006,
          0.018796992481203006,
          0.018796992481203006,
          0.018796992481203006,
          0.018796992481203006,
          0.018796992481203006,
          0.018796992481203006,
          0.018796992481203006,
          0.018796992481203006,
          0.018796992481203006,
          0.018796992481203006,
          0.018796992481203006
         ]
        },
        {
         "marker": {
          "color": "#92400E"
         },
         "mode": "lines+markers",
         "name": "reversal",
         "type": "scatter",
         "x": [
          "07-22-2021",
          "07-23-2021",
          "07-24-2021",
          "07-25-2021",
          "07-26-2021",
          "07-27-2021",
          "07-28-2021",
          "07-29-2021",
          "07-30-2021",
          "07-31-2021",
          "08-01-2021",
          "08-02-2021",
          "08-03-2021",
          "08-04-2021",
          "08-05-2021",
          "08-06-2021",
          "08-07-2021",
          "08-08-2021",
          "08-09-2021",
          "08-10-2021",
          "08-11-2021",
          "08-12-2021",
          "08-13-2021",
          "08-14-2021",
          "08-15-2021",
          "08-16-2021",
          "08-17-2021",
          "08-18-2021",
          "08-19-2021",
          "08-20-2021",
          "03-07-2021",
          "03-08-2021",
          "03-09-2021",
          "03-10-2021",
          "03-11-2021",
          "03-12-2021",
          "03-13-2021",
          "03-14-2021",
          "03-15-2021",
          "03-16-2021",
          "03-17-2021",
          "03-18-2021",
          "03-19-2021",
          "03-20-2021",
          "03-21-2021",
          "03-22-2021",
          "03-23-2021",
          "03-24-2021",
          "03-25-2021",
          "03-26-2021",
          "03-27-2021",
          "03-28-2021",
          "03-29-2021",
          "03-30-2021",
          "03-31-2021",
          "04-01-2021",
          "04-02-2021",
          "04-03-2021",
          "04-04-2021",
          "04-05-2021"
         ],
         "y": [
          0.7368421052631579,
          0.7368421052631579,
          0.7330827067669173,
          0.7330827067669173,
          0.7368421052631579,
          0.7218045112781954,
          0.7180451127819549,
          0.7142857142857143,
          0.6917293233082706,
          0.6616541353383458,
          0.7368421052631579,
          0.7368421052631579,
          0.7330827067669173,
          0.7330827067669173,
          0.7368421052631579,
          0.7218045112781954,
          0.7180451127819549,
          0.7142857142857143,
          0.6917293233082706,
          0.6616541353383458,
          0.7330827067669173,
          0.7330827067669173,
          0.7368421052631579,
          0.7218045112781954,
          0.7180451127819549,
          0.7142857142857143,
          0.6917293233082706,
          0.6616541353383458,
          0.6917293233082706,
          0.6616541353383458
         ]
        },
        {
         "marker": {
          "color": "#DC2626"
         },
         "mode": "lines+markers",
         "name": "downtrend",
         "type": "scatter",
         "x": [
          "07-22-2021",
          "07-23-2021",
          "07-24-2021",
          "07-25-2021",
          "07-26-2021",
          "07-27-2021",
          "07-28-2021",
          "07-29-2021",
          "07-30-2021",
          "07-31-2021",
          "08-01-2021",
          "08-02-2021",
          "08-03-2021",
          "08-04-2021",
          "08-05-2021",
          "08-06-2021",
          "08-07-2021",
          "08-08-2021",
          "08-09-2021",
          "08-10-2021",
          "08-11-2021",
          "08-12-2021",
          "08-13-2021",
          "08-14-2021",
          "08-15-2021",
          "08-16-2021",
          "08-17-2021",
          "08-18-2021",
          "08-19-2021",
          "08-20-2021",
          "03-07-2021",
          "03-08-2021",
          "03-09-2021",
          "03-10-2021",
          "03-11-2021",
          "03-12-2021",
          "03-13-2021",
          "03-14-2021",
          "03-15-2021",
          "03-16-2021",
          "03-17-2021",
          "03-18-2021",
          "03-19-2021",
          "03-20-2021",
          "03-21-2021",
          "03-22-2021",
          "03-23-2021",
          "03-24-2021",
          "03-25-2021",
          "03-26-2021",
          "03-27-2021",
          "03-28-2021",
          "03-29-2021",
          "03-30-2021",
          "03-31-2021",
          "04-01-2021",
          "04-02-2021",
          "04-03-2021",
          "04-04-2021",
          "04-05-2021"
         ],
         "y": [
          0.03383458646616541,
          0.03007518796992481,
          0.03007518796992481,
          0.03007518796992481,
          0.022556390977443608,
          0.022556390977443608,
          0.018796992481203006,
          0.018796992481203006,
          0.018796992481203006,
          0.015037593984962405,
          0.03383458646616541,
          0.03007518796992481,
          0.03007518796992481,
          0.03007518796992481,
          0.022556390977443608,
          0.022556390977443608,
          0.018796992481203006,
          0.018796992481203006,
          0.018796992481203006,
          0.015037593984962405,
          0.03007518796992481,
          0.03007518796992481,
          0.022556390977443608,
          0.022556390977443608,
          0.018796992481203006,
          0.018796992481203006,
          0.018796992481203006,
          0.015037593984962405,
          0.018796992481203006,
          0.015037593984962405
         ]
        }
       ],
       "layout": {
        "height": 280,
        "margin": {
         "b": 20,
         "l": 20,
         "r": 20,
         "t": 30
        },
        "plot_bgcolor": "#FFF",
        "template": {
         "data": {
          "bar": [
           {
            "error_x": {
             "color": "#2a3f5f"
            },
            "error_y": {
             "color": "#2a3f5f"
            },
            "marker": {
             "line": {
              "color": "#E5ECF6",
              "width": 0.5
             },
             "pattern": {
              "fillmode": "overlay",
              "size": 10,
              "solidity": 0.2
             }
            },
            "type": "bar"
           }
          ],
          "barpolar": [
           {
            "marker": {
             "line": {
              "color": "#E5ECF6",
              "width": 0.5
             },
             "pattern": {
              "fillmode": "overlay",
              "size": 10,
              "solidity": 0.2
             }
            },
            "type": "barpolar"
           }
          ],
          "carpet": [
           {
            "aaxis": {
             "endlinecolor": "#2a3f5f",
             "gridcolor": "white",
             "linecolor": "white",
             "minorgridcolor": "white",
             "startlinecolor": "#2a3f5f"
            },
            "baxis": {
             "endlinecolor": "#2a3f5f",
             "gridcolor": "white",
             "linecolor": "white",
             "minorgridcolor": "white",
             "startlinecolor": "#2a3f5f"
            },
            "type": "carpet"
           }
          ],
          "choropleth": [
           {
            "colorbar": {
             "outlinewidth": 0,
             "ticks": ""
            },
            "type": "choropleth"
           }
          ],
          "contour": [
           {
            "colorbar": {
             "outlinewidth": 0,
             "ticks": ""
            },
            "colorscale": [
             [
              0,
              "#0d0887"
             ],
             [
              0.1111111111111111,
              "#46039f"
             ],
             [
              0.2222222222222222,
              "#7201a8"
             ],
             [
              0.3333333333333333,
              "#9c179e"
             ],
             [
              0.4444444444444444,
              "#bd3786"
             ],
             [
              0.5555555555555556,
              "#d8576b"
             ],
             [
              0.6666666666666666,
              "#ed7953"
             ],
             [
              0.7777777777777778,
              "#fb9f3a"
             ],
             [
              0.8888888888888888,
              "#fdca26"
             ],
             [
              1,
              "#f0f921"
             ]
            ],
            "type": "contour"
           }
          ],
          "contourcarpet": [
           {
            "colorbar": {
             "outlinewidth": 0,
             "ticks": ""
            },
            "type": "contourcarpet"
           }
          ],
          "heatmap": [
           {
            "colorbar": {
             "outlinewidth": 0,
             "ticks": ""
            },
            "colorscale": [
             [
              0,
              "#0d0887"
             ],
             [
              0.1111111111111111,
              "#46039f"
             ],
             [
              0.2222222222222222,
              "#7201a8"
             ],
             [
              0.3333333333333333,
              "#9c179e"
             ],
             [
              0.4444444444444444,
              "#bd3786"
             ],
             [
              0.5555555555555556,
              "#d8576b"
             ],
             [
              0.6666666666666666,
              "#ed7953"
             ],
             [
              0.7777777777777778,
              "#fb9f3a"
             ],
             [
              0.8888888888888888,
              "#fdca26"
             ],
             [
              1,
              "#f0f921"
             ]
            ],
            "type": "heatmap"
           }
          ],
          "heatmapgl": [
           {
            "colorbar": {
             "outlinewidth": 0,
             "ticks": ""
            },
            "colorscale": [
             [
              0,
              "#0d0887"
             ],
             [
              0.1111111111111111,
              "#46039f"
             ],
             [
              0.2222222222222222,
              "#7201a8"
             ],
             [
              0.3333333333333333,
              "#9c179e"
             ],
             [
              0.4444444444444444,
              "#bd3786"
             ],
             [
              0.5555555555555556,
              "#d8576b"
             ],
             [
              0.6666666666666666,
              "#ed7953"
             ],
             [
              0.7777777777777778,
              "#fb9f3a"
             ],
             [
              0.8888888888888888,
              "#fdca26"
             ],
             [
              1,
              "#f0f921"
             ]
            ],
            "type": "heatmapgl"
           }
          ],
          "histogram": [
           {
            "marker": {
             "pattern": {
              "fillmode": "overlay",
              "size": 10,
              "solidity": 0.2
             }
            },
            "type": "histogram"
           }
          ],
          "histogram2d": [
           {
            "colorbar": {
             "outlinewidth": 0,
             "ticks": ""
            },
            "colorscale": [
             [
              0,
              "#0d0887"
             ],
             [
              0.1111111111111111,
              "#46039f"
             ],
             [
              0.2222222222222222,
              "#7201a8"
             ],
             [
              0.3333333333333333,
              "#9c179e"
             ],
             [
              0.4444444444444444,
              "#bd3786"
             ],
             [
              0.5555555555555556,
              "#d8576b"
             ],
             [
              0.6666666666666666,
              "#ed7953"
             ],
             [
              0.7777777777777778,
              "#fb9f3a"
             ],
             [
              0.8888888888888888,
              "#fdca26"
             ],
             [
              1,
              "#f0f921"
             ]
            ],
            "type": "histogram2d"
           }
          ],
          "histogram2dcontour": [
           {
            "colorbar": {
             "outlinewidth": 0,
             "ticks": ""
            },
            "colorscale": [
             [
              0,
              "#0d0887"
             ],
             [
              0.1111111111111111,
              "#46039f"
             ],
             [
              0.2222222222222222,
              "#7201a8"
             ],
             [
              0.3333333333333333,
              "#9c179e"
             ],
             [
              0.4444444444444444,
              "#bd3786"
             ],
             [
              0.5555555555555556,
              "#d8576b"
             ],
             [
              0.6666666666666666,
              "#ed7953"
             ],
             [
              0.7777777777777778,
              "#fb9f3a"
             ],
             [
              0.8888888888888888,
              "#fdca26"
             ],
             [
              1,
              "#f0f921"
             ]
            ],
            "type": "histogram2dcontour"
           }
          ],
          "mesh3d": [
           {
            "colorbar": {
             "outlinewidth": 0,
             "ticks": ""
            },
            "type": "mesh3d"
           }
          ],
          "parcoords": [
           {
            "line": {
             "colorbar": {
              "outlinewidth": 0,
              "ticks": ""
             }
            },
            "type": "parcoords"
           }
          ],
          "pie": [
           {
            "automargin": true,
            "type": "pie"
           }
          ],
          "scatter": [
           {
            "marker": {
             "colorbar": {
              "outlinewidth": 0,
              "ticks": ""
             }
            },
            "type": "scatter"
           }
          ],
          "scatter3d": [
           {
            "line": {
             "colorbar": {
              "outlinewidth": 0,
              "ticks": ""
             }
            },
            "marker": {
             "colorbar": {
              "outlinewidth": 0,
              "ticks": ""
             }
            },
            "type": "scatter3d"
           }
          ],
          "scattercarpet": [
           {
            "marker": {
             "colorbar": {
              "outlinewidth": 0,
              "ticks": ""
             }
            },
            "type": "scattercarpet"
           }
          ],
          "scattergeo": [
           {
            "marker": {
             "colorbar": {
              "outlinewidth": 0,
              "ticks": ""
             }
            },
            "type": "scattergeo"
           }
          ],
          "scattergl": [
           {
            "marker": {
             "colorbar": {
              "outlinewidth": 0,
              "ticks": ""
             }
            },
            "type": "scattergl"
           }
          ],
          "scattermapbox": [
           {
            "marker": {
             "colorbar": {
              "outlinewidth": 0,
              "ticks": ""
             }
            },
            "type": "scattermapbox"
           }
          ],
          "scatterpolar": [
           {
            "marker": {
             "colorbar": {
              "outlinewidth": 0,
              "ticks": ""
             }
            },
            "type": "scatterpolar"
           }
          ],
          "scatterpolargl": [
           {
            "marker": {
             "colorbar": {
              "outlinewidth": 0,
              "ticks": ""
             }
            },
            "type": "scatterpolargl"
           }
          ],
          "scatterternary": [
           {
            "marker": {
             "colorbar": {
              "outlinewidth": 0,
              "ticks": ""
             }
            },
            "type": "scatterternary"
           }
          ],
          "surface": [
           {
            "colorbar": {
             "outlinewidth": 0,
             "ticks": ""
            },
            "colorscale": [
             [
              0,
              "#0d0887"
             ],
             [
              0.1111111111111111,
              "#46039f"
             ],
             [
              0.2222222222222222,
              "#7201a8"
             ],
             [
              0.3333333333333333,
              "#9c179e"
             ],
             [
              0.4444444444444444,
              "#bd3786"
             ],
             [
              0.5555555555555556,
              "#d8576b"
             ],
             [
              0.6666666666666666,
              "#ed7953"
             ],
             [
              0.7777777777777778,
              "#fb9f3a"
             ],
             [
              0.8888888888888888,
              "#fdca26"
             ],
             [
              1,
              "#f0f921"
             ]
            ],
            "type": "surface"
           }
          ],
          "table": [
           {
            "cells": {
             "fill": {
              "color": "#EBF0F8"
             },
             "line": {
              "color": "white"
             }
            },
            "header": {
             "fill": {
              "color": "#C8D4E3"
             },
             "line": {
              "color": "white"
             }
            },
            "type": "table"
           }
          ]
         },
         "layout": {
          "annotationdefaults": {
           "arrowcolor": "#2a3f5f",
           "arrowhead": 0,
           "arrowwidth": 1
          },
          "autotypenumbers": "strict",
          "coloraxis": {
           "colorbar": {
            "outlinewidth": 0,
            "ticks": ""
           }
          },
          "colorscale": {
           "diverging": [
            [
             0,
             "#8e0152"
            ],
            [
             0.1,
             "#c51b7d"
            ],
            [
             0.2,
             "#de77ae"
            ],
            [
             0.3,
             "#f1b6da"
            ],
            [
             0.4,
             "#fde0ef"
            ],
            [
             0.5,
             "#f7f7f7"
            ],
            [
             0.6,
             "#e6f5d0"
            ],
            [
             0.7,
             "#b8e186"
            ],
            [
             0.8,
             "#7fbc41"
            ],
            [
             0.9,
             "#4d9221"
            ],
            [
             1,
             "#276419"
            ]
           ],
           "sequential": [
            [
             0,
             "#0d0887"
            ],
            [
             0.1111111111111111,
             "#46039f"
            ],
            [
             0.2222222222222222,
             "#7201a8"
            ],
            [
             0.3333333333333333,
             "#9c179e"
            ],
            [
             0.4444444444444444,
             "#bd3786"
            ],
            [
             0.5555555555555556,
             "#d8576b"
            ],
            [
             0.6666666666666666,
             "#ed7953"
            ],
            [
             0.7777777777777778,
             "#fb9f3a"
            ],
            [
             0.8888888888888888,
             "#fdca26"
            ],
            [
             1,
             "#f0f921"
            ]
           ],
           "sequentialminus": [
            [
             0,
             "#0d0887"
            ],
            [
             0.1111111111111111,
             "#46039f"
            ],
            [
             0.2222222222222222,
             "#7201a8"
            ],
            [
             0.3333333333333333,
             "#9c179e"
            ],
            [
             0.4444444444444444,
             "#bd3786"
            ],
            [
             0.5555555555555556,
             "#d8576b"
            ],
            [
             0.6666666666666666,
             "#ed7953"
            ],
            [
             0.7777777777777778,
             "#fb9f3a"
            ],
            [
             0.8888888888888888,
             "#fdca26"
            ],
            [
             1,
             "#f0f921"
            ]
           ]
          },
          "colorway": [
           "#636efa",
           "#EF553B",
           "#00cc96",
           "#ab63fa",
           "#FFA15A",
           "#19d3f3",
           "#FF6692",
           "#B6E880",
           "#FF97FF",
           "#FECB52"
          ],
          "font": {
           "color": "#2a3f5f"
          },
          "geo": {
           "bgcolor": "white",
           "lakecolor": "white",
           "landcolor": "#E5ECF6",
           "showlakes": true,
           "showland": true,
           "subunitcolor": "white"
          },
          "hoverlabel": {
           "align": "left"
          },
          "hovermode": "closest",
          "mapbox": {
           "style": "light"
          },
          "paper_bgcolor": "white",
          "plot_bgcolor": "#E5ECF6",
          "polar": {
           "angularaxis": {
            "gridcolor": "white",
            "linecolor": "white",
            "ticks": ""
           },
           "bgcolor": "#E5ECF6",
           "radialaxis": {
            "gridcolor": "white",
            "linecolor": "white",
            "ticks": ""
           }
          },
          "scene": {
           "xaxis": {
            "backgroundcolor": "#E5ECF6",
            "gridcolor": "white",
            "gridwidth": 2,
            "linecolor": "white",
            "showbackground": true,
            "ticks": "",
            "zerolinecolor": "white"
           },
           "yaxis": {
            "backgroundcolor": "#E5ECF6",
            "gridcolor": "white",
            "gridwidth": 2,
            "linecolor": "white",
            "showbackground": true,
            "ticks": "",
            "zerolinecolor": "white"
           },
           "zaxis": {
            "backgroundcolor": "#E5ECF6",
            "gridcolor": "white",
            "gridwidth": 2,
            "linecolor": "white",
            "showbackground": true,
            "ticks": "",
            "zerolinecolor": "white"
           }
          },
          "shapedefaults": {
           "line": {
            "color": "#2a3f5f"
           }
          },
          "ternary": {
           "aaxis": {
            "gridcolor": "white",
            "linecolor": "white",
            "ticks": ""
           },
           "baxis": {
            "gridcolor": "white",
            "linecolor": "white",
            "ticks": ""
           },
           "bgcolor": "#E5ECF6",
           "caxis": {
            "gridcolor": "white",
            "linecolor": "white",
            "ticks": ""
           }
          },
          "title": {
           "x": 0.05
          },
          "xaxis": {
           "automargin": true,
           "gridcolor": "white",
           "linecolor": "white",
           "ticks": "",
           "title": {
            "standoff": 15
           },
           "zerolinecolor": "white",
           "zerolinewidth": 2
          },
          "yaxis": {
           "automargin": true,
           "gridcolor": "white",
           "linecolor": "white",
           "ticks": "",
           "title": {
            "standoff": 15
           },
           "zerolinecolor": "white",
           "zerolinewidth": 2
          }
         }
        },
        "xaxis": {
         "showgrid": false,
         "visible": false
        },
        "yaxis": {
         "dtick": 0.25,
         "linecolor": "#BCCCDC",
         "showgrid": false,
         "tick0": 0,
         "tickformat": ",.0%"
        }
       }
      }
     },
     "metadata": {}
    }
   ],
   "metadata": {}
  },
  {
   "cell_type": "code",
   "execution_count": 14,
   "source": [
    "# Trend of Trends Pie Graph\r\n",
    "colors = [\"#60A5FA\",\"#059669\",\"#F59E0B\", \"#92400E\", \"#DC2626\"]\r\n",
    "lacking = 1-bluesky[-1]-retrace[-1]-reset[-1]-reversal[-1]-downtrend[-1]\r\n",
    "trends = [\"Uptrend - Blueskies\",\"Uptrend - Retrace\", \"Sideways - Reset\", \"Sideways - Reversal\",\"Downtrend\", \"New / Not Enough Data\"]\r\n",
    "\r\n",
    "pie_trends = [bluesky[-1],retrace[-1],reset[-1],reversal[-1],downtrend[-1],lacking]\r\n",
    "pie_fig = px.pie(names=trends,values=pie_trends)\r\n",
    "pie_fig.update_layout(margin=dict(l=0, r=0, t=0, b=0))\r\n",
    "pie_fig.update_layout(height=280)\r\n",
    "pie_fig.update_traces(hoverinfo='label+percent', textfont_size=16,\r\n",
    "                  marker=dict(colors=colors, line=dict(color='#000000', width=2)))"
   ],
   "outputs": [
    {
     "output_type": "display_data",
     "data": {
      "application/vnd.plotly.v1+json": {
       "config": {
        "plotlyServerURL": "https://plot.ly"
       },
       "data": [
        {
         "domain": {
          "x": [
           0,
           1
          ],
          "y": [
           0,
           1
          ]
         },
         "hoverinfo": "label+percent",
         "hovertemplate": "label=%{label}<br>value=%{value}<extra></extra>",
         "labels": [
          "Uptrend - Blueskies",
          "Uptrend - Retrace",
          "Sideways - Reset",
          "Sideways - Reversal",
          "Downtrend",
          "New / Not Enough Data"
         ],
         "legendgroup": "",
         "marker": {
          "colors": [
           "#60A5FA",
           "#059669",
           "#F59E0B",
           "#92400E",
           "#DC2626"
          ],
          "line": {
           "color": "#000000",
           "width": 2
          }
         },
         "name": "",
         "showlegend": true,
         "textfont": {
          "size": 16
         },
         "type": "pie",
         "values": [
          0.09398496240601503,
          0.03383458646616541,
          0.018796992481203006,
          0.6616541353383458,
          0.015037593984962405,
          0.17669172932330823
         ]
        }
       ],
       "layout": {
        "height": 280,
        "legend": {
         "tracegroupgap": 0
        },
        "margin": {
         "b": 0,
         "l": 0,
         "r": 0,
         "t": 0
        },
        "template": {
         "data": {
          "bar": [
           {
            "error_x": {
             "color": "#2a3f5f"
            },
            "error_y": {
             "color": "#2a3f5f"
            },
            "marker": {
             "line": {
              "color": "#E5ECF6",
              "width": 0.5
             },
             "pattern": {
              "fillmode": "overlay",
              "size": 10,
              "solidity": 0.2
             }
            },
            "type": "bar"
           }
          ],
          "barpolar": [
           {
            "marker": {
             "line": {
              "color": "#E5ECF6",
              "width": 0.5
             },
             "pattern": {
              "fillmode": "overlay",
              "size": 10,
              "solidity": 0.2
             }
            },
            "type": "barpolar"
           }
          ],
          "carpet": [
           {
            "aaxis": {
             "endlinecolor": "#2a3f5f",
             "gridcolor": "white",
             "linecolor": "white",
             "minorgridcolor": "white",
             "startlinecolor": "#2a3f5f"
            },
            "baxis": {
             "endlinecolor": "#2a3f5f",
             "gridcolor": "white",
             "linecolor": "white",
             "minorgridcolor": "white",
             "startlinecolor": "#2a3f5f"
            },
            "type": "carpet"
           }
          ],
          "choropleth": [
           {
            "colorbar": {
             "outlinewidth": 0,
             "ticks": ""
            },
            "type": "choropleth"
           }
          ],
          "contour": [
           {
            "colorbar": {
             "outlinewidth": 0,
             "ticks": ""
            },
            "colorscale": [
             [
              0,
              "#0d0887"
             ],
             [
              0.1111111111111111,
              "#46039f"
             ],
             [
              0.2222222222222222,
              "#7201a8"
             ],
             [
              0.3333333333333333,
              "#9c179e"
             ],
             [
              0.4444444444444444,
              "#bd3786"
             ],
             [
              0.5555555555555556,
              "#d8576b"
             ],
             [
              0.6666666666666666,
              "#ed7953"
             ],
             [
              0.7777777777777778,
              "#fb9f3a"
             ],
             [
              0.8888888888888888,
              "#fdca26"
             ],
             [
              1,
              "#f0f921"
             ]
            ],
            "type": "contour"
           }
          ],
          "contourcarpet": [
           {
            "colorbar": {
             "outlinewidth": 0,
             "ticks": ""
            },
            "type": "contourcarpet"
           }
          ],
          "heatmap": [
           {
            "colorbar": {
             "outlinewidth": 0,
             "ticks": ""
            },
            "colorscale": [
             [
              0,
              "#0d0887"
             ],
             [
              0.1111111111111111,
              "#46039f"
             ],
             [
              0.2222222222222222,
              "#7201a8"
             ],
             [
              0.3333333333333333,
              "#9c179e"
             ],
             [
              0.4444444444444444,
              "#bd3786"
             ],
             [
              0.5555555555555556,
              "#d8576b"
             ],
             [
              0.6666666666666666,
              "#ed7953"
             ],
             [
              0.7777777777777778,
              "#fb9f3a"
             ],
             [
              0.8888888888888888,
              "#fdca26"
             ],
             [
              1,
              "#f0f921"
             ]
            ],
            "type": "heatmap"
           }
          ],
          "heatmapgl": [
           {
            "colorbar": {
             "outlinewidth": 0,
             "ticks": ""
            },
            "colorscale": [
             [
              0,
              "#0d0887"
             ],
             [
              0.1111111111111111,
              "#46039f"
             ],
             [
              0.2222222222222222,
              "#7201a8"
             ],
             [
              0.3333333333333333,
              "#9c179e"
             ],
             [
              0.4444444444444444,
              "#bd3786"
             ],
             [
              0.5555555555555556,
              "#d8576b"
             ],
             [
              0.6666666666666666,
              "#ed7953"
             ],
             [
              0.7777777777777778,
              "#fb9f3a"
             ],
             [
              0.8888888888888888,
              "#fdca26"
             ],
             [
              1,
              "#f0f921"
             ]
            ],
            "type": "heatmapgl"
           }
          ],
          "histogram": [
           {
            "marker": {
             "pattern": {
              "fillmode": "overlay",
              "size": 10,
              "solidity": 0.2
             }
            },
            "type": "histogram"
           }
          ],
          "histogram2d": [
           {
            "colorbar": {
             "outlinewidth": 0,
             "ticks": ""
            },
            "colorscale": [
             [
              0,
              "#0d0887"
             ],
             [
              0.1111111111111111,
              "#46039f"
             ],
             [
              0.2222222222222222,
              "#7201a8"
             ],
             [
              0.3333333333333333,
              "#9c179e"
             ],
             [
              0.4444444444444444,
              "#bd3786"
             ],
             [
              0.5555555555555556,
              "#d8576b"
             ],
             [
              0.6666666666666666,
              "#ed7953"
             ],
             [
              0.7777777777777778,
              "#fb9f3a"
             ],
             [
              0.8888888888888888,
              "#fdca26"
             ],
             [
              1,
              "#f0f921"
             ]
            ],
            "type": "histogram2d"
           }
          ],
          "histogram2dcontour": [
           {
            "colorbar": {
             "outlinewidth": 0,
             "ticks": ""
            },
            "colorscale": [
             [
              0,
              "#0d0887"
             ],
             [
              0.1111111111111111,
              "#46039f"
             ],
             [
              0.2222222222222222,
              "#7201a8"
             ],
             [
              0.3333333333333333,
              "#9c179e"
             ],
             [
              0.4444444444444444,
              "#bd3786"
             ],
             [
              0.5555555555555556,
              "#d8576b"
             ],
             [
              0.6666666666666666,
              "#ed7953"
             ],
             [
              0.7777777777777778,
              "#fb9f3a"
             ],
             [
              0.8888888888888888,
              "#fdca26"
             ],
             [
              1,
              "#f0f921"
             ]
            ],
            "type": "histogram2dcontour"
           }
          ],
          "mesh3d": [
           {
            "colorbar": {
             "outlinewidth": 0,
             "ticks": ""
            },
            "type": "mesh3d"
           }
          ],
          "parcoords": [
           {
            "line": {
             "colorbar": {
              "outlinewidth": 0,
              "ticks": ""
             }
            },
            "type": "parcoords"
           }
          ],
          "pie": [
           {
            "automargin": true,
            "type": "pie"
           }
          ],
          "scatter": [
           {
            "marker": {
             "colorbar": {
              "outlinewidth": 0,
              "ticks": ""
             }
            },
            "type": "scatter"
           }
          ],
          "scatter3d": [
           {
            "line": {
             "colorbar": {
              "outlinewidth": 0,
              "ticks": ""
             }
            },
            "marker": {
             "colorbar": {
              "outlinewidth": 0,
              "ticks": ""
             }
            },
            "type": "scatter3d"
           }
          ],
          "scattercarpet": [
           {
            "marker": {
             "colorbar": {
              "outlinewidth": 0,
              "ticks": ""
             }
            },
            "type": "scattercarpet"
           }
          ],
          "scattergeo": [
           {
            "marker": {
             "colorbar": {
              "outlinewidth": 0,
              "ticks": ""
             }
            },
            "type": "scattergeo"
           }
          ],
          "scattergl": [
           {
            "marker": {
             "colorbar": {
              "outlinewidth": 0,
              "ticks": ""
             }
            },
            "type": "scattergl"
           }
          ],
          "scattermapbox": [
           {
            "marker": {
             "colorbar": {
              "outlinewidth": 0,
              "ticks": ""
             }
            },
            "type": "scattermapbox"
           }
          ],
          "scatterpolar": [
           {
            "marker": {
             "colorbar": {
              "outlinewidth": 0,
              "ticks": ""
             }
            },
            "type": "scatterpolar"
           }
          ],
          "scatterpolargl": [
           {
            "marker": {
             "colorbar": {
              "outlinewidth": 0,
              "ticks": ""
             }
            },
            "type": "scatterpolargl"
           }
          ],
          "scatterternary": [
           {
            "marker": {
             "colorbar": {
              "outlinewidth": 0,
              "ticks": ""
             }
            },
            "type": "scatterternary"
           }
          ],
          "surface": [
           {
            "colorbar": {
             "outlinewidth": 0,
             "ticks": ""
            },
            "colorscale": [
             [
              0,
              "#0d0887"
             ],
             [
              0.1111111111111111,
              "#46039f"
             ],
             [
              0.2222222222222222,
              "#7201a8"
             ],
             [
              0.3333333333333333,
              "#9c179e"
             ],
             [
              0.4444444444444444,
              "#bd3786"
             ],
             [
              0.5555555555555556,
              "#d8576b"
             ],
             [
              0.6666666666666666,
              "#ed7953"
             ],
             [
              0.7777777777777778,
              "#fb9f3a"
             ],
             [
              0.8888888888888888,
              "#fdca26"
             ],
             [
              1,
              "#f0f921"
             ]
            ],
            "type": "surface"
           }
          ],
          "table": [
           {
            "cells": {
             "fill": {
              "color": "#EBF0F8"
             },
             "line": {
              "color": "white"
             }
            },
            "header": {
             "fill": {
              "color": "#C8D4E3"
             },
             "line": {
              "color": "white"
             }
            },
            "type": "table"
           }
          ]
         },
         "layout": {
          "annotationdefaults": {
           "arrowcolor": "#2a3f5f",
           "arrowhead": 0,
           "arrowwidth": 1
          },
          "autotypenumbers": "strict",
          "coloraxis": {
           "colorbar": {
            "outlinewidth": 0,
            "ticks": ""
           }
          },
          "colorscale": {
           "diverging": [
            [
             0,
             "#8e0152"
            ],
            [
             0.1,
             "#c51b7d"
            ],
            [
             0.2,
             "#de77ae"
            ],
            [
             0.3,
             "#f1b6da"
            ],
            [
             0.4,
             "#fde0ef"
            ],
            [
             0.5,
             "#f7f7f7"
            ],
            [
             0.6,
             "#e6f5d0"
            ],
            [
             0.7,
             "#b8e186"
            ],
            [
             0.8,
             "#7fbc41"
            ],
            [
             0.9,
             "#4d9221"
            ],
            [
             1,
             "#276419"
            ]
           ],
           "sequential": [
            [
             0,
             "#0d0887"
            ],
            [
             0.1111111111111111,
             "#46039f"
            ],
            [
             0.2222222222222222,
             "#7201a8"
            ],
            [
             0.3333333333333333,
             "#9c179e"
            ],
            [
             0.4444444444444444,
             "#bd3786"
            ],
            [
             0.5555555555555556,
             "#d8576b"
            ],
            [
             0.6666666666666666,
             "#ed7953"
            ],
            [
             0.7777777777777778,
             "#fb9f3a"
            ],
            [
             0.8888888888888888,
             "#fdca26"
            ],
            [
             1,
             "#f0f921"
            ]
           ],
           "sequentialminus": [
            [
             0,
             "#0d0887"
            ],
            [
             0.1111111111111111,
             "#46039f"
            ],
            [
             0.2222222222222222,
             "#7201a8"
            ],
            [
             0.3333333333333333,
             "#9c179e"
            ],
            [
             0.4444444444444444,
             "#bd3786"
            ],
            [
             0.5555555555555556,
             "#d8576b"
            ],
            [
             0.6666666666666666,
             "#ed7953"
            ],
            [
             0.7777777777777778,
             "#fb9f3a"
            ],
            [
             0.8888888888888888,
             "#fdca26"
            ],
            [
             1,
             "#f0f921"
            ]
           ]
          },
          "colorway": [
           "#636efa",
           "#EF553B",
           "#00cc96",
           "#ab63fa",
           "#FFA15A",
           "#19d3f3",
           "#FF6692",
           "#B6E880",
           "#FF97FF",
           "#FECB52"
          ],
          "font": {
           "color": "#2a3f5f"
          },
          "geo": {
           "bgcolor": "white",
           "lakecolor": "white",
           "landcolor": "#E5ECF6",
           "showlakes": true,
           "showland": true,
           "subunitcolor": "white"
          },
          "hoverlabel": {
           "align": "left"
          },
          "hovermode": "closest",
          "mapbox": {
           "style": "light"
          },
          "paper_bgcolor": "white",
          "plot_bgcolor": "#E5ECF6",
          "polar": {
           "angularaxis": {
            "gridcolor": "white",
            "linecolor": "white",
            "ticks": ""
           },
           "bgcolor": "#E5ECF6",
           "radialaxis": {
            "gridcolor": "white",
            "linecolor": "white",
            "ticks": ""
           }
          },
          "scene": {
           "xaxis": {
            "backgroundcolor": "#E5ECF6",
            "gridcolor": "white",
            "gridwidth": 2,
            "linecolor": "white",
            "showbackground": true,
            "ticks": "",
            "zerolinecolor": "white"
           },
           "yaxis": {
            "backgroundcolor": "#E5ECF6",
            "gridcolor": "white",
            "gridwidth": 2,
            "linecolor": "white",
            "showbackground": true,
            "ticks": "",
            "zerolinecolor": "white"
           },
           "zaxis": {
            "backgroundcolor": "#E5ECF6",
            "gridcolor": "white",
            "gridwidth": 2,
            "linecolor": "white",
            "showbackground": true,
            "ticks": "",
            "zerolinecolor": "white"
           }
          },
          "shapedefaults": {
           "line": {
            "color": "#2a3f5f"
           }
          },
          "ternary": {
           "aaxis": {
            "gridcolor": "white",
            "linecolor": "white",
            "ticks": ""
           },
           "baxis": {
            "gridcolor": "white",
            "linecolor": "white",
            "ticks": ""
           },
           "bgcolor": "#E5ECF6",
           "caxis": {
            "gridcolor": "white",
            "linecolor": "white",
            "ticks": ""
           }
          },
          "title": {
           "x": 0.05
          },
          "xaxis": {
           "automargin": true,
           "gridcolor": "white",
           "linecolor": "white",
           "ticks": "",
           "title": {
            "standoff": 15
           },
           "zerolinecolor": "white",
           "zerolinewidth": 2
          },
          "yaxis": {
           "automargin": true,
           "gridcolor": "white",
           "linecolor": "white",
           "ticks": "",
           "title": {
            "standoff": 15
           },
           "zerolinecolor": "white",
           "zerolinewidth": 2
          }
         }
        }
       }
      }
     },
     "metadata": {}
    }
   ],
   "metadata": {}
  },
  {
   "cell_type": "code",
   "execution_count": 15,
   "source": [
    "twomean = quant_df['2D Δ'].mean()\r\n",
    "twomean"
   ],
   "outputs": [
    {
     "output_type": "execute_result",
     "data": {
      "text/plain": [
       "0.06795901111226245"
      ]
     },
     "metadata": {},
     "execution_count": 15
    }
   ],
   "metadata": {}
  },
  {
   "cell_type": "code",
   "execution_count": 16,
   "source": [
    "sevenmean = quant_df['7D Δ'].mean()"
   ],
   "outputs": [],
   "metadata": {}
  },
  {
   "cell_type": "code",
   "execution_count": 17,
   "source": [
    "revised = quant_df[(quant_df['2D Δ'] > twomean) & (quant_df['7D Δ'] > sevenmean)]\r\n",
    "revised = revised.fillna(0)\r\n",
    "revised.rsi"
   ],
   "outputs": [
    {
     "output_type": "execute_result",
     "data": {
      "text/plain": [
       "5      69.542\n",
       "6      75.560\n",
       "7      67.802\n",
       "17     65.694\n",
       "33     69.423\n",
       "        ...  \n",
       "233    79.289\n",
       "234    74.294\n",
       "239    66.602\n",
       "241    65.143\n",
       "245     0.000\n",
       "Name: rsi, Length: 63, dtype: float64"
      ]
     },
     "metadata": {},
     "execution_count": 17
    }
   ],
   "metadata": {}
  },
  {
   "cell_type": "code",
   "execution_count": 18,
   "source": [
    "# Quants Scatter Plot\r\n",
    "# D2xD7 = go.Scatter(\r\n",
    "#             x=revised['2D Δ'],\r\n",
    "#             y=revised['7D Δ'],\r\n",
    "#             mode = \"markers+text\",\r\n",
    "#             text = revised['Symbol'],\r\n",
    "#             textposition = \"top left\",\r\n",
    "#             textfont_size=10,\r\n",
    "#             marker_color=revised['rsi'],\r\n",
    "#             marker_colorscale=\"Rainbow\"\r\n",
    "#             )\r\n",
    "\r\n",
    "# D2xD7_layout = go.Layout(\r\n",
    "#                     xaxis_title=\"2 Day Change\",\r\n",
    "#                     yaxis_title=\"7 Day Change\",\r\n",
    "#                     yaxis_visible=True,\r\n",
    "#                     xaxis_visible=True,\r\n",
    "#                     xaxis_showgrid=False,\r\n",
    "#                     yaxis_showgrid=False,\r\n",
    "#                     plot_bgcolor=\"#FFFFFF\"\r\n",
    "# )\r\n",
    "                   \r\n",
    "# ffig = go.Figure(data=D2xD7,layout=D2xD7_layout)\r\n",
    "# ffig.update_yaxes(tick0=0, dtick=0.25,tickformat=',.0%',)\r\n",
    "# ffig.update_xaxes(tick0=0, dtick=0.10,tickformat=',.0%',)\r\n",
    "# ffig.update_layout(margin=dict(l=20, r=20, t=30, b=20))\r\n",
    "# ffig.update_layout(height=548)\r\n",
    "# ffig.show()\r\n",
    "\r\n",
    "ll = px.scatter(revised,x='2D Δ',y='7D Δ',color=\"rsi\",color_continuous_scale=\"Rainbow\")\r\n",
    "ll.update_traces(\r\n",
    "    mode = \"markers+text\",\r\n",
    "    text = revised['Symbol'],\r\n",
    "    textposition = \"top left\",\r\n",
    "    textfont_size=10,\r\n",
    ")\r\n",
    "ll.update_layout(\r\n",
    "    xaxis_title=\"2 Day Change\",\r\n",
    "    yaxis_title=\"7 Day Change\",\r\n",
    "    yaxis_visible=True,\r\n",
    "    xaxis_visible=True,\r\n",
    "    xaxis_showgrid=False,\r\n",
    "    yaxis_showgrid=False,\r\n",
    "    plot_bgcolor=\"#FFFFFF\"\r\n",
    ")\r\n",
    "ll.update_yaxes(tick0=0, dtick=0.25,tickformat=',.0%',)\r\n",
    "ll.update_xaxes(tick0=0, dtick=0.10,tickformat=',.0%',)\r\n",
    "ll.update_layout(margin=dict(l=20, r=20, t=30, b=20))\r\n",
    "ll.update_layout(height=548)\r\n",
    "ll"
   ],
   "outputs": [
    {
     "output_type": "display_data",
     "data": {
      "application/vnd.plotly.v1+json": {
       "config": {
        "plotlyServerURL": "https://plot.ly"
       },
       "data": [
        {
         "hovertemplate": "2D Δ=%{x}<br>7D Δ=%{y}<br>rsi=%{marker.color}<extra></extra>",
         "legendgroup": "",
         "marker": {
          "color": [
           69.542,
           75.56,
           67.802,
           65.694,
           69.423,
           66.801,
           66.29,
           80.804,
           86.313,
           68.732,
           63.686,
           74.334,
           67.943,
           76.981,
           81.406,
           79.468,
           67.706,
           75.984,
           86.219,
           66.595,
           77.254,
           70.554,
           59.465,
           74.809,
           64.187,
           67.55,
           61.457,
           77.406,
           75.182,
           77.007,
           85.382,
           67.782,
           72.974,
           77.294,
           69.929,
           65.812,
           62.851,
           92.182,
           75.353,
           71.699,
           79.628,
           83.007,
           73.972,
           68.807,
           71.271,
           77.857,
           74.505,
           71.712,
           84.963,
           68.761,
           69.479,
           65.184,
           67.082,
           66.373,
           72.96,
           76.906,
           65.59,
           69.074,
           79.289,
           74.294,
           66.602,
           65.143,
           0
          ],
          "coloraxis": "coloraxis",
          "symbol": "circle"
         },
         "mode": "markers+text",
         "name": "",
         "orientation": "v",
         "showlegend": false,
         "text": [
          "QTUMUSDT",
          "ADAUSDT",
          "XRPUSDT",
          "VETUSDT",
          "DASHUSDT",
          "OMGUSDT",
          "MATICUSDT",
          "ATOMUSDT",
          "FTMUSDT",
          "ALGOUSDT",
          "GTOUSDT",
          "DENTUSDT",
          "DOCKUSDT",
          "FUNUSDT",
          "ARPAUSDT",
          "LSKUSDT",
          "AIONUSDT",
          "COTIUSDT",
          "SOLUSDT",
          "GXSUSDT",
          "MDTUSDT",
          "PNTUSDT",
          "SNXUSDT",
          "VTHOUSDT",
          "MKRUSDT",
          "IRISUSDT",
          "KMDUSDT",
          "SRMUSDT",
          "OCEANUSDT",
          "DOTUSDT",
          "LUNAUSDT",
          "RSRUSDT",
          "TRBUSDT",
          "SUSHIUSDT",
          "KSMUSDT",
          "RUNEUSDT",
          "UMAUSDT",
          "AVAXUSDT",
          "HNTUSDT",
          "FLMUSDT",
          "NEARUSDT",
          "AUDIOUSDT",
          "CTKUSDT",
          "HARDUSDT",
          "ROSEUSDT",
          "AVAUSDT",
          "GRTUSDT",
          "1INCHUSDT",
          "TWTUSDT",
          "SFPUSDT",
          "DODOUSDT",
          "LINAUSDT",
          "PERPUSDT",
          "RAMPUSDT",
          "MIRUSDT",
          "ARUSDT",
          "LPTUSDT",
          "XVGUSDT",
          "ERNUSDT",
          "KLAYUSDT",
          "C98USDT",
          "QNTUSDT",
          "RAYUSDT"
         ],
         "textfont": {
          "size": 10
         },
         "textposition": "top left",
         "type": "scatter",
         "x": [
          0.07760906242468074,
          0.24225571725571723,
          0.0984517304189434,
          0.09019375581690489,
          0.13372003490580572,
          0.1493925733496332,
          0.11057941599134809,
          0.19822577622290236,
          0.3463013138387606,
          0.2626102691698712,
          0.14721369021500658,
          0.2315616119865668,
          0.2307765990564908,
          0.20281523439151203,
          0.2514353259034109,
          0.18955866025166537,
          0.11363636363636358,
          0.16354968830216363,
          0.11915490761674585,
          0.21194360842705534,
          0.06933333333333336,
          0.13319185059422756,
          0.08488134388054397,
          0.1395739910313901,
          0.09035865076787451,
          0.09205304423579523,
          0.07173154868507876,
          0.2204491631832415,
          0.1097832128960533,
          0.12803635128248686,
          0.16738417789012203,
          0.0876073619631901,
          0.0923058763353072,
          0.11315057608263801,
          0.15500972412302802,
          0.07112223016440308,
          0.0696977707286986,
          0.33805219171072814,
          0.10409778579300669,
          0.09340944473274529,
          0.16450471698113206,
          0.11504671593919959,
          0.17970220776998116,
          0.12500000000000003,
          0.08195527821112843,
          0.12818354030730378,
          0.17847286108555643,
          0.09712837837837851,
          0.09474239030175248,
          0.08424613402061858,
          0.10449377368706013,
          0.20943396226415106,
          0.2249561817446407,
          0.1361881361881362,
          0.07957559681697614,
          0.3142599684613652,
          0.16512261580381457,
          0.09664261060558517,
          0.29786395004929345,
          0.1123669417533789,
          0.2551996972720081,
          0.11077481840193712,
          0.1105301379811184
         ],
         "xaxis": "x",
         "y": [
          0.3010961295954992,
          0.3039279869067103,
          0.24842148845875167,
          0.20139860139860136,
          0.22550216402175127,
          0.19371925091255351,
          0.13435930028448648,
          0.36386261821801885,
          0.7105647754213891,
          0.26289592760181,
          0.26243360695316287,
          0.7311908490501805,
          0.22361231802111725,
          0.40664392703544416,
          0.42959104938271603,
          0.2974166204147534,
          0.1645338208409506,
          0.33249343832021,
          0.7461865953047077,
          0.21040974529346623,
          0.3547297297297299,
          0.44454063413050526,
          0.1718509984639016,
          0.47212165097755254,
          0.15690853540341704,
          0.17729312323906923,
          0.1989876621322366,
          0.636237720812291,
          0.264808362369338,
          0.27958957560576125,
          0.7805421686746986,
          0.15206654536002084,
          0.18048645660585969,
          0.1537637950914183,
          0.22638623326959842,
          0.3253242924528302,
          0.13098565306502707,
          0.8933268975503799,
          0.3836399020654152,
          0.23698630136986298,
          0.30163865672088913,
          1.1662038604808669,
          0.4462861938732689,
          0.2765883174307655,
          0.1391809023215068,
          0.2996564962618712,
          0.1656050955414012,
          0.20239239559970104,
          0.7028079524492724,
          0.20099919707378006,
          0.3068545803971814,
          0.3784946236559141,
          0.20537313432835821,
          0.2369124952235384,
          0.31521739130434795,
          0.9705465108423968,
          0.16830601092896164,
          0.19979402677651914,
          0.6562106852302273,
          0.2592918556631237,
          0.5958449965010497,
          0.2184594953519257,
          0.6957196717675758
         ],
         "yaxis": "y"
        }
       ],
       "layout": {
        "coloraxis": {
         "colorbar": {
          "title": {
           "text": "rsi"
          }
         },
         "colorscale": [
          [
           0,
           "rgb(150,0,90)"
          ],
          [
           0.125,
           "rgb(0,0,200)"
          ],
          [
           0.25,
           "rgb(0,25,255)"
          ],
          [
           0.375,
           "rgb(0,152,255)"
          ],
          [
           0.5,
           "rgb(44,255,150)"
          ],
          [
           0.625,
           "rgb(151,255,0)"
          ],
          [
           0.75,
           "rgb(255,234,0)"
          ],
          [
           0.875,
           "rgb(255,111,0)"
          ],
          [
           1,
           "rgb(255,0,0)"
          ]
         ]
        },
        "height": 548,
        "legend": {
         "tracegroupgap": 0
        },
        "margin": {
         "b": 20,
         "l": 20,
         "r": 20,
         "t": 30
        },
        "plot_bgcolor": "#FFFFFF",
        "template": {
         "data": {
          "bar": [
           {
            "error_x": {
             "color": "#2a3f5f"
            },
            "error_y": {
             "color": "#2a3f5f"
            },
            "marker": {
             "line": {
              "color": "#E5ECF6",
              "width": 0.5
             },
             "pattern": {
              "fillmode": "overlay",
              "size": 10,
              "solidity": 0.2
             }
            },
            "type": "bar"
           }
          ],
          "barpolar": [
           {
            "marker": {
             "line": {
              "color": "#E5ECF6",
              "width": 0.5
             },
             "pattern": {
              "fillmode": "overlay",
              "size": 10,
              "solidity": 0.2
             }
            },
            "type": "barpolar"
           }
          ],
          "carpet": [
           {
            "aaxis": {
             "endlinecolor": "#2a3f5f",
             "gridcolor": "white",
             "linecolor": "white",
             "minorgridcolor": "white",
             "startlinecolor": "#2a3f5f"
            },
            "baxis": {
             "endlinecolor": "#2a3f5f",
             "gridcolor": "white",
             "linecolor": "white",
             "minorgridcolor": "white",
             "startlinecolor": "#2a3f5f"
            },
            "type": "carpet"
           }
          ],
          "choropleth": [
           {
            "colorbar": {
             "outlinewidth": 0,
             "ticks": ""
            },
            "type": "choropleth"
           }
          ],
          "contour": [
           {
            "colorbar": {
             "outlinewidth": 0,
             "ticks": ""
            },
            "colorscale": [
             [
              0,
              "#0d0887"
             ],
             [
              0.1111111111111111,
              "#46039f"
             ],
             [
              0.2222222222222222,
              "#7201a8"
             ],
             [
              0.3333333333333333,
              "#9c179e"
             ],
             [
              0.4444444444444444,
              "#bd3786"
             ],
             [
              0.5555555555555556,
              "#d8576b"
             ],
             [
              0.6666666666666666,
              "#ed7953"
             ],
             [
              0.7777777777777778,
              "#fb9f3a"
             ],
             [
              0.8888888888888888,
              "#fdca26"
             ],
             [
              1,
              "#f0f921"
             ]
            ],
            "type": "contour"
           }
          ],
          "contourcarpet": [
           {
            "colorbar": {
             "outlinewidth": 0,
             "ticks": ""
            },
            "type": "contourcarpet"
           }
          ],
          "heatmap": [
           {
            "colorbar": {
             "outlinewidth": 0,
             "ticks": ""
            },
            "colorscale": [
             [
              0,
              "#0d0887"
             ],
             [
              0.1111111111111111,
              "#46039f"
             ],
             [
              0.2222222222222222,
              "#7201a8"
             ],
             [
              0.3333333333333333,
              "#9c179e"
             ],
             [
              0.4444444444444444,
              "#bd3786"
             ],
             [
              0.5555555555555556,
              "#d8576b"
             ],
             [
              0.6666666666666666,
              "#ed7953"
             ],
             [
              0.7777777777777778,
              "#fb9f3a"
             ],
             [
              0.8888888888888888,
              "#fdca26"
             ],
             [
              1,
              "#f0f921"
             ]
            ],
            "type": "heatmap"
           }
          ],
          "heatmapgl": [
           {
            "colorbar": {
             "outlinewidth": 0,
             "ticks": ""
            },
            "colorscale": [
             [
              0,
              "#0d0887"
             ],
             [
              0.1111111111111111,
              "#46039f"
             ],
             [
              0.2222222222222222,
              "#7201a8"
             ],
             [
              0.3333333333333333,
              "#9c179e"
             ],
             [
              0.4444444444444444,
              "#bd3786"
             ],
             [
              0.5555555555555556,
              "#d8576b"
             ],
             [
              0.6666666666666666,
              "#ed7953"
             ],
             [
              0.7777777777777778,
              "#fb9f3a"
             ],
             [
              0.8888888888888888,
              "#fdca26"
             ],
             [
              1,
              "#f0f921"
             ]
            ],
            "type": "heatmapgl"
           }
          ],
          "histogram": [
           {
            "marker": {
             "pattern": {
              "fillmode": "overlay",
              "size": 10,
              "solidity": 0.2
             }
            },
            "type": "histogram"
           }
          ],
          "histogram2d": [
           {
            "colorbar": {
             "outlinewidth": 0,
             "ticks": ""
            },
            "colorscale": [
             [
              0,
              "#0d0887"
             ],
             [
              0.1111111111111111,
              "#46039f"
             ],
             [
              0.2222222222222222,
              "#7201a8"
             ],
             [
              0.3333333333333333,
              "#9c179e"
             ],
             [
              0.4444444444444444,
              "#bd3786"
             ],
             [
              0.5555555555555556,
              "#d8576b"
             ],
             [
              0.6666666666666666,
              "#ed7953"
             ],
             [
              0.7777777777777778,
              "#fb9f3a"
             ],
             [
              0.8888888888888888,
              "#fdca26"
             ],
             [
              1,
              "#f0f921"
             ]
            ],
            "type": "histogram2d"
           }
          ],
          "histogram2dcontour": [
           {
            "colorbar": {
             "outlinewidth": 0,
             "ticks": ""
            },
            "colorscale": [
             [
              0,
              "#0d0887"
             ],
             [
              0.1111111111111111,
              "#46039f"
             ],
             [
              0.2222222222222222,
              "#7201a8"
             ],
             [
              0.3333333333333333,
              "#9c179e"
             ],
             [
              0.4444444444444444,
              "#bd3786"
             ],
             [
              0.5555555555555556,
              "#d8576b"
             ],
             [
              0.6666666666666666,
              "#ed7953"
             ],
             [
              0.7777777777777778,
              "#fb9f3a"
             ],
             [
              0.8888888888888888,
              "#fdca26"
             ],
             [
              1,
              "#f0f921"
             ]
            ],
            "type": "histogram2dcontour"
           }
          ],
          "mesh3d": [
           {
            "colorbar": {
             "outlinewidth": 0,
             "ticks": ""
            },
            "type": "mesh3d"
           }
          ],
          "parcoords": [
           {
            "line": {
             "colorbar": {
              "outlinewidth": 0,
              "ticks": ""
             }
            },
            "type": "parcoords"
           }
          ],
          "pie": [
           {
            "automargin": true,
            "type": "pie"
           }
          ],
          "scatter": [
           {
            "marker": {
             "colorbar": {
              "outlinewidth": 0,
              "ticks": ""
             }
            },
            "type": "scatter"
           }
          ],
          "scatter3d": [
           {
            "line": {
             "colorbar": {
              "outlinewidth": 0,
              "ticks": ""
             }
            },
            "marker": {
             "colorbar": {
              "outlinewidth": 0,
              "ticks": ""
             }
            },
            "type": "scatter3d"
           }
          ],
          "scattercarpet": [
           {
            "marker": {
             "colorbar": {
              "outlinewidth": 0,
              "ticks": ""
             }
            },
            "type": "scattercarpet"
           }
          ],
          "scattergeo": [
           {
            "marker": {
             "colorbar": {
              "outlinewidth": 0,
              "ticks": ""
             }
            },
            "type": "scattergeo"
           }
          ],
          "scattergl": [
           {
            "marker": {
             "colorbar": {
              "outlinewidth": 0,
              "ticks": ""
             }
            },
            "type": "scattergl"
           }
          ],
          "scattermapbox": [
           {
            "marker": {
             "colorbar": {
              "outlinewidth": 0,
              "ticks": ""
             }
            },
            "type": "scattermapbox"
           }
          ],
          "scatterpolar": [
           {
            "marker": {
             "colorbar": {
              "outlinewidth": 0,
              "ticks": ""
             }
            },
            "type": "scatterpolar"
           }
          ],
          "scatterpolargl": [
           {
            "marker": {
             "colorbar": {
              "outlinewidth": 0,
              "ticks": ""
             }
            },
            "type": "scatterpolargl"
           }
          ],
          "scatterternary": [
           {
            "marker": {
             "colorbar": {
              "outlinewidth": 0,
              "ticks": ""
             }
            },
            "type": "scatterternary"
           }
          ],
          "surface": [
           {
            "colorbar": {
             "outlinewidth": 0,
             "ticks": ""
            },
            "colorscale": [
             [
              0,
              "#0d0887"
             ],
             [
              0.1111111111111111,
              "#46039f"
             ],
             [
              0.2222222222222222,
              "#7201a8"
             ],
             [
              0.3333333333333333,
              "#9c179e"
             ],
             [
              0.4444444444444444,
              "#bd3786"
             ],
             [
              0.5555555555555556,
              "#d8576b"
             ],
             [
              0.6666666666666666,
              "#ed7953"
             ],
             [
              0.7777777777777778,
              "#fb9f3a"
             ],
             [
              0.8888888888888888,
              "#fdca26"
             ],
             [
              1,
              "#f0f921"
             ]
            ],
            "type": "surface"
           }
          ],
          "table": [
           {
            "cells": {
             "fill": {
              "color": "#EBF0F8"
             },
             "line": {
              "color": "white"
             }
            },
            "header": {
             "fill": {
              "color": "#C8D4E3"
             },
             "line": {
              "color": "white"
             }
            },
            "type": "table"
           }
          ]
         },
         "layout": {
          "annotationdefaults": {
           "arrowcolor": "#2a3f5f",
           "arrowhead": 0,
           "arrowwidth": 1
          },
          "autotypenumbers": "strict",
          "coloraxis": {
           "colorbar": {
            "outlinewidth": 0,
            "ticks": ""
           }
          },
          "colorscale": {
           "diverging": [
            [
             0,
             "#8e0152"
            ],
            [
             0.1,
             "#c51b7d"
            ],
            [
             0.2,
             "#de77ae"
            ],
            [
             0.3,
             "#f1b6da"
            ],
            [
             0.4,
             "#fde0ef"
            ],
            [
             0.5,
             "#f7f7f7"
            ],
            [
             0.6,
             "#e6f5d0"
            ],
            [
             0.7,
             "#b8e186"
            ],
            [
             0.8,
             "#7fbc41"
            ],
            [
             0.9,
             "#4d9221"
            ],
            [
             1,
             "#276419"
            ]
           ],
           "sequential": [
            [
             0,
             "#0d0887"
            ],
            [
             0.1111111111111111,
             "#46039f"
            ],
            [
             0.2222222222222222,
             "#7201a8"
            ],
            [
             0.3333333333333333,
             "#9c179e"
            ],
            [
             0.4444444444444444,
             "#bd3786"
            ],
            [
             0.5555555555555556,
             "#d8576b"
            ],
            [
             0.6666666666666666,
             "#ed7953"
            ],
            [
             0.7777777777777778,
             "#fb9f3a"
            ],
            [
             0.8888888888888888,
             "#fdca26"
            ],
            [
             1,
             "#f0f921"
            ]
           ],
           "sequentialminus": [
            [
             0,
             "#0d0887"
            ],
            [
             0.1111111111111111,
             "#46039f"
            ],
            [
             0.2222222222222222,
             "#7201a8"
            ],
            [
             0.3333333333333333,
             "#9c179e"
            ],
            [
             0.4444444444444444,
             "#bd3786"
            ],
            [
             0.5555555555555556,
             "#d8576b"
            ],
            [
             0.6666666666666666,
             "#ed7953"
            ],
            [
             0.7777777777777778,
             "#fb9f3a"
            ],
            [
             0.8888888888888888,
             "#fdca26"
            ],
            [
             1,
             "#f0f921"
            ]
           ]
          },
          "colorway": [
           "#636efa",
           "#EF553B",
           "#00cc96",
           "#ab63fa",
           "#FFA15A",
           "#19d3f3",
           "#FF6692",
           "#B6E880",
           "#FF97FF",
           "#FECB52"
          ],
          "font": {
           "color": "#2a3f5f"
          },
          "geo": {
           "bgcolor": "white",
           "lakecolor": "white",
           "landcolor": "#E5ECF6",
           "showlakes": true,
           "showland": true,
           "subunitcolor": "white"
          },
          "hoverlabel": {
           "align": "left"
          },
          "hovermode": "closest",
          "mapbox": {
           "style": "light"
          },
          "paper_bgcolor": "white",
          "plot_bgcolor": "#E5ECF6",
          "polar": {
           "angularaxis": {
            "gridcolor": "white",
            "linecolor": "white",
            "ticks": ""
           },
           "bgcolor": "#E5ECF6",
           "radialaxis": {
            "gridcolor": "white",
            "linecolor": "white",
            "ticks": ""
           }
          },
          "scene": {
           "xaxis": {
            "backgroundcolor": "#E5ECF6",
            "gridcolor": "white",
            "gridwidth": 2,
            "linecolor": "white",
            "showbackground": true,
            "ticks": "",
            "zerolinecolor": "white"
           },
           "yaxis": {
            "backgroundcolor": "#E5ECF6",
            "gridcolor": "white",
            "gridwidth": 2,
            "linecolor": "white",
            "showbackground": true,
            "ticks": "",
            "zerolinecolor": "white"
           },
           "zaxis": {
            "backgroundcolor": "#E5ECF6",
            "gridcolor": "white",
            "gridwidth": 2,
            "linecolor": "white",
            "showbackground": true,
            "ticks": "",
            "zerolinecolor": "white"
           }
          },
          "shapedefaults": {
           "line": {
            "color": "#2a3f5f"
           }
          },
          "ternary": {
           "aaxis": {
            "gridcolor": "white",
            "linecolor": "white",
            "ticks": ""
           },
           "baxis": {
            "gridcolor": "white",
            "linecolor": "white",
            "ticks": ""
           },
           "bgcolor": "#E5ECF6",
           "caxis": {
            "gridcolor": "white",
            "linecolor": "white",
            "ticks": ""
           }
          },
          "title": {
           "x": 0.05
          },
          "xaxis": {
           "automargin": true,
           "gridcolor": "white",
           "linecolor": "white",
           "ticks": "",
           "title": {
            "standoff": 15
           },
           "zerolinecolor": "white",
           "zerolinewidth": 2
          },
          "yaxis": {
           "automargin": true,
           "gridcolor": "white",
           "linecolor": "white",
           "ticks": "",
           "title": {
            "standoff": 15
           },
           "zerolinecolor": "white",
           "zerolinewidth": 2
          }
         }
        },
        "xaxis": {
         "anchor": "y",
         "domain": [
          0,
          1
         ],
         "dtick": 0.1,
         "showgrid": false,
         "tick0": 0,
         "tickformat": ",.0%",
         "title": {
          "text": "2 Day Change"
         },
         "visible": true
        },
        "yaxis": {
         "anchor": "x",
         "domain": [
          0,
          1
         ],
         "dtick": 0.25,
         "showgrid": false,
         "tick0": 0,
         "tickformat": ",.0%",
         "title": {
          "text": "7 Day Change"
         },
         "visible": true
        }
       }
      }
     },
     "metadata": {}
    }
   ],
   "metadata": {}
  },
  {
   "cell_type": "code",
   "execution_count": 19,
   "source": [
    "app = JupyterDash(__name__)\r\n",
    "\r\n",
    "app.layout=html.Div([\r\n",
    "    # Left\r\n",
    "    html.Div(className=\"inline-block w-1/12 bg-white\",),\r\n",
    "    # Middle\r\n",
    "    html.Div([\r\n",
    "        html.Div([\r\n",
    "            # Header\r\n",
    "            html.Div([\r\n",
    "                html.Div(\"Dashboard\",className=\"lg-text\"),\r\n",
    "                html.Div(\"Updated as of xxxx\",className=\"sm-text\")\r\n",
    "            ],className=\"flex flex-col  mb-6\"),\r\n",
    "\r\n",
    "            # Trends Boxes\r\n",
    "            html.Div([\r\n",
    "                html.Div(\r\n",
    "                    html.Div([\r\n",
    "                        html.Div(\"Uptrend - Blueskies\",className=\"sm-text\"),\r\n",
    "                        html.Div(\"78\",className=\"text-5xl pt-2 pb-2 card-body\"),\r\n",
    "                        html.Div([\r\n",
    "                            html.Div([\r\n",
    "                                html.Img(src=\"./assets/up.svg\",className=\"w-2 h-3\")\r\n",
    "                            ],className=\"bg-green-300 w-4 h-4 rounded-full flex items-center justify-center\"),\r\n",
    "                            html.Div(\"+\",className=\"text-sm\",style={'color':'#1BCA8E','fontFamily': 'Roboto'}),\r\n",
    "                            html.Div(\"69.12%\",className=\"text-sm\",style={'color':'#1BCA8E','fontFamily': 'Roboto'})\r\n",
    "                        ],className=\"flex space-x-1 items-center flex-row\"),\r\n",
    "                    ],className=\"flex flex-col items-center\"),className=\"card bg-white\"),\r\n",
    "\r\n",
    "                    \r\n",
    "                html.Div(\r\n",
    "                    html.Div([\r\n",
    "                        html.Div(\"Uptrend - Retrace\",className=\"sm-text\"),\r\n",
    "                        html.Div(\"78\",className=\"text-5xl pt-2 pb-2 card-body\"),\r\n",
    "                        html.Div([\r\n",
    "                            html.Div([\r\n",
    "                                html.Img(src=\"./assets/up.svg\",className=\"w-2 h-3\")\r\n",
    "                            ],className=\"bg-green-300 w-4 h-4 rounded-full flex items-center justify-center\"),\r\n",
    "                            html.Div(\"+\",className=\"text-sm\",style={'color':'#1BCA8E','fontFamily': 'Roboto'}),\r\n",
    "                            html.Div(\"69.12%\",className=\"text-sm\",style={'color':'#1BCA8E','fontFamily': 'Roboto'})\r\n",
    "                        ],className=\"flex space-x-1 items-center flex-row\"),\r\n",
    "                    ],className=\"flex flex-col items-center\"),className=\"card bg-white\"),\r\n",
    "\r\n",
    "                html.Div(\r\n",
    "                    html.Div([\r\n",
    "                        html.Div(\"Sideways - Reset\",className=\"sm-text\"),\r\n",
    "                        html.Div(\"78\",className=\"text-5xl pt-2 pb-2 card-body\"),\r\n",
    "                        html.Div([\r\n",
    "                            html.Div([\r\n",
    "                                html.Img(src=\"./assets/up.svg\",className=\"w-2 h-3\")\r\n",
    "                            ],className=\"bg-green-300 w-4 h-4 rounded-full flex items-center justify-center\"),\r\n",
    "                            html.Div(\"+\",className=\"text-sm\",style={'color':'#1BCA8E','fontFamily': 'Roboto'}),\r\n",
    "                            html.Div(\"69.12%\",className=\"text-sm\",style={'color':'#1BCA8E','fontFamily': 'Roboto'})\r\n",
    "                        ],className=\"flex space-x-1 items-center flex-row\"),\r\n",
    "                    ],className=\"flex flex-col items-center\"),className=\"card bg-white\"),\r\n",
    "                \r\n",
    "                html.Div(\r\n",
    "                    html.Div([\r\n",
    "                        html.Div(\"Sideways - Reversal\",className=\"sm-text\"),\r\n",
    "                        html.Div(\"78\",className=\"text-5xl pt-2 pb-2 card-body\"),\r\n",
    "                        html.Div([\r\n",
    "                            html.Div([\r\n",
    "                                html.Img(src=\"./assets/up.svg\",className=\"w-2 h-3\")\r\n",
    "                            ],className=\"bg-green-300 w-4 h-4 rounded-full flex items-center justify-center\"),\r\n",
    "                            html.Div(\"+\",className=\"text-sm\",style={'color':'#1BCA8E','fontFamily': 'Roboto'}),\r\n",
    "                            html.Div(\"69.12%\",className=\"text-sm\",style={'color':'#1BCA8E','fontFamily': 'Roboto'})\r\n",
    "                        ],className=\"flex space-x-1 items-center flex-row\"),\r\n",
    "                    ],className=\"flex flex-col items-center\"),className=\"card bg-white\"),\r\n",
    "\r\n",
    "                html.Div(\r\n",
    "                    html.Div([\r\n",
    "                        html.Div(\"Downtrend\",className=\"sm-text\"),\r\n",
    "                        html.Div(\"78\",className=\"text-5xl pt-2 pb-2 card-body\"),\r\n",
    "                        html.Div([\r\n",
    "                            html.Div([\r\n",
    "                                html.Img(src=\"./assets/up.svg\",className=\"w-2 h-3\")\r\n",
    "                            ],className=\"bg-green-300 w-4 h-4 rounded-full flex items-center justify-center\"),\r\n",
    "                            html.Div(\"+\",className=\"text-sm\",style={'color':'#1BCA8E','fontFamily': 'Roboto'}),\r\n",
    "                            html.Div(\"69.12%\",className=\"text-sm\",style={'color':'#1BCA8E','fontFamily': 'Roboto'})\r\n",
    "                        ],className=\"flex space-x-1 items-center flex-row\"),\r\n",
    "                    ],className=\"flex flex-col items-center\"),className=\"card bg-white\"),\r\n",
    "            \r\n",
    "            ],className=\"flex flex-row justify-between mb-5\"),\r\n",
    "            \r\n",
    "            # Scatter Plots\r\n",
    "            html.Div([\r\n",
    "                \r\n",
    "                html.Div([\r\n",
    "                    html.Div(\"Scatter (2d x 7d)\",className=\"md-text\"),\r\n",
    "                    html.Div([\r\n",
    "                        dcc.Graph(\r\n",
    "                            id=\"scatter-2d-vs-7d\",\r\n",
    "                            figure = ll,\r\n",
    "                        )],className=\" flex-grow rounded-lg shadow-md bg-white\"),\r\n",
    "                ],className=\" flex flex-col w-full h-144\"),\r\n",
    "\r\n",
    "                \r\n",
    "\r\n",
    "            \r\n",
    "            \r\n",
    "            ],className=\"flex flex-row space-x-4 mb-5 \"),\r\n",
    "\r\n",
    "            # Trends of Trends and Sentiment\r\n",
    "            html.Div([\r\n",
    "\r\n",
    "                # Trend of Trends\r\n",
    "                html.Div([\r\n",
    "                    html.Div([\r\n",
    "                        html.Div(\"Pie of Trends\", className=\"md-text\"),\r\n",
    "                        html.Div([\r\n",
    "                             dcc.Graph(\r\n",
    "                                id=\"pie-trend-of-trends\",\r\n",
    "                                figure=pie_fig\r\n",
    "                            )],className=\"flex-grow rounded-lg shadow-md bg-white\"),\r\n",
    "                    ],className=\"flex flex-col w-1/2 h-80\"),\r\n",
    "                    \r\n",
    "                    html.Div([\r\n",
    "                        html.Div(\"Sentiment Gauge\", className=\"md-text\"),\r\n",
    "                        html.Div([\r\n",
    "                            # daq.Gauge(\r\n",
    "                            #     id=\"sentiment-gauge\",\r\n",
    "                            #     label=\"Sentiment Gauge\",\r\n",
    "                            #     color={\"gradient\":True,\"ranges\":{\"red\":[0,50],\"yellow\":[50,75],\"green\":[75,100]}},\r\n",
    "                            #     showCurrentValue = True,\r\n",
    "                            #     value=sentiment['bullish']/(sentiment['bullish']+sentiment['bearish'])*100,\r\n",
    "                            #     min=0,\r\n",
    "                            #     max=100\r\n",
    "                            # )],id=\"gaugeeee\",className=\"flex-grow rounded-lg shadow-md bg-main-gray\"),\r\n",
    "                            daq.Gauge(\r\n",
    "                                id=\"sentiment-gauge\",\r\n",
    "                                label =\" \",\r\n",
    "                                color={\"gradient\":True,\"ranges\":{\"red\":[0,50],\"yellow\":[50,75],\"green\":[75,100]}},\r\n",
    "                                showCurrentValue = True,\r\n",
    "                                value=sentiment['bullish']/(sentiment['bullish']+sentiment['bearish'])*100,\r\n",
    "                                min=0,\r\n",
    "                                max=100,\r\n",
    "    \r\n",
    "                            )],id=\"gaugeeee\",className=\"flex-grow rounded-lg shadow-md bg-white pt-5\",style={'height':280}),\r\n",
    "                            \r\n",
    "                    ],className=\"flex flex-col w-1/2 h-80\")\r\n",
    "\r\n",
    "                ],className=\"flex flex-row w-1/2 space-x-4 h-80 \"),\r\n",
    "\r\n",
    "                html.Div([\r\n",
    "                    html.Div(\"Trend of Trends\", className=\"md-text\"),\r\n",
    "                    html.Div([\r\n",
    "                        dcc.Graph(\r\n",
    "                        id='line-trend-of-trends',\r\n",
    "                        figure=line_fig\r\n",
    "                    )],className=\"flex-grow rounded-lg shadow-md bg-white\"),\r\n",
    "                ],className=\"flex flex-col w-1/2 h-80\")\r\n",
    "               \r\n",
    "            \r\n",
    "            ],className=\"flex flex-row space-x-4 h-80\"),\r\n",
    "        ],className=\"mt-8 mb-8\")\r\n",
    "        \r\n",
    "\r\n",
    "    ],id=\"MIDDLE\",className=\"flex flex-col w-11/12 pl-24 pr-24 bg-frame-gray\"),\r\n",
    "\r\n",
    "    # Right\r\n",
    "    # html.Div(className=\"inline-block w-1/12 bg-white\"),\r\n",
    "\r\n",
    "\r\n",
    "],className=\"flex flex-row h-screen\",)\r\n",
    "\r\n",
    "app.run_server(port=6969)"
   ],
   "outputs": [
    {
     "output_type": "error",
     "ename": "NameError",
     "evalue": "name 'ffig' is not defined",
     "traceback": [
      "\u001b[1;31m---------------------------------------------------------------------------\u001b[0m",
      "\u001b[1;31mNameError\u001b[0m                                 Traceback (most recent call last)",
      "\u001b[1;32m~\\AppData\\Local\\Temp/ipykernel_2904/2706680404.py\u001b[0m in \u001b[0;36m<module>\u001b[1;34m\u001b[0m\n\u001b[0;32m     91\u001b[0m                         dcc.Graph(\n\u001b[0;32m     92\u001b[0m                             \u001b[0mid\u001b[0m\u001b[1;33m=\u001b[0m\u001b[1;34m\"scatter-2d-vs-7d\"\u001b[0m\u001b[1;33m,\u001b[0m\u001b[1;33m\u001b[0m\u001b[1;33m\u001b[0m\u001b[0m\n\u001b[1;32m---> 93\u001b[1;33m                             \u001b[0mfigure\u001b[0m \u001b[1;33m=\u001b[0m \u001b[0mffig\u001b[0m\u001b[1;33m,\u001b[0m\u001b[1;33m\u001b[0m\u001b[1;33m\u001b[0m\u001b[0m\n\u001b[0m\u001b[0;32m     94\u001b[0m                         )],className=\" flex-grow rounded-lg shadow-md bg-white\"),\n\u001b[0;32m     95\u001b[0m                 ],className=\" flex flex-col w-full h-144\"),\n",
      "\u001b[1;31mNameError\u001b[0m: name 'ffig' is not defined"
     ]
    }
   ],
   "metadata": {}
  },
  {
   "cell_type": "code",
   "execution_count": null,
   "source": [
    "'''\r\n",
    "TODO: Style Charts\r\n",
    "TODO: Connect to a Database\r\n",
    "TODO: Add Refresh Button ?\r\n",
    "'''\r\n"
   ],
   "outputs": [
    {
     "output_type": "execute_result",
     "data": {
      "text/plain": [
       "'\\nTODO: Style Charts\\nTODO: Connect to a Database\\nTODO: Add Refresh Button ?\\n'"
      ]
     },
     "metadata": {},
     "execution_count": 46
    }
   ],
   "metadata": {}
  }
 ],
 "metadata": {
  "interpreter": {
   "hash": "63fd5069d213b44bf678585dea6b12cceca9941eaf7f819626cde1f2670de90d"
  },
  "kernelspec": {
   "name": "python3",
   "display_name": "Python 3.9.1 64-bit"
  },
  "language_info": {
   "codemirror_mode": {
    "name": "ipython",
    "version": 3
   },
   "file_extension": ".py",
   "mimetype": "text/x-python",
   "name": "python",
   "nbconvert_exporter": "python",
   "pygments_lexer": "ipython3",
   "version": "3.9.1"
  }
 },
 "nbformat": 4,
 "nbformat_minor": 2
}